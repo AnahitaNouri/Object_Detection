{
 "cells": [
  {
   "cell_type": "markdown",
   "metadata": {},
   "source": [
    "# Prosessing data\n"
   ]
  },
  {
   "cell_type": "code",
   "execution_count": 20,
   "metadata": {},
   "outputs": [
    {
     "name": "stderr",
     "output_type": "stream",
     "text": [
      "Processing train: 100%|██████████| 18/18 [00:10<00:00,  1.75it/s]\n",
      "Processing val: 100%|██████████| 3/3 [00:01<00:00,  1.68it/s]\n",
      "Processing test: 100%|██████████| 6/6 [00:02<00:00,  2.47it/s]\n"
     ]
    }
   ],
   "source": [
    "import os\n",
    "import json\n",
    "from PIL import Image\n",
    "from tqdm import tqdm\n",
    "\n",
    "def convert_cityscapes_to_yolo(cityscapes_path, output_path):\n",
    "    # Define the classes we want to detect\n",
    "    classes = ['person', 'rider', 'car', 'truck', 'bus', 'train', 'motorcycle', 'bicycle']\n",
    "    \n",
    "    # Process each split (train, val, test)\n",
    "    for split in ['train', 'val', 'test']:\n",
    "        # Create output directory for labels\n",
    "        split_output_path = os.path.join(output_path, split)\n",
    "        os.makedirs(split_output_path, exist_ok=True)\n",
    "\n",
    "        img_dir = os.path.join(cityscapes_path, 'leftImg8bit_trainvaltest', 'leftImg8bit', split)\n",
    "        annotation_dir = os.path.join(cityscapes_path, 'gtFine_trainvaltest', 'gtFine', split)\n",
    "\n",
    "        for city in tqdm(os.listdir(img_dir), desc=f\"Processing {split}\"):\n",
    "            city_img_dir = os.path.join(img_dir, city)\n",
    "            city_annotation_dir = os.path.join(annotation_dir, city)\n",
    "            \n",
    "            # Create output directory for the city\n",
    "            city_output_path = os.path.join(split_output_path, city)\n",
    "            os.makedirs(city_output_path, exist_ok=True)\n",
    "\n",
    "            for filename in os.listdir(city_img_dir):\n",
    "                if filename.endswith('_leftImg8bit.png'):\n",
    "                    # Get image path\n",
    "                    img_path = os.path.join(city_img_dir, filename)\n",
    "                    \n",
    "                    # Get corresponding annotation file\n",
    "                    annotation_file = filename.replace('_leftImg8bit.png', '_gtFine_polygons.json')\n",
    "                    annotation_path = os.path.join(city_annotation_dir, annotation_file)\n",
    "\n",
    "                    # Read image dimensions\n",
    "                    with Image.open(img_path) as img:\n",
    "                        width, height = img.size\n",
    "\n",
    "                    # Read annotation\n",
    "                    with open(annotation_path, 'r') as f:\n",
    "                        annotation = json.load(f)\n",
    "\n",
    "                    # Create YOLO annotation file\n",
    "                    yolo_annotation = []\n",
    "                    for obj in annotation['objects']:\n",
    "                        if obj['label'] in classes:\n",
    "                            class_id = classes.index(obj['label'])\n",
    "                            polygon = obj['polygon']\n",
    "                            \n",
    "                            # Convert polygon to bounding box\n",
    "                            x_coords = [p[0] for p in polygon]\n",
    "                            y_coords = [p[1] for p in polygon]\n",
    "                            x_min, x_max = min(x_coords), max(x_coords)\n",
    "                            y_min, y_max = min(y_coords), max(y_coords)\n",
    "\n",
    "                            # Convert to YOLO format\n",
    "                            x_center = (x_min + x_max) / (2 * width)\n",
    "                            y_center = (y_min + y_max) / (2 * height)\n",
    "                            box_width = (x_max - x_min) / width\n",
    "                            box_height = (y_max - y_min) / height\n",
    "\n",
    "                            yolo_annotation.append(f\"{class_id} {x_center} {y_center} {box_width} {box_height}\")\n",
    "\n",
    "                    # Save YOLO annotation\n",
    "                    yolo_filename = filename.replace('.png', '.txt')\n",
    "                    with open(os.path.join(city_output_path, yolo_filename), 'w') as f:\n",
    "                        f.write('\\n'.join(yolo_annotation))\n",
    "\n",
    "if __name__ == \"__main__\":\n",
    "    cityscapes_path = '/teamspace/studios/this_studio/CityScapes_dataset'\n",
    "    output_path = '/teamspace/studios/this_studio/dataset/labels'\n",
    "    convert_cityscapes_to_yolo(cityscapes_path, output_path)\n"
   ]
  },
  {
   "cell_type": "markdown",
   "metadata": {},
   "source": [
    "# YOLOv5"
   ]
  },
  {
   "cell_type": "code",
   "execution_count": 3,
   "metadata": {},
   "outputs": [
    {
     "name": "stdout",
     "output_type": "stream",
     "text": [
      "Cloning into 'yolov5'...\n",
      "\n"
     ]
    }
   ],
   "source": [
    "!git clone https://github.com/ultralytics/yolov5"
   ]
  },
  {
   "cell_type": "code",
   "execution_count": 4,
   "metadata": {},
   "outputs": [
    {
     "name": "stdout",
     "output_type": "stream",
     "text": [
      "/teamspace/studios/this_studio/yolov5\n"
     ]
    },
    {
     "name": "stderr",
     "output_type": "stream",
     "text": [
      "/home/zeus/miniconda3/envs/cloudspace/lib/python3.10/site-packages/IPython/core/magics/osm.py:417: UserWarning: using dhist requires you to install the `pickleshare` library.\n",
      "  self.shell.db['dhist'] = compress_dhist(dhist)[-100:]\n"
     ]
    }
   ],
   "source": [
    "cd yolov5/"
   ]
  },
  {
   "cell_type": "code",
   "execution_count": 5,
   "metadata": {},
   "outputs": [
    {
     "name": "stdout",
     "output_type": "stream",
     "text": [
      "Collecting gitpython>=3.1.30 (from -r requirements.txt (line 5))\n",
      "  Downloading GitPython-3.1.43-py3-none-any.whl.metadata (13 kB)\n",
      "Requirement already satisfied: matplotlib>=3.3 in /system/conda/miniconda3/envs/cloudspace/lib/python3.10/site-packages (from -r requirements.txt (line 6)) (3.8.2)\n",
      "Requirement already satisfied: numpy>=1.23.5 in /system/conda/miniconda3/envs/cloudspace/lib/python3.10/site-packages (from -r requirements.txt (line 7)) (1.26.2)\n",
      "Requirement already satisfied: opencv-python>=4.1.1 in /system/conda/miniconda3/envs/cloudspace/lib/python3.10/site-packages (from -r requirements.txt (line 8)) (4.10.0.84)\n",
      "Requirement already satisfied: pillow>=10.3.0 in /system/conda/miniconda3/envs/cloudspace/lib/python3.10/site-packages (from -r requirements.txt (line 9)) (10.3.0)\n",
      "Requirement already satisfied: psutil in /system/conda/miniconda3/envs/cloudspace/lib/python3.10/site-packages (from -r requirements.txt (line 10)) (5.9.8)\n",
      "Requirement already satisfied: PyYAML>=5.3.1 in /system/conda/miniconda3/envs/cloudspace/lib/python3.10/site-packages (from -r requirements.txt (line 11)) (6.0.1)\n",
      "Requirement already satisfied: requests>=2.32.0 in /system/conda/miniconda3/envs/cloudspace/lib/python3.10/site-packages (from -r requirements.txt (line 12)) (2.32.3)\n",
      "Requirement already satisfied: scipy>=1.4.1 in /system/conda/miniconda3/envs/cloudspace/lib/python3.10/site-packages (from -r requirements.txt (line 13)) (1.11.4)\n",
      "Collecting thop>=0.1.1 (from -r requirements.txt (line 14))\n",
      "  Downloading thop-0.1.1.post2209072238-py3-none-any.whl.metadata (2.7 kB)\n",
      "Requirement already satisfied: torch>=1.8.0 in /system/conda/miniconda3/envs/cloudspace/lib/python3.10/site-packages (from -r requirements.txt (line 15)) (2.2.1+cu121)\n",
      "Requirement already satisfied: torchvision>=0.9.0 in /system/conda/miniconda3/envs/cloudspace/lib/python3.10/site-packages (from -r requirements.txt (line 16)) (0.17.1+cu121)\n",
      "Requirement already satisfied: tqdm>=4.64.0 in /system/conda/miniconda3/envs/cloudspace/lib/python3.10/site-packages (from -r requirements.txt (line 17)) (4.66.4)\n",
      "Collecting ultralytics>=8.2.34 (from -r requirements.txt (line 18))\n",
      "  Downloading ultralytics-8.2.38-py3-none-any.whl.metadata (41 kB)\n",
      "\u001b[2K     \u001b[90m━━━━━━━━━━━━━━━━━━━━━━━━━━━━━━━━━━━━━━━━\u001b[0m \u001b[32m41.3/41.3 kB\u001b[0m \u001b[31m4.7 MB/s\u001b[0m eta \u001b[36m0:00:00\u001b[0m\n",
      "\u001b[?25hRequirement already satisfied: pandas>=1.1.4 in /system/conda/miniconda3/envs/cloudspace/lib/python3.10/site-packages (from -r requirements.txt (line 27)) (2.1.4)\n",
      "Collecting seaborn>=0.11.0 (from -r requirements.txt (line 28))\n",
      "  Downloading seaborn-0.13.2-py3-none-any.whl.metadata (5.4 kB)\n",
      "Requirement already satisfied: setuptools>=65.5.1 in /system/conda/miniconda3/envs/cloudspace/lib/python3.10/site-packages (from -r requirements.txt (line 42)) (69.5.1)\n",
      "Collecting gitdb<5,>=4.0.1 (from gitpython>=3.1.30->-r requirements.txt (line 5))\n",
      "  Downloading gitdb-4.0.11-py3-none-any.whl.metadata (1.2 kB)\n",
      "Requirement already satisfied: contourpy>=1.0.1 in /system/conda/miniconda3/envs/cloudspace/lib/python3.10/site-packages (from matplotlib>=3.3->-r requirements.txt (line 6)) (1.2.1)\n",
      "Requirement already satisfied: cycler>=0.10 in /system/conda/miniconda3/envs/cloudspace/lib/python3.10/site-packages (from matplotlib>=3.3->-r requirements.txt (line 6)) (0.12.1)\n",
      "Requirement already satisfied: fonttools>=4.22.0 in /system/conda/miniconda3/envs/cloudspace/lib/python3.10/site-packages (from matplotlib>=3.3->-r requirements.txt (line 6)) (4.53.0)\n",
      "Requirement already satisfied: kiwisolver>=1.3.1 in /system/conda/miniconda3/envs/cloudspace/lib/python3.10/site-packages (from matplotlib>=3.3->-r requirements.txt (line 6)) (1.4.5)\n",
      "Requirement already satisfied: packaging>=20.0 in /system/conda/miniconda3/envs/cloudspace/lib/python3.10/site-packages (from matplotlib>=3.3->-r requirements.txt (line 6)) (24.1)\n",
      "Requirement already satisfied: pyparsing>=2.3.1 in /system/conda/miniconda3/envs/cloudspace/lib/python3.10/site-packages (from matplotlib>=3.3->-r requirements.txt (line 6)) (3.1.2)\n",
      "Requirement already satisfied: python-dateutil>=2.7 in /system/conda/miniconda3/envs/cloudspace/lib/python3.10/site-packages (from matplotlib>=3.3->-r requirements.txt (line 6)) (2.9.0.post0)\n",
      "Requirement already satisfied: charset-normalizer<4,>=2 in /system/conda/miniconda3/envs/cloudspace/lib/python3.10/site-packages (from requests>=2.32.0->-r requirements.txt (line 12)) (3.3.2)\n",
      "Requirement already satisfied: idna<4,>=2.5 in /system/conda/miniconda3/envs/cloudspace/lib/python3.10/site-packages (from requests>=2.32.0->-r requirements.txt (line 12)) (3.7)\n",
      "Requirement already satisfied: urllib3<3,>=1.21.1 in /system/conda/miniconda3/envs/cloudspace/lib/python3.10/site-packages (from requests>=2.32.0->-r requirements.txt (line 12)) (2.2.1)\n",
      "Requirement already satisfied: certifi>=2017.4.17 in /system/conda/miniconda3/envs/cloudspace/lib/python3.10/site-packages (from requests>=2.32.0->-r requirements.txt (line 12)) (2024.6.2)\n",
      "Requirement already satisfied: filelock in /system/conda/miniconda3/envs/cloudspace/lib/python3.10/site-packages (from torch>=1.8.0->-r requirements.txt (line 15)) (3.15.1)\n",
      "Requirement already satisfied: typing-extensions>=4.8.0 in /system/conda/miniconda3/envs/cloudspace/lib/python3.10/site-packages (from torch>=1.8.0->-r requirements.txt (line 15)) (4.12.2)\n",
      "Requirement already satisfied: sympy in /system/conda/miniconda3/envs/cloudspace/lib/python3.10/site-packages (from torch>=1.8.0->-r requirements.txt (line 15)) (1.12.1)\n",
      "Requirement already satisfied: networkx in /system/conda/miniconda3/envs/cloudspace/lib/python3.10/site-packages (from torch>=1.8.0->-r requirements.txt (line 15)) (3.3)\n",
      "Requirement already satisfied: jinja2 in /system/conda/miniconda3/envs/cloudspace/lib/python3.10/site-packages (from torch>=1.8.0->-r requirements.txt (line 15)) (3.1.4)\n",
      "Requirement already satisfied: fsspec in /system/conda/miniconda3/envs/cloudspace/lib/python3.10/site-packages (from torch>=1.8.0->-r requirements.txt (line 15)) (2024.6.0)\n",
      "Requirement already satisfied: nvidia-cuda-nvrtc-cu12==12.1.105 in /system/conda/miniconda3/envs/cloudspace/lib/python3.10/site-packages (from torch>=1.8.0->-r requirements.txt (line 15)) (12.1.105)\n",
      "Requirement already satisfied: nvidia-cuda-runtime-cu12==12.1.105 in /system/conda/miniconda3/envs/cloudspace/lib/python3.10/site-packages (from torch>=1.8.0->-r requirements.txt (line 15)) (12.1.105)\n",
      "Requirement already satisfied: nvidia-cuda-cupti-cu12==12.1.105 in /system/conda/miniconda3/envs/cloudspace/lib/python3.10/site-packages (from torch>=1.8.0->-r requirements.txt (line 15)) (12.1.105)\n",
      "Requirement already satisfied: nvidia-cudnn-cu12==8.9.2.26 in /system/conda/miniconda3/envs/cloudspace/lib/python3.10/site-packages (from torch>=1.8.0->-r requirements.txt (line 15)) (8.9.2.26)\n",
      "Requirement already satisfied: nvidia-cublas-cu12==12.1.3.1 in /system/conda/miniconda3/envs/cloudspace/lib/python3.10/site-packages (from torch>=1.8.0->-r requirements.txt (line 15)) (12.1.3.1)\n",
      "Requirement already satisfied: nvidia-cufft-cu12==11.0.2.54 in /system/conda/miniconda3/envs/cloudspace/lib/python3.10/site-packages (from torch>=1.8.0->-r requirements.txt (line 15)) (11.0.2.54)\n",
      "Requirement already satisfied: nvidia-curand-cu12==10.3.2.106 in /system/conda/miniconda3/envs/cloudspace/lib/python3.10/site-packages (from torch>=1.8.0->-r requirements.txt (line 15)) (10.3.2.106)\n",
      "Requirement already satisfied: nvidia-cusolver-cu12==11.4.5.107 in /system/conda/miniconda3/envs/cloudspace/lib/python3.10/site-packages (from torch>=1.8.0->-r requirements.txt (line 15)) (11.4.5.107)\n",
      "Requirement already satisfied: nvidia-cusparse-cu12==12.1.0.106 in /system/conda/miniconda3/envs/cloudspace/lib/python3.10/site-packages (from torch>=1.8.0->-r requirements.txt (line 15)) (12.1.0.106)\n",
      "Requirement already satisfied: nvidia-nccl-cu12==2.19.3 in /system/conda/miniconda3/envs/cloudspace/lib/python3.10/site-packages (from torch>=1.8.0->-r requirements.txt (line 15)) (2.19.3)\n",
      "Requirement already satisfied: nvidia-nvtx-cu12==12.1.105 in /system/conda/miniconda3/envs/cloudspace/lib/python3.10/site-packages (from torch>=1.8.0->-r requirements.txt (line 15)) (12.1.105)\n",
      "Requirement already satisfied: triton==2.2.0 in /system/conda/miniconda3/envs/cloudspace/lib/python3.10/site-packages (from torch>=1.8.0->-r requirements.txt (line 15)) (2.2.0)\n",
      "Requirement already satisfied: nvidia-nvjitlink-cu12 in /system/conda/miniconda3/envs/cloudspace/lib/python3.10/site-packages (from nvidia-cusolver-cu12==11.4.5.107->torch>=1.8.0->-r requirements.txt (line 15)) (12.5.40)\n",
      "Collecting py-cpuinfo (from ultralytics>=8.2.34->-r requirements.txt (line 18))\n",
      "  Downloading py_cpuinfo-9.0.0-py3-none-any.whl.metadata (794 bytes)\n",
      "Collecting ultralytics-thop>=2.0.0 (from ultralytics>=8.2.34->-r requirements.txt (line 18))\n",
      "  Downloading ultralytics_thop-2.0.0-py3-none-any.whl.metadata (8.5 kB)\n",
      "Requirement already satisfied: pytz>=2020.1 in /system/conda/miniconda3/envs/cloudspace/lib/python3.10/site-packages (from pandas>=1.1.4->-r requirements.txt (line 27)) (2024.1)\n",
      "Requirement already satisfied: tzdata>=2022.1 in /system/conda/miniconda3/envs/cloudspace/lib/python3.10/site-packages (from pandas>=1.1.4->-r requirements.txt (line 27)) (2024.1)\n",
      "Collecting smmap<6,>=3.0.1 (from gitdb<5,>=4.0.1->gitpython>=3.1.30->-r requirements.txt (line 5))\n",
      "  Downloading smmap-5.0.1-py3-none-any.whl.metadata (4.3 kB)\n",
      "Requirement already satisfied: six>=1.5 in /system/conda/miniconda3/envs/cloudspace/lib/python3.10/site-packages (from python-dateutil>=2.7->matplotlib>=3.3->-r requirements.txt (line 6)) (1.16.0)\n",
      "Requirement already satisfied: MarkupSafe>=2.0 in /system/conda/miniconda3/envs/cloudspace/lib/python3.10/site-packages (from jinja2->torch>=1.8.0->-r requirements.txt (line 15)) (2.1.5)\n",
      "Requirement already satisfied: mpmath<1.4.0,>=1.1.0 in /system/conda/miniconda3/envs/cloudspace/lib/python3.10/site-packages (from sympy->torch>=1.8.0->-r requirements.txt (line 15)) (1.3.0)\n",
      "Downloading GitPython-3.1.43-py3-none-any.whl (207 kB)\n",
      "\u001b[2K   \u001b[90m━━━━━━━━━━━━━━━━━━━━━━━━━━━━━━━━━━━━━━━━\u001b[0m \u001b[32m207.3/207.3 kB\u001b[0m \u001b[31m21.4 MB/s\u001b[0m eta \u001b[36m0:00:00\u001b[0m\n",
      "\u001b[?25hDownloading thop-0.1.1.post2209072238-py3-none-any.whl (15 kB)\n",
      "Downloading ultralytics-8.2.38-py3-none-any.whl (792 kB)\n",
      "\u001b[2K   \u001b[90m━━━━━━━━━━━━━━━━━━━━━━━━━━━━━━━━━━━━━━━━\u001b[0m \u001b[32m792.5/792.5 kB\u001b[0m \u001b[31m36.6 MB/s\u001b[0m eta \u001b[36m0:00:00\u001b[0m\n",
      "\u001b[?25hDownloading seaborn-0.13.2-py3-none-any.whl (294 kB)\n",
      "\u001b[2K   \u001b[90m━━━━━━━━━━━━━━━━━━━━━━━━━━━━━━━━━━━━━━━━\u001b[0m \u001b[32m294.9/294.9 kB\u001b[0m \u001b[31m18.7 MB/s\u001b[0m eta \u001b[36m0:00:00\u001b[0m\n",
      "\u001b[?25hDownloading gitdb-4.0.11-py3-none-any.whl (62 kB)\n",
      "\u001b[2K   \u001b[90m━━━━━━━━━━━━━━━━━━━━━━━━━━━━━━━━━━━━━━━━\u001b[0m \u001b[32m62.7/62.7 kB\u001b[0m \u001b[31m6.1 MB/s\u001b[0m eta \u001b[36m0:00:00\u001b[0m\n",
      "\u001b[?25hDownloading ultralytics_thop-2.0.0-py3-none-any.whl (25 kB)\n",
      "Downloading py_cpuinfo-9.0.0-py3-none-any.whl (22 kB)\n",
      "Downloading smmap-5.0.1-py3-none-any.whl (24 kB)\n",
      "Installing collected packages: py-cpuinfo, smmap, gitdb, seaborn, gitpython, ultralytics-thop, thop, ultralytics\n",
      "Successfully installed gitdb-4.0.11 gitpython-3.1.43 py-cpuinfo-9.0.0 seaborn-0.13.2 smmap-5.0.1 thop-0.1.1.post2209072238 ultralytics-8.2.38 ultralytics-thop-2.0.0\n"
     ]
    }
   ],
   "source": [
    "!pip install -r requirements.txt"
   ]
  },
  {
   "cell_type": "code",
   "execution_count": 1,
   "metadata": {},
   "outputs": [
    {
     "name": "stdout",
     "output_type": "stream",
     "text": [
      "\u001b[0m\u001b[01;34mCityScapes_dataset\u001b[0m/       \u001b[01;34mDatasetzips\u001b[0m/    \u001b[01;32mindex.html\u001b[0m*\n",
      "\u001b[01;32mComputer_Vision.ipynb\u001b[0m*    \u001b[01;34mYolov5_Labels\u001b[0m/  \u001b[01;32mindex.html.1\u001b[0m*\n",
      "\u001b[01;32mComputer_Vision_2.ipynb\u001b[0m*  \u001b[01;32mcookies.txt\u001b[0m*    \u001b[01;34myolov5\u001b[0m/\n"
     ]
    }
   ],
   "source": [
    "ls"
   ]
  },
  {
   "cell_type": "code",
   "execution_count": 2,
   "metadata": {},
   "outputs": [
    {
     "name": "stdout",
     "output_type": "stream",
     "text": [
      "/teamspace/studios/this_studio/yolov5\n"
     ]
    },
    {
     "name": "stderr",
     "output_type": "stream",
     "text": [
      "/home/zeus/miniconda3/envs/cloudspace/lib/python3.10/site-packages/IPython/core/magics/osm.py:417: UserWarning: using dhist requires you to install the `pickleshare` library.\n",
      "  self.shell.db['dhist'] = compress_dhist(dhist)[-100:]\n"
     ]
    }
   ],
   "source": [
    "cd yolov5/"
   ]
  },
  {
   "cell_type": "code",
   "execution_count": 17,
   "metadata": {},
   "outputs": [
    {
     "name": "stdout",
     "output_type": "stream",
     "text": [
      "Label files renamed successfully.\n"
     ]
    }
   ],
   "source": [
    "import os\n",
    "\n",
    "def rename_label_files(dataset_path):\n",
    "    labels_dir = os.path.join(dataset_path, 'labels')\n",
    "    for split in ['train', 'val', 'test']:\n",
    "        split_dir = os.path.join(labels_dir, split)\n",
    "        for city in os.listdir(split_dir):\n",
    "            city_dir = os.path.join(split_dir, city)\n",
    "            for filename in os.listdir(city_dir):\n",
    "                if filename.endswith('.txt'):\n",
    "                    new_filename = filename.replace('.txt', '_leftImg8bit.txt')\n",
    "                    os.rename(os.path.join(city_dir, filename),\n",
    "                              os.path.join(city_dir, new_filename))\n",
    "\n",
    "dataset_path = '/teamspace/studios/this_studio/CityScapes_dataset_1'\n",
    "rename_label_files(dataset_path)\n",
    "print(\"Label files renamed successfully.\")"
   ]
  },
  {
   "cell_type": "markdown",
   "metadata": {},
   "source": [
    "### YOLOv5 small"
   ]
  },
  {
   "cell_type": "code",
   "execution_count": 29,
   "metadata": {},
   "outputs": [
    {
     "name": "stdout",
     "output_type": "stream",
     "text": [
      "\u001b[34m\u001b[1mtrain: \u001b[0mweights=yolov5s.pt, cfg=, data=data/cityscapes.yaml, hyp=data/hyps/hyp.scratch-low.yaml, epochs=100, batch_size=16, imgsz=640, rect=False, resume=False, nosave=False, noval=False, noautoanchor=False, noplots=False, evolve=None, evolve_population=data/hyps, resume_evolve=None, bucket=, cache=None, image_weights=False, device=, multi_scale=False, single_cls=False, optimizer=SGD, sync_bn=False, workers=8, project=runs/train, name=exp, exist_ok=False, quad=False, cos_lr=False, label_smoothing=0.0, patience=100, freeze=[0], save_period=-1, seed=0, local_rank=-1, entity=None, upload_dataset=False, bbox_interval=-1, artifact_alias=latest, ndjson_console=False, ndjson_file=False\n",
      "\u001b[34m\u001b[1mgithub: \u001b[0mup to date with https://github.com/ultralytics/yolov5 ✅\n",
      "YOLOv5 🚀 v7.0-330-gb20fa802 Python-3.10.10 torch-2.2.1+cu121 CUDA:0 (NVIDIA L4, 22700MiB)\n",
      "\n",
      "\u001b[34m\u001b[1mhyperparameters: \u001b[0mlr0=0.01, lrf=0.01, momentum=0.937, weight_decay=0.0005, warmup_epochs=3.0, warmup_momentum=0.8, warmup_bias_lr=0.1, box=0.05, cls=0.5, cls_pw=1.0, obj=1.0, obj_pw=1.0, iou_t=0.2, anchor_t=4.0, fl_gamma=0.0, hsv_h=0.015, hsv_s=0.7, hsv_v=0.4, degrees=0.0, translate=0.1, scale=0.5, shear=0.0, perspective=0.0, flipud=0.0, fliplr=0.5, mosaic=1.0, mixup=0.0, copy_paste=0.0\n",
      "\u001b[34m\u001b[1mComet: \u001b[0mrun 'pip install comet_ml' to automatically track and visualize YOLOv5 🚀 runs in Comet\n",
      "\u001b[34m\u001b[1mTensorBoard: \u001b[0mStart with 'tensorboard --logdir runs/train', view at http://localhost:6006/\n",
      "Overriding model.yaml nc=80 with nc=8\n",
      "\n",
      "                 from  n    params  module                                  arguments                     \n",
      "  0                -1  1      3520  models.common.Conv                      [3, 32, 6, 2, 2]              \n",
      "  1                -1  1     18560  models.common.Conv                      [32, 64, 3, 2]                \n",
      "  2                -1  1     18816  models.common.C3                        [64, 64, 1]                   \n",
      "  3                -1  1     73984  models.common.Conv                      [64, 128, 3, 2]               \n",
      "  4                -1  2    115712  models.common.C3                        [128, 128, 2]                 \n",
      "  5                -1  1    295424  models.common.Conv                      [128, 256, 3, 2]              \n",
      "  6                -1  3    625152  models.common.C3                        [256, 256, 3]                 \n",
      "  7                -1  1   1180672  models.common.Conv                      [256, 512, 3, 2]              \n",
      "  8                -1  1   1182720  models.common.C3                        [512, 512, 1]                 \n",
      "  9                -1  1    656896  models.common.SPPF                      [512, 512, 5]                 \n",
      " 10                -1  1    131584  models.common.Conv                      [512, 256, 1, 1]              \n",
      " 11                -1  1         0  torch.nn.modules.upsampling.Upsample    [None, 2, 'nearest']          \n",
      " 12           [-1, 6]  1         0  models.common.Concat                    [1]                           \n",
      " 13                -1  1    361984  models.common.C3                        [512, 256, 1, False]          \n",
      " 14                -1  1     33024  models.common.Conv                      [256, 128, 1, 1]              \n",
      " 15                -1  1         0  torch.nn.modules.upsampling.Upsample    [None, 2, 'nearest']          \n",
      " 16           [-1, 4]  1         0  models.common.Concat                    [1]                           \n",
      " 17                -1  1     90880  models.common.C3                        [256, 128, 1, False]          \n",
      " 18                -1  1    147712  models.common.Conv                      [128, 128, 3, 2]              \n",
      " 19          [-1, 14]  1         0  models.common.Concat                    [1]                           \n",
      " 20                -1  1    296448  models.common.C3                        [256, 256, 1, False]          \n",
      " 21                -1  1    590336  models.common.Conv                      [256, 256, 3, 2]              \n",
      " 22          [-1, 10]  1         0  models.common.Concat                    [1]                           \n",
      " 23                -1  1   1182720  models.common.C3                        [512, 512, 1, False]          \n",
      " 24      [17, 20, 23]  1     35061  models.yolo.Detect                      [8, [[10, 13, 16, 30, 33, 23], [30, 61, 62, 45, 59, 119], [116, 90, 156, 198, 373, 326]], [128, 256, 512]]\n",
      "Model summary: 214 layers, 7041205 parameters, 7041205 gradients, 16.0 GFLOPs\n",
      "\n",
      "Transferred 343/349 items from yolov5s.pt\n",
      "\u001b[34m\u001b[1mAMP: \u001b[0mchecks passed ✅\n",
      "\u001b[34m\u001b[1moptimizer:\u001b[0m SGD(lr=0.01) with parameter groups 57 weight(decay=0.0), 60 weight(decay=0.0005), 60 bias\n",
      "\u001b[34m\u001b[1mtrain: \u001b[0mScanning /teamspace/studios/this_studio/dataset/labels/train/aachen.cache\u001b[0m\n",
      "\u001b[34m\u001b[1mtrain: \u001b[0mWARNING ⚠️ /teamspace/studios/this_studio/dataset/images/train/aachen/aachen_000000_000019_leftImg8bit.png: 3 duplicate labels removed\n",
      "\u001b[34m\u001b[1mtrain: \u001b[0mWARNING ⚠️ /teamspace/studios/this_studio/dataset/images/train/aachen/aachen_000022_000019_leftImg8bit.png: 1 duplicate labels removed\n",
      "\u001b[34m\u001b[1mtrain: \u001b[0mWARNING ⚠️ /teamspace/studios/this_studio/dataset/images/train/aachen/aachen_000030_000019_leftImg8bit.png: 3 duplicate labels removed\n",
      "\u001b[34m\u001b[1mtrain: \u001b[0mWARNING ⚠️ /teamspace/studios/this_studio/dataset/images/train/aachen/aachen_000031_000019_leftImg8bit.png: 1 duplicate labels removed\n",
      "\u001b[34m\u001b[1mtrain: \u001b[0mWARNING ⚠️ /teamspace/studios/this_studio/dataset/images/train/aachen/aachen_000042_000019_leftImg8bit.png: 1 duplicate labels removed\n",
      "\u001b[34m\u001b[1mtrain: \u001b[0mWARNING ⚠️ /teamspace/studios/this_studio/dataset/images/train/aachen/aachen_000060_000019_leftImg8bit.png: 15 duplicate labels removed\n",
      "\u001b[34m\u001b[1mtrain: \u001b[0mWARNING ⚠️ /teamspace/studios/this_studio/dataset/images/train/aachen/aachen_000061_000019_leftImg8bit.png: 34 duplicate labels removed\n",
      "\u001b[34m\u001b[1mtrain: \u001b[0mWARNING ⚠️ /teamspace/studios/this_studio/dataset/images/train/aachen/aachen_000062_000019_leftImg8bit.png: 3 duplicate labels removed\n",
      "\u001b[34m\u001b[1mtrain: \u001b[0mWARNING ⚠️ /teamspace/studios/this_studio/dataset/images/train/aachen/aachen_000064_000019_leftImg8bit.png: 1 duplicate labels removed\n",
      "\u001b[34m\u001b[1mtrain: \u001b[0mWARNING ⚠️ /teamspace/studios/this_studio/dataset/images/train/aachen/aachen_000078_000019_leftImg8bit.png: 1 duplicate labels removed\n",
      "\u001b[34m\u001b[1mtrain: \u001b[0mWARNING ⚠️ /teamspace/studios/this_studio/dataset/images/train/aachen/aachen_000079_000019_leftImg8bit.png: 2 duplicate labels removed\n",
      "\u001b[34m\u001b[1mtrain: \u001b[0mWARNING ⚠️ /teamspace/studios/this_studio/dataset/images/train/aachen/aachen_000080_000019_leftImg8bit.png: 22 duplicate labels removed\n",
      "\u001b[34m\u001b[1mtrain: \u001b[0mWARNING ⚠️ /teamspace/studios/this_studio/dataset/images/train/aachen/aachen_000090_000019_leftImg8bit.png: 2 duplicate labels removed\n",
      "\u001b[34m\u001b[1mtrain: \u001b[0mWARNING ⚠️ /teamspace/studios/this_studio/dataset/images/train/aachen/aachen_000092_000019_leftImg8bit.png: 1 duplicate labels removed\n",
      "\u001b[34m\u001b[1mtrain: \u001b[0mWARNING ⚠️ /teamspace/studios/this_studio/dataset/images/train/aachen/aachen_000096_000019_leftImg8bit.png: 1 duplicate labels removed\n",
      "\u001b[34m\u001b[1mtrain: \u001b[0mWARNING ⚠️ /teamspace/studios/this_studio/dataset/images/train/aachen/aachen_000098_000019_leftImg8bit.png: 2 duplicate labels removed\n",
      "\u001b[34m\u001b[1mtrain: \u001b[0mWARNING ⚠️ /teamspace/studios/this_studio/dataset/images/train/bochum/bochum_000000_000885_leftImg8bit.png: 1 duplicate labels removed\n",
      "\u001b[34m\u001b[1mtrain: \u001b[0mWARNING ⚠️ /teamspace/studios/this_studio/dataset/images/train/bochum/bochum_000000_004748_leftImg8bit.png: 1 duplicate labels removed\n",
      "\u001b[34m\u001b[1mtrain: \u001b[0mWARNING ⚠️ /teamspace/studios/this_studio/dataset/images/train/bochum/bochum_000000_007651_leftImg8bit.png: 1 duplicate labels removed\n",
      "\u001b[34m\u001b[1mtrain: \u001b[0mWARNING ⚠️ /teamspace/studios/this_studio/dataset/images/train/bochum/bochum_000000_013209_leftImg8bit.png: 1 duplicate labels removed\n",
      "\u001b[34m\u001b[1mtrain: \u001b[0mWARNING ⚠️ /teamspace/studios/this_studio/dataset/images/train/bremen/bremen_000021_000019_leftImg8bit.png: 1 duplicate labels removed\n",
      "\u001b[34m\u001b[1mtrain: \u001b[0mWARNING ⚠️ /teamspace/studios/this_studio/dataset/images/train/bremen/bremen_000060_000019_leftImg8bit.png: 1 duplicate labels removed\n",
      "\u001b[34m\u001b[1mtrain: \u001b[0mWARNING ⚠️ /teamspace/studios/this_studio/dataset/images/train/bremen/bremen_000099_000019_leftImg8bit.png: 1 duplicate labels removed\n",
      "\u001b[34m\u001b[1mtrain: \u001b[0mWARNING ⚠️ /teamspace/studios/this_studio/dataset/images/train/bremen/bremen_000241_000019_leftImg8bit.png: 1 duplicate labels removed\n",
      "\u001b[34m\u001b[1mtrain: \u001b[0mWARNING ⚠️ /teamspace/studios/this_studio/dataset/images/train/cologne/cologne_000004_000019_leftImg8bit.png: 1 duplicate labels removed\n",
      "\u001b[34m\u001b[1mtrain: \u001b[0mWARNING ⚠️ /teamspace/studios/this_studio/dataset/images/train/cologne/cologne_000006_000019_leftImg8bit.png: 1 duplicate labels removed\n",
      "\u001b[34m\u001b[1mtrain: \u001b[0mWARNING ⚠️ /teamspace/studios/this_studio/dataset/images/train/cologne/cologne_000007_000019_leftImg8bit.png: 2 duplicate labels removed\n",
      "\u001b[34m\u001b[1mtrain: \u001b[0mWARNING ⚠️ /teamspace/studios/this_studio/dataset/images/train/cologne/cologne_000009_000019_leftImg8bit.png: 1 duplicate labels removed\n",
      "\u001b[34m\u001b[1mtrain: \u001b[0mWARNING ⚠️ /teamspace/studios/this_studio/dataset/images/train/cologne/cologne_000012_000019_leftImg8bit.png: 3 duplicate labels removed\n",
      "\u001b[34m\u001b[1mtrain: \u001b[0mWARNING ⚠️ /teamspace/studios/this_studio/dataset/images/train/cologne/cologne_000018_000019_leftImg8bit.png: 5 duplicate labels removed\n",
      "\u001b[34m\u001b[1mtrain: \u001b[0mWARNING ⚠️ /teamspace/studios/this_studio/dataset/images/train/cologne/cologne_000019_000019_leftImg8bit.png: 2 duplicate labels removed\n",
      "\u001b[34m\u001b[1mtrain: \u001b[0mWARNING ⚠️ /teamspace/studios/this_studio/dataset/images/train/cologne/cologne_000021_000019_leftImg8bit.png: 1 duplicate labels removed\n",
      "\u001b[34m\u001b[1mtrain: \u001b[0mWARNING ⚠️ /teamspace/studios/this_studio/dataset/images/train/cologne/cologne_000053_000019_leftImg8bit.png: 1 duplicate labels removed\n",
      "\u001b[34m\u001b[1mtrain: \u001b[0mWARNING ⚠️ /teamspace/studios/this_studio/dataset/images/train/cologne/cologne_000090_000019_leftImg8bit.png: 1 duplicate labels removed\n",
      "\u001b[34m\u001b[1mtrain: \u001b[0mWARNING ⚠️ /teamspace/studios/this_studio/dataset/images/train/cologne/cologne_000092_000019_leftImg8bit.png: 3 duplicate labels removed\n",
      "\u001b[34m\u001b[1mtrain: \u001b[0mWARNING ⚠️ /teamspace/studios/this_studio/dataset/images/train/darmstadt/darmstadt_000004_000019_leftImg8bit.png: 1 duplicate labels removed\n",
      "\u001b[34m\u001b[1mtrain: \u001b[0mWARNING ⚠️ /teamspace/studios/this_studio/dataset/images/train/darmstadt/darmstadt_000021_000019_leftImg8bit.png: 1 duplicate labels removed\n",
      "\u001b[34m\u001b[1mtrain: \u001b[0mWARNING ⚠️ /teamspace/studios/this_studio/dataset/images/train/darmstadt/darmstadt_000046_000019_leftImg8bit.png: 1 duplicate labels removed\n",
      "\u001b[34m\u001b[1mtrain: \u001b[0mWARNING ⚠️ /teamspace/studios/this_studio/dataset/images/train/darmstadt/darmstadt_000061_000019_leftImg8bit.png: 1 duplicate labels removed\n",
      "\u001b[34m\u001b[1mtrain: \u001b[0mWARNING ⚠️ /teamspace/studios/this_studio/dataset/images/train/darmstadt/darmstadt_000083_000019_leftImg8bit.png: 1 duplicate labels removed\n",
      "\u001b[34m\u001b[1mtrain: \u001b[0mWARNING ⚠️ /teamspace/studios/this_studio/dataset/images/train/hamburg/hamburg_000000_019892_leftImg8bit.png: 1 duplicate labels removed\n",
      "\u001b[34m\u001b[1mtrain: \u001b[0mWARNING ⚠️ /teamspace/studios/this_studio/dataset/images/train/hamburg/hamburg_000000_032906_leftImg8bit.png: 1 duplicate labels removed\n",
      "\u001b[34m\u001b[1mtrain: \u001b[0mWARNING ⚠️ /teamspace/studios/this_studio/dataset/images/train/hamburg/hamburg_000000_033506_leftImg8bit.png: 5 duplicate labels removed\n",
      "\u001b[34m\u001b[1mtrain: \u001b[0mWARNING ⚠️ /teamspace/studios/this_studio/dataset/images/train/hamburg/hamburg_000000_039420_leftImg8bit.png: 1 duplicate labels removed\n",
      "\u001b[34m\u001b[1mtrain: \u001b[0mWARNING ⚠️ /teamspace/studios/this_studio/dataset/images/train/hamburg/hamburg_000000_053886_leftImg8bit.png: 1 duplicate labels removed\n",
      "\u001b[34m\u001b[1mtrain: \u001b[0mWARNING ⚠️ /teamspace/studios/this_studio/dataset/images/train/hamburg/hamburg_000000_080438_leftImg8bit.png: 1 duplicate labels removed\n",
      "\u001b[34m\u001b[1mtrain: \u001b[0mWARNING ⚠️ /teamspace/studios/this_studio/dataset/images/train/hanover/hanover_000000_014537_leftImg8bit.png: 1 duplicate labels removed\n",
      "\u001b[34m\u001b[1mtrain: \u001b[0mWARNING ⚠️ /teamspace/studios/this_studio/dataset/images/train/hanover/hanover_000000_015587_leftImg8bit.png: 1 duplicate labels removed\n",
      "\u001b[34m\u001b[1mtrain: \u001b[0mWARNING ⚠️ /teamspace/studios/this_studio/dataset/images/train/hanover/hanover_000000_018800_leftImg8bit.png: 2 duplicate labels removed\n",
      "\u001b[34m\u001b[1mtrain: \u001b[0mWARNING ⚠️ /teamspace/studios/this_studio/dataset/images/train/hanover/hanover_000000_019456_leftImg8bit.png: 1 duplicate labels removed\n",
      "\u001b[34m\u001b[1mtrain: \u001b[0mWARNING ⚠️ /teamspace/studios/this_studio/dataset/images/train/hanover/hanover_000000_022645_leftImg8bit.png: 3 duplicate labels removed\n",
      "\u001b[34m\u001b[1mtrain: \u001b[0mWARNING ⚠️ /teamspace/studios/this_studio/dataset/images/train/hanover/hanover_000000_026356_leftImg8bit.png: 1 duplicate labels removed\n",
      "\u001b[34m\u001b[1mtrain: \u001b[0mWARNING ⚠️ /teamspace/studios/this_studio/dataset/images/train/hanover/hanover_000000_034015_leftImg8bit.png: 1 duplicate labels removed\n",
      "\u001b[34m\u001b[1mtrain: \u001b[0mWARNING ⚠️ /teamspace/studios/this_studio/dataset/images/train/hanover/hanover_000000_034141_leftImg8bit.png: 1 duplicate labels removed\n",
      "\u001b[34m\u001b[1mtrain: \u001b[0mWARNING ⚠️ /teamspace/studios/this_studio/dataset/images/train/hanover/hanover_000000_047870_leftImg8bit.png: 1 duplicate labels removed\n",
      "\u001b[34m\u001b[1mtrain: \u001b[0mWARNING ⚠️ /teamspace/studios/this_studio/dataset/images/train/hanover/hanover_000000_051536_leftImg8bit.png: 2 duplicate labels removed\n",
      "\u001b[34m\u001b[1mtrain: \u001b[0mWARNING ⚠️ /teamspace/studios/this_studio/dataset/images/train/krefeld/krefeld_000000_013766_leftImg8bit.png: 1 duplicate labels removed\n",
      "\u001b[34m\u001b[1mtrain: \u001b[0mWARNING ⚠️ /teamspace/studios/this_studio/dataset/images/train/strasbourg/strasbourg_000000_014503_leftImg8bit.png: 1 duplicate labels removed\n",
      "\u001b[34m\u001b[1mtrain: \u001b[0mWARNING ⚠️ /teamspace/studios/this_studio/dataset/images/train/strasbourg/strasbourg_000001_030539_leftImg8bit.png: 1 duplicate labels removed\n",
      "\u001b[34m\u001b[1mtrain: \u001b[0mWARNING ⚠️ /teamspace/studios/this_studio/dataset/images/train/strasbourg/strasbourg_000001_030997_leftImg8bit.png: 1 duplicate labels removed\n",
      "\u001b[34m\u001b[1mtrain: \u001b[0mWARNING ⚠️ /teamspace/studios/this_studio/dataset/images/train/strasbourg/strasbourg_000001_051317_leftImg8bit.png: 1 duplicate labels removed\n",
      "\u001b[34m\u001b[1mtrain: \u001b[0mWARNING ⚠️ /teamspace/studios/this_studio/dataset/images/train/strasbourg/strasbourg_000001_052050_leftImg8bit.png: 1 duplicate labels removed\n",
      "\u001b[34m\u001b[1mtrain: \u001b[0mWARNING ⚠️ /teamspace/studios/this_studio/dataset/images/train/strasbourg/strasbourg_000001_064224_leftImg8bit.png: 1 duplicate labels removed\n",
      "\u001b[34m\u001b[1mtrain: \u001b[0mWARNING ⚠️ /teamspace/studios/this_studio/dataset/images/train/strasbourg/strasbourg_000001_064393_leftImg8bit.png: 1 duplicate labels removed\n",
      "\u001b[34m\u001b[1mtrain: \u001b[0mWARNING ⚠️ /teamspace/studios/this_studio/dataset/images/train/stuttgart/stuttgart_000109_000019_leftImg8bit.png: 1 duplicate labels removed\n",
      "\u001b[34m\u001b[1mtrain: \u001b[0mWARNING ⚠️ /teamspace/studios/this_studio/dataset/images/train/stuttgart/stuttgart_000120_000019_leftImg8bit.png: 2 duplicate labels removed\n",
      "\u001b[34m\u001b[1mtrain: \u001b[0mWARNING ⚠️ /teamspace/studios/this_studio/dataset/images/train/stuttgart/stuttgart_000168_000019_leftImg8bit.png: 1 duplicate labels removed\n",
      "\u001b[34m\u001b[1mtrain: \u001b[0mWARNING ⚠️ /teamspace/studios/this_studio/dataset/images/train/stuttgart/stuttgart_000175_000019_leftImg8bit.png: 2 duplicate labels removed\n",
      "\u001b[34m\u001b[1mtrain: \u001b[0mWARNING ⚠️ /teamspace/studios/this_studio/dataset/images/train/stuttgart/stuttgart_000184_000019_leftImg8bit.png: 2 duplicate labels removed\n",
      "\u001b[34m\u001b[1mtrain: \u001b[0mWARNING ⚠️ /teamspace/studios/this_studio/dataset/images/train/tubingen/tubingen_000008_000019_leftImg8bit.png: 1 duplicate labels removed\n",
      "\u001b[34m\u001b[1mtrain: \u001b[0mWARNING ⚠️ /teamspace/studios/this_studio/dataset/images/train/tubingen/tubingen_000089_000019_leftImg8bit.png: 1 duplicate labels removed\n",
      "\u001b[34m\u001b[1mtrain: \u001b[0mWARNING ⚠️ /teamspace/studios/this_studio/dataset/images/train/ulm/ulm_000004_000019_leftImg8bit.png: 2 duplicate labels removed\n",
      "\u001b[34m\u001b[1mtrain: \u001b[0mWARNING ⚠️ /teamspace/studios/this_studio/dataset/images/train/ulm/ulm_000005_000019_leftImg8bit.png: 4 duplicate labels removed\n",
      "\u001b[34m\u001b[1mtrain: \u001b[0mWARNING ⚠️ /teamspace/studios/this_studio/dataset/images/train/ulm/ulm_000006_000019_leftImg8bit.png: 8 duplicate labels removed\n",
      "\u001b[34m\u001b[1mtrain: \u001b[0mWARNING ⚠️ /teamspace/studios/this_studio/dataset/images/train/ulm/ulm_000011_000019_leftImg8bit.png: 1 duplicate labels removed\n",
      "\u001b[34m\u001b[1mtrain: \u001b[0mWARNING ⚠️ /teamspace/studios/this_studio/dataset/images/train/ulm/ulm_000012_000019_leftImg8bit.png: 2 duplicate labels removed\n",
      "\u001b[34m\u001b[1mtrain: \u001b[0mWARNING ⚠️ /teamspace/studios/this_studio/dataset/images/train/ulm/ulm_000013_000019_leftImg8bit.png: 2 duplicate labels removed\n",
      "\u001b[34m\u001b[1mtrain: \u001b[0mWARNING ⚠️ /teamspace/studios/this_studio/dataset/images/train/ulm/ulm_000017_000019_leftImg8bit.png: 2 duplicate labels removed\n",
      "\u001b[34m\u001b[1mtrain: \u001b[0mWARNING ⚠️ /teamspace/studios/this_studio/dataset/images/train/ulm/ulm_000024_000019_leftImg8bit.png: 2 duplicate labels removed\n",
      "\u001b[34m\u001b[1mtrain: \u001b[0mWARNING ⚠️ /teamspace/studios/this_studio/dataset/images/train/ulm/ulm_000025_000019_leftImg8bit.png: 3 duplicate labels removed\n",
      "\u001b[34m\u001b[1mtrain: \u001b[0mWARNING ⚠️ /teamspace/studios/this_studio/dataset/images/train/ulm/ulm_000037_000019_leftImg8bit.png: 1 duplicate labels removed\n",
      "\u001b[34m\u001b[1mtrain: \u001b[0mWARNING ⚠️ /teamspace/studios/this_studio/dataset/images/train/ulm/ulm_000056_000019_leftImg8bit.png: 2 duplicate labels removed\n",
      "\u001b[34m\u001b[1mtrain: \u001b[0mWARNING ⚠️ /teamspace/studios/this_studio/dataset/images/train/ulm/ulm_000058_000019_leftImg8bit.png: 3 duplicate labels removed\n",
      "\u001b[34m\u001b[1mtrain: \u001b[0mWARNING ⚠️ /teamspace/studios/this_studio/dataset/images/train/ulm/ulm_000067_000019_leftImg8bit.png: 3 duplicate labels removed\n",
      "\u001b[34m\u001b[1mtrain: \u001b[0mWARNING ⚠️ /teamspace/studios/this_studio/dataset/images/train/ulm/ulm_000068_000019_leftImg8bit.png: 3 duplicate labels removed\n",
      "\u001b[34m\u001b[1mtrain: \u001b[0mWARNING ⚠️ /teamspace/studios/this_studio/dataset/images/train/ulm/ulm_000069_000019_leftImg8bit.png: 3 duplicate labels removed\n",
      "\u001b[34m\u001b[1mtrain: \u001b[0mWARNING ⚠️ /teamspace/studios/this_studio/dataset/images/train/ulm/ulm_000078_000019_leftImg8bit.png: 1 duplicate labels removed\n",
      "\u001b[34m\u001b[1mtrain: \u001b[0mWARNING ⚠️ /teamspace/studios/this_studio/dataset/images/train/ulm/ulm_000079_000019_leftImg8bit.png: 1 duplicate labels removed\n",
      "\u001b[34m\u001b[1mtrain: \u001b[0mWARNING ⚠️ /teamspace/studios/this_studio/dataset/images/train/ulm/ulm_000084_000019_leftImg8bit.png: 2 duplicate labels removed\n",
      "\u001b[34m\u001b[1mval: \u001b[0mScanning /teamspace/studios/this_studio/dataset/labels/val/frankfurt.cache.\u001b[0m\n",
      "\u001b[34m\u001b[1mval: \u001b[0mWARNING ⚠️ /teamspace/studios/this_studio/dataset/images/val/frankfurt/frankfurt_000001_016273_leftImg8bit.png: 1 duplicate labels removed\n",
      "\u001b[34m\u001b[1mval: \u001b[0mWARNING ⚠️ /teamspace/studios/this_studio/dataset/images/val/frankfurt/frankfurt_000001_017101_leftImg8bit.png: 1 duplicate labels removed\n",
      "\u001b[34m\u001b[1mval: \u001b[0mWARNING ⚠️ /teamspace/studios/this_studio/dataset/images/val/frankfurt/frankfurt_000001_077434_leftImg8bit.png: 1 duplicate labels removed\n",
      "\u001b[34m\u001b[1mval: \u001b[0mWARNING ⚠️ /teamspace/studios/this_studio/dataset/images/val/munster/munster_000026_000019_leftImg8bit.png: 2 duplicate labels removed\n",
      "\u001b[34m\u001b[1mval: \u001b[0mWARNING ⚠️ /teamspace/studios/this_studio/dataset/images/val/munster/munster_000029_000019_leftImg8bit.png: 1 duplicate labels removed\n",
      "\u001b[34m\u001b[1mval: \u001b[0mWARNING ⚠️ /teamspace/studios/this_studio/dataset/images/val/munster/munster_000049_000019_leftImg8bit.png: 1 duplicate labels removed\n",
      "\u001b[34m\u001b[1mval: \u001b[0mWARNING ⚠️ /teamspace/studios/this_studio/dataset/images/val/munster/munster_000108_000019_leftImg8bit.png: 1 duplicate labels removed\n",
      "\u001b[34m\u001b[1mval: \u001b[0mWARNING ⚠️ /teamspace/studios/this_studio/dataset/images/val/munster/munster_000140_000019_leftImg8bit.png: 1 duplicate labels removed\n",
      "\u001b[34m\u001b[1mval: \u001b[0mWARNING ⚠️ /teamspace/studios/this_studio/dataset/images/val/munster/munster_000141_000019_leftImg8bit.png: 1 duplicate labels removed\n",
      "\u001b[34m\u001b[1mval: \u001b[0mWARNING ⚠️ /teamspace/studios/this_studio/dataset/images/val/munster/munster_000142_000019_leftImg8bit.png: 1 duplicate labels removed\n",
      "\u001b[34m\u001b[1mval: \u001b[0mWARNING ⚠️ /teamspace/studios/this_studio/dataset/images/val/munster/munster_000167_000019_leftImg8bit.png: 1 duplicate labels removed\n",
      "\n",
      "\u001b[34m\u001b[1mAutoAnchor: \u001b[0m3.98 anchors/target, 0.986 Best Possible Recall (BPR). Current anchors are a good fit to dataset ✅\n",
      "Plotting labels to runs/train/exp12/labels.jpg... \n",
      "Image sizes 640 train, 640 val\n",
      "Using 8 dataloader workers\n",
      "Logging results to \u001b[1mruns/train/exp12\u001b[0m\n",
      "Starting training for 100 epochs...\n",
      "\n",
      "      Epoch    GPU_mem   box_loss   obj_loss   cls_loss  Instances       Size\n",
      "       0/99      3.44G    0.09266    0.07454    0.03374        437        640: 1\n",
      "                 Class     Images  Instances          P          R      mAP50   \n",
      "                   all        500      10168      0.869     0.0918     0.0999     0.0365\n",
      "\n",
      "      Epoch    GPU_mem   box_loss   obj_loss   cls_loss  Instances       Size\n",
      "       1/99      3.62G     0.0754    0.06921     0.0201        452        640: 1\n",
      "                 Class     Images  Instances          P          R      mAP50   \n",
      "                   all        500      10168      0.746       0.14      0.132     0.0489\n",
      "\n",
      "      Epoch    GPU_mem   box_loss   obj_loss   cls_loss  Instances       Size\n",
      "       2/99      3.62G    0.07152    0.06715    0.01733        559        640: 1\n",
      "                 Class     Images  Instances          P          R      mAP50   \n",
      "                   all        500      10168      0.239      0.304      0.202     0.0838\n",
      "\n",
      "      Epoch    GPU_mem   box_loss   obj_loss   cls_loss  Instances       Size\n",
      "       3/99      3.62G    0.06552    0.06878    0.01563        390        640: 1\n",
      "                 Class     Images  Instances          P          R      mAP50   \n",
      "                   all        500      10168      0.427      0.323      0.318      0.148\n",
      "\n",
      "      Epoch    GPU_mem   box_loss   obj_loss   cls_loss  Instances       Size\n",
      "       4/99      3.62G    0.06135    0.06882     0.0142        544        640: 1\n",
      "                 Class     Images  Instances          P          R      mAP50   \n",
      "                   all        500      10168      0.542      0.334      0.362       0.17\n",
      "\n",
      "      Epoch    GPU_mem   box_loss   obj_loss   cls_loss  Instances       Size\n",
      "       5/99      3.62G     0.0586    0.06758    0.01313        436        640: 1\n",
      "                 Class     Images  Instances          P          R      mAP50   \n",
      "                   all        500      10168      0.601      0.344      0.382      0.185\n",
      "\n",
      "      Epoch    GPU_mem   box_loss   obj_loss   cls_loss  Instances       Size\n",
      "       6/99      3.62G    0.05726    0.06714     0.0125        525        640: 1\n",
      "                 Class     Images  Instances          P          R      mAP50   \n",
      "                   all        500      10168      0.539      0.377      0.393      0.197\n",
      "\n",
      "      Epoch    GPU_mem   box_loss   obj_loss   cls_loss  Instances       Size\n",
      "       7/99      3.62G    0.05563     0.0669    0.01195        528        640: 1\n",
      "                 Class     Images  Instances          P          R      mAP50   \n",
      "                   all        500      10168      0.647      0.356      0.416      0.205\n",
      "\n",
      "      Epoch    GPU_mem   box_loss   obj_loss   cls_loss  Instances       Size\n",
      "       8/99      3.62G    0.05546    0.06732    0.01151        401        640: 1\n",
      "                 Class     Images  Instances          P          R      mAP50   \n",
      "                   all        500      10168      0.644      0.358      0.414      0.207\n",
      "\n",
      "      Epoch    GPU_mem   box_loss   obj_loss   cls_loss  Instances       Size\n",
      "       9/99      3.62G    0.05431    0.06604    0.01123        437        640: 1\n",
      "                 Class     Images  Instances          P          R      mAP50   \n",
      "                   all        500      10168      0.612      0.354      0.406      0.216\n",
      "\n",
      "      Epoch    GPU_mem   box_loss   obj_loss   cls_loss  Instances       Size\n",
      "      10/99      3.62G    0.05374    0.06521    0.01096        407        640: 1\n",
      "                 Class     Images  Instances          P          R      mAP50   \n",
      "                   all        500      10168      0.598      0.354      0.404      0.211\n",
      "\n",
      "      Epoch    GPU_mem   box_loss   obj_loss   cls_loss  Instances       Size\n",
      "      11/99      3.62G    0.05344     0.0645    0.01091        419        640: 1\n",
      "                 Class     Images  Instances          P          R      mAP50   \n",
      "                   all        500      10168      0.631      0.376      0.436      0.226\n",
      "\n",
      "      Epoch    GPU_mem   box_loss   obj_loss   cls_loss  Instances       Size\n",
      "      12/99      3.62G    0.05264    0.06494    0.01035        421        640: 1\n",
      "                 Class     Images  Instances          P          R      mAP50   \n",
      "                   all        500      10168      0.658      0.363      0.423      0.225\n",
      "\n",
      "      Epoch    GPU_mem   box_loss   obj_loss   cls_loss  Instances       Size\n",
      "      13/99      3.62G    0.05199    0.06479    0.01008        379        640: 1\n",
      "                 Class     Images  Instances          P          R      mAP50   \n",
      "                   all        500      10168      0.626      0.411      0.455      0.236\n",
      "\n",
      "      Epoch    GPU_mem   box_loss   obj_loss   cls_loss  Instances       Size\n",
      "      14/99      3.62G    0.05123     0.0642    0.01017        586        640: 1\n",
      "                 Class     Images  Instances          P          R      mAP50   \n",
      "                   all        500      10168      0.657      0.399       0.45      0.234\n",
      "\n",
      "      Epoch    GPU_mem   box_loss   obj_loss   cls_loss  Instances       Size\n",
      "      15/99      3.62G    0.05115    0.06335       0.01        388        640: 1\n",
      "                 Class     Images  Instances          P          R      mAP50   \n",
      "                   all        500      10168      0.642      0.392      0.438      0.231\n",
      "\n",
      "      Epoch    GPU_mem   box_loss   obj_loss   cls_loss  Instances       Size\n",
      "      16/99      3.62G    0.05103    0.06353   0.009994        661        640: 1\n",
      "                 Class     Images  Instances          P          R      mAP50   \n",
      "                   all        500      10168      0.678      0.389      0.442      0.227\n",
      "\n",
      "      Epoch    GPU_mem   box_loss   obj_loss   cls_loss  Instances       Size\n",
      "      17/99      3.62G    0.05008    0.06272   0.009458        374        640: 1\n",
      "                 Class     Images  Instances          P          R      mAP50   \n",
      "                   all        500      10168      0.653      0.396      0.449      0.237\n",
      "\n",
      "      Epoch    GPU_mem   box_loss   obj_loss   cls_loss  Instances       Size\n",
      "      18/99      3.62G    0.04997    0.06274   0.009599        417        640: 1\n",
      "                 Class     Images  Instances          P          R      mAP50   \n",
      "                   all        500      10168      0.675      0.379      0.439      0.239\n",
      "\n",
      "      Epoch    GPU_mem   box_loss   obj_loss   cls_loss  Instances       Size\n",
      "      19/99      3.62G    0.04996    0.06306   0.009472        516        640: 1\n",
      "                 Class     Images  Instances          P          R      mAP50   \n",
      "                   all        500      10168      0.664      0.384      0.442      0.238\n",
      "\n",
      "      Epoch    GPU_mem   box_loss   obj_loss   cls_loss  Instances       Size\n",
      "      20/99      3.62G    0.04961    0.06248   0.009143        350        640: 1\n",
      "                 Class     Images  Instances          P          R      mAP50   \n",
      "                   all        500      10168      0.546       0.41      0.442      0.244\n",
      "\n",
      "      Epoch    GPU_mem   box_loss   obj_loss   cls_loss  Instances       Size\n",
      "      21/99      3.62G    0.04916    0.06157   0.009064        477        640: 1\n",
      "                 Class     Images  Instances          P          R      mAP50   \n",
      "                   all        500      10168      0.649      0.408      0.467      0.249\n",
      "\n",
      "      Epoch    GPU_mem   box_loss   obj_loss   cls_loss  Instances       Size\n",
      "      22/99      3.62G    0.04911    0.06178   0.009123        504        640: 1\n",
      "                 Class     Images  Instances          P          R      mAP50   \n",
      "                   all        500      10168      0.698      0.396      0.454      0.247\n",
      "\n",
      "      Epoch    GPU_mem   box_loss   obj_loss   cls_loss  Instances       Size\n",
      "      23/99      3.62G    0.04919    0.06197   0.008829        486        640: 1\n",
      "                 Class     Images  Instances          P          R      mAP50   \n",
      "                   all        500      10168      0.592       0.41      0.433      0.235\n",
      "\n",
      "      Epoch    GPU_mem   box_loss   obj_loss   cls_loss  Instances       Size\n",
      "      24/99      3.62G     0.0486    0.06268   0.008996        558        640: 1\n",
      "                 Class     Images  Instances          P          R      mAP50   \n",
      "                   all        500      10168      0.711      0.417      0.478      0.263\n",
      "\n",
      "      Epoch    GPU_mem   box_loss   obj_loss   cls_loss  Instances       Size\n",
      "      25/99      3.62G    0.04826    0.06177   0.008738        443        640: 1\n",
      "                 Class     Images  Instances          P          R      mAP50   \n",
      "                   all        500      10168       0.65      0.413      0.466      0.252\n",
      "\n",
      "      Epoch    GPU_mem   box_loss   obj_loss   cls_loss  Instances       Size\n",
      "      26/99      3.62G    0.04832    0.06094   0.008752        462        640: 1\n",
      "                 Class     Images  Instances          P          R      mAP50   \n",
      "                   all        500      10168      0.627      0.402      0.457      0.248\n",
      "\n",
      "      Epoch    GPU_mem   box_loss   obj_loss   cls_loss  Instances       Size\n",
      "      27/99      3.62G     0.0482    0.06208   0.008525        608        640: 1\n",
      "                 Class     Images  Instances          P          R      mAP50   \n",
      "                   all        500      10168      0.644      0.429      0.464      0.253\n",
      "\n",
      "      Epoch    GPU_mem   box_loss   obj_loss   cls_loss  Instances       Size\n",
      "      28/99      3.62G    0.04786    0.06084     0.0086        398        640: 1\n",
      "                 Class     Images  Instances          P          R      mAP50   \n",
      "                   all        500      10168      0.658      0.399       0.46      0.253\n",
      "\n",
      "      Epoch    GPU_mem   box_loss   obj_loss   cls_loss  Instances       Size\n",
      "      29/99      3.62G    0.04733    0.06023   0.008472        468        640: 1\n",
      "                 Class     Images  Instances          P          R      mAP50   \n",
      "                   all        500      10168       0.68      0.409      0.472      0.252\n",
      "\n",
      "      Epoch    GPU_mem   box_loss   obj_loss   cls_loss  Instances       Size\n",
      "      30/99      3.62G    0.04767    0.06153   0.008266        579        640: 1\n",
      "                 Class     Images  Instances          P          R      mAP50   \n",
      "                   all        500      10168      0.605      0.423      0.456      0.255\n",
      "\n",
      "      Epoch    GPU_mem   box_loss   obj_loss   cls_loss  Instances       Size\n",
      "      31/99      3.62G    0.04737     0.0611   0.008297        653        640: 1\n",
      "                 Class     Images  Instances          P          R      mAP50   \n",
      "                   all        500      10168      0.726      0.421      0.483      0.264\n",
      "\n",
      "      Epoch    GPU_mem   box_loss   obj_loss   cls_loss  Instances       Size\n",
      "      32/99      3.62G    0.04719    0.06075   0.008144        430        640: 1\n",
      "                 Class     Images  Instances          P          R      mAP50   \n",
      "                   all        500      10168        0.7       0.42      0.476      0.264\n",
      "\n",
      "      Epoch    GPU_mem   box_loss   obj_loss   cls_loss  Instances       Size\n",
      "      33/99      3.62G    0.04696    0.05995   0.008249        528        640: 1\n",
      "                 Class     Images  Instances          P          R      mAP50   \n",
      "                   all        500      10168      0.694      0.412      0.465      0.256\n",
      "\n",
      "      Epoch    GPU_mem   box_loss   obj_loss   cls_loss  Instances       Size\n",
      "      34/99      3.62G    0.04719    0.06053   0.008192        416        640: 1\n",
      "                 Class     Images  Instances          P          R      mAP50   \n",
      "                   all        500      10168      0.686      0.416      0.472      0.261\n",
      "\n",
      "      Epoch    GPU_mem   box_loss   obj_loss   cls_loss  Instances       Size\n",
      "      35/99      3.62G    0.04672    0.05901   0.007891        481        640: 1\n",
      "                 Class     Images  Instances          P          R      mAP50   \n",
      "                   all        500      10168      0.706      0.411      0.473      0.258\n",
      "\n",
      "      Epoch    GPU_mem   box_loss   obj_loss   cls_loss  Instances       Size\n",
      "      36/99      3.62G    0.04663    0.06078   0.008062        417        640: 1\n",
      "                 Class     Images  Instances          P          R      mAP50   \n",
      "                   all        500      10168      0.614      0.422      0.459      0.257\n",
      "\n",
      "      Epoch    GPU_mem   box_loss   obj_loss   cls_loss  Instances       Size\n",
      "      37/99      3.62G    0.04638    0.06029    0.00794        349        640: 1\n",
      "                 Class     Images  Instances          P          R      mAP50   \n",
      "                   all        500      10168      0.661      0.437      0.482      0.267\n",
      "\n",
      "      Epoch    GPU_mem   box_loss   obj_loss   cls_loss  Instances       Size\n",
      "      38/99      3.62G    0.04655    0.06005   0.007853        397        640: 1\n",
      "                 Class     Images  Instances          P          R      mAP50   \n",
      "                   all        500      10168      0.703      0.433      0.485      0.269\n",
      "\n",
      "      Epoch    GPU_mem   box_loss   obj_loss   cls_loss  Instances       Size\n",
      "      39/99      3.62G      0.046    0.05901   0.007709        537        640: 1\n",
      "                 Class     Images  Instances          P          R      mAP50   \n",
      "                   all        500      10168      0.703      0.396      0.471      0.263\n",
      "\n",
      "      Epoch    GPU_mem   box_loss   obj_loss   cls_loss  Instances       Size\n",
      "      40/99      3.62G    0.04621    0.05937   0.007759        576        640: 1\n",
      "                 Class     Images  Instances          P          R      mAP50   \n",
      "                   all        500      10168      0.689      0.428      0.488      0.269\n",
      "\n",
      "      Epoch    GPU_mem   box_loss   obj_loss   cls_loss  Instances       Size\n",
      "      41/99      3.62G    0.04604    0.05947   0.007698        540        640: 1\n",
      "                 Class     Images  Instances          P          R      mAP50   \n",
      "                   all        500      10168      0.677      0.424      0.467      0.261\n",
      "\n",
      "      Epoch    GPU_mem   box_loss   obj_loss   cls_loss  Instances       Size\n",
      "      42/99      3.62G      0.046    0.05887   0.007552        653        640: 1\n",
      "                 Class     Images  Instances          P          R      mAP50   \n",
      "                   all        500      10168      0.677      0.426      0.475      0.263\n",
      "\n",
      "      Epoch    GPU_mem   box_loss   obj_loss   cls_loss  Instances       Size\n",
      "      43/99      3.62G    0.04585    0.05886    0.00765        619        640: 1\n",
      "                 Class     Images  Instances          P          R      mAP50   \n",
      "                   all        500      10168       0.71       0.41      0.468      0.263\n",
      "\n",
      "      Epoch    GPU_mem   box_loss   obj_loss   cls_loss  Instances       Size\n",
      "      44/99      3.62G    0.04568    0.05906   0.007572        586        640: 1\n",
      "                 Class     Images  Instances          P          R      mAP50   \n",
      "                   all        500      10168      0.614      0.416      0.462      0.261\n",
      "\n",
      "      Epoch    GPU_mem   box_loss   obj_loss   cls_loss  Instances       Size\n",
      "      45/99      3.62G    0.04521    0.05732   0.007422        515        640: 1\n",
      "                 Class     Images  Instances          P          R      mAP50   \n",
      "                   all        500      10168      0.665       0.41      0.463      0.264\n",
      "\n",
      "      Epoch    GPU_mem   box_loss   obj_loss   cls_loss  Instances       Size\n",
      "      46/99      3.62G    0.04573    0.05972   0.007548        498        640: 1\n",
      "                 Class     Images  Instances          P          R      mAP50   \n",
      "                   all        500      10168      0.636      0.405      0.464      0.261\n",
      "\n",
      "      Epoch    GPU_mem   box_loss   obj_loss   cls_loss  Instances       Size\n",
      "      47/99      3.62G    0.04529    0.05808   0.007476        481        640: 1\n",
      "                 Class     Images  Instances          P          R      mAP50   \n",
      "                   all        500      10168      0.599       0.43      0.468      0.269\n",
      "\n",
      "      Epoch    GPU_mem   box_loss   obj_loss   cls_loss  Instances       Size\n",
      "      48/99      3.62G    0.04518    0.05858   0.007366        586        640: 1\n",
      "                 Class     Images  Instances          P          R      mAP50   \n",
      "                   all        500      10168      0.677        0.4      0.468      0.267\n",
      "\n",
      "      Epoch    GPU_mem   box_loss   obj_loss   cls_loss  Instances       Size\n",
      "      49/99      3.62G    0.04507    0.05798   0.007301        454        640: 1\n",
      "                 Class     Images  Instances          P          R      mAP50   \n",
      "                   all        500      10168      0.701      0.425       0.49      0.273\n",
      "\n",
      "      Epoch    GPU_mem   box_loss   obj_loss   cls_loss  Instances       Size\n",
      "      50/99      3.62G    0.04508    0.05769   0.007354        550        640: 1\n",
      "                 Class     Images  Instances          P          R      mAP50   \n",
      "                   all        500      10168      0.682       0.42      0.477      0.271\n",
      "\n",
      "      Epoch    GPU_mem   box_loss   obj_loss   cls_loss  Instances       Size\n",
      "      51/99      3.62G    0.04479    0.05725   0.007182        501        640: 1\n",
      "                 Class     Images  Instances          P          R      mAP50   \n",
      "                   all        500      10168      0.693      0.433      0.481      0.271\n",
      "\n",
      "      Epoch    GPU_mem   box_loss   obj_loss   cls_loss  Instances       Size\n",
      "      52/99      3.62G    0.04487    0.05774   0.007118        410        640: 1\n",
      "                 Class     Images  Instances          P          R      mAP50   \n",
      "                   all        500      10168      0.653       0.43      0.481      0.277\n",
      "\n",
      "      Epoch    GPU_mem   box_loss   obj_loss   cls_loss  Instances       Size\n",
      "      53/99      3.62G    0.04436    0.05678   0.006953        497        640: 1\n",
      "                 Class     Images  Instances          P          R      mAP50   \n",
      "                   all        500      10168      0.647      0.412      0.461      0.264\n",
      "\n",
      "      Epoch    GPU_mem   box_loss   obj_loss   cls_loss  Instances       Size\n",
      "      54/99      3.62G    0.04453    0.05767   0.007116        477        640: 1\n",
      "                 Class     Images  Instances          P          R      mAP50   \n",
      "                   all        500      10168      0.676      0.422      0.473      0.274\n",
      "\n",
      "      Epoch    GPU_mem   box_loss   obj_loss   cls_loss  Instances       Size\n",
      "      55/99      3.62G    0.04422     0.0567   0.006987        501        640: 1\n",
      "                 Class     Images  Instances          P          R      mAP50   \n",
      "                   all        500      10168      0.694      0.402       0.46      0.264\n",
      "\n",
      "      Epoch    GPU_mem   box_loss   obj_loss   cls_loss  Instances       Size\n",
      "      56/99      3.62G    0.04456    0.05737   0.007107        612        640: 1\n",
      "                 Class     Images  Instances          P          R      mAP50   \n",
      "                   all        500      10168      0.712      0.413      0.475      0.268\n",
      "\n",
      "      Epoch    GPU_mem   box_loss   obj_loss   cls_loss  Instances       Size\n",
      "      57/99      3.62G    0.04423    0.05728   0.006873        568        640: 1\n",
      "                 Class     Images  Instances          P          R      mAP50   \n",
      "                   all        500      10168      0.698      0.415      0.471      0.268\n",
      "\n",
      "      Epoch    GPU_mem   box_loss   obj_loss   cls_loss  Instances       Size\n",
      "      58/99      3.62G     0.0441    0.05698   0.006778        376        640: 1\n",
      "                 Class     Images  Instances          P          R      mAP50   \n",
      "                   all        500      10168       0.68      0.403      0.465      0.268\n",
      "\n",
      "      Epoch    GPU_mem   box_loss   obj_loss   cls_loss  Instances       Size\n",
      "      59/99      3.62G    0.04408    0.05698   0.006923        367        640: 1\n",
      "                 Class     Images  Instances          P          R      mAP50   \n",
      "                   all        500      10168      0.729      0.397      0.467      0.265\n",
      "\n",
      "      Epoch    GPU_mem   box_loss   obj_loss   cls_loss  Instances       Size\n",
      "      60/99      3.62G    0.04379    0.05616   0.006686        371        640: 1\n",
      "                 Class     Images  Instances          P          R      mAP50   \n",
      "                   all        500      10168      0.679      0.416      0.468      0.269\n",
      "\n",
      "      Epoch    GPU_mem   box_loss   obj_loss   cls_loss  Instances       Size\n",
      "      61/99      3.62G    0.04404    0.05741    0.00676        603        640: 1\n",
      "                 Class     Images  Instances          P          R      mAP50   \n",
      "                   all        500      10168      0.678      0.444      0.488      0.279\n",
      "\n",
      "      Epoch    GPU_mem   box_loss   obj_loss   cls_loss  Instances       Size\n",
      "      62/99      3.62G    0.04377    0.05669   0.006865        497        640: 1\n",
      "                 Class     Images  Instances          P          R      mAP50   \n",
      "                   all        500      10168      0.654      0.405      0.458      0.265\n",
      "\n",
      "      Epoch    GPU_mem   box_loss   obj_loss   cls_loss  Instances       Size\n",
      "      63/99      3.62G    0.04377    0.05656    0.00674        467        640: 1\n",
      "                 Class     Images  Instances          P          R      mAP50   \n",
      "                   all        500      10168       0.66       0.42      0.471      0.274\n",
      "\n",
      "      Epoch    GPU_mem   box_loss   obj_loss   cls_loss  Instances       Size\n",
      "      64/99      3.62G     0.0436    0.05662   0.006632        512        640: 1\n",
      "                 Class     Images  Instances          P          R      mAP50   \n",
      "                   all        500      10168      0.696      0.422      0.482      0.274\n",
      "\n",
      "      Epoch    GPU_mem   box_loss   obj_loss   cls_loss  Instances       Size\n",
      "      65/99      3.62G    0.04344     0.0568   0.006591        448        640: 1\n",
      "                 Class     Images  Instances          P          R      mAP50   \n",
      "                   all        500      10168      0.685      0.409      0.473      0.272\n",
      "\n",
      "      Epoch    GPU_mem   box_loss   obj_loss   cls_loss  Instances       Size\n",
      "      66/99      3.62G     0.0433    0.05576   0.006536        565        640: 1\n",
      "                 Class     Images  Instances          P          R      mAP50   \n",
      "                   all        500      10168      0.685      0.427      0.479      0.274\n",
      "\n",
      "      Epoch    GPU_mem   box_loss   obj_loss   cls_loss  Instances       Size\n",
      "      67/99      3.62G    0.04332     0.0562    0.00658        464        640: 1\n",
      "                 Class     Images  Instances          P          R      mAP50   \n",
      "                   all        500      10168      0.678      0.436       0.48      0.273\n",
      "\n",
      "      Epoch    GPU_mem   box_loss   obj_loss   cls_loss  Instances       Size\n",
      "      68/99      3.62G    0.04346    0.05612   0.006571        511        640: 1\n",
      "                 Class     Images  Instances          P          R      mAP50   \n",
      "                   all        500      10168      0.736      0.389      0.466      0.266\n",
      "\n",
      "      Epoch    GPU_mem   box_loss   obj_loss   cls_loss  Instances       Size\n",
      "      69/99      3.62G    0.04313     0.0559   0.006475        534        640: 1\n",
      "                 Class     Images  Instances          P          R      mAP50   \n",
      "                   all        500      10168      0.696      0.429      0.483      0.272\n",
      "\n",
      "      Epoch    GPU_mem   box_loss   obj_loss   cls_loss  Instances       Size\n",
      "      70/99      3.62G    0.04306    0.05592   0.006409        382        640: 1\n",
      "                 Class     Images  Instances          P          R      mAP50   \n",
      "                   all        500      10168      0.679      0.436       0.48      0.273\n",
      "\n",
      "      Epoch    GPU_mem   box_loss   obj_loss   cls_loss  Instances       Size\n",
      "      71/99      3.62G    0.04294    0.05513   0.006423        335        640: 1\n",
      "                 Class     Images  Instances          P          R      mAP50   \n",
      "                   all        500      10168      0.703        0.4      0.468      0.266\n",
      "\n",
      "      Epoch    GPU_mem   box_loss   obj_loss   cls_loss  Instances       Size\n",
      "      72/99      3.62G    0.04293    0.05511   0.006475        562        640: 1\n",
      "                 Class     Images  Instances          P          R      mAP50   \n",
      "                   all        500      10168      0.692      0.422      0.482      0.274\n",
      "\n",
      "      Epoch    GPU_mem   box_loss   obj_loss   cls_loss  Instances       Size\n",
      "      73/99      3.62G    0.04273    0.05576   0.006329        570        640: 1\n",
      "                 Class     Images  Instances          P          R      mAP50   \n",
      "                   all        500      10168      0.688      0.418      0.476      0.273\n",
      "\n",
      "      Epoch    GPU_mem   box_loss   obj_loss   cls_loss  Instances       Size\n",
      "      74/99      3.62G    0.04245    0.05463   0.006276        371        640: 1\n",
      "                 Class     Images  Instances          P          R      mAP50   \n",
      "                   all        500      10168       0.64      0.434      0.482      0.276\n",
      "\n",
      "      Epoch    GPU_mem   box_loss   obj_loss   cls_loss  Instances       Size\n",
      "      75/99      3.62G    0.04277    0.05545   0.006412        526        640: 1\n",
      "                 Class     Images  Instances          P          R      mAP50   \n",
      "                   all        500      10168       0.73      0.428      0.489       0.28\n",
      "\n",
      "      Epoch    GPU_mem   box_loss   obj_loss   cls_loss  Instances       Size\n",
      "      76/99      3.62G    0.04263    0.05463   0.006337        431        640: 1\n",
      "                 Class     Images  Instances          P          R      mAP50   \n",
      "                   all        500      10168      0.676      0.442       0.48      0.273\n",
      "\n",
      "      Epoch    GPU_mem   box_loss   obj_loss   cls_loss  Instances       Size\n",
      "      77/99      3.62G    0.04262    0.05455   0.006156        466        640: 1\n",
      "                 Class     Images  Instances          P          R      mAP50   \n",
      "                   all        500      10168      0.632      0.444       0.48      0.277\n",
      "\n",
      "      Epoch    GPU_mem   box_loss   obj_loss   cls_loss  Instances       Size\n",
      "      78/99      3.62G    0.04237    0.05439   0.006353        350        640: 1\n",
      "                 Class     Images  Instances          P          R      mAP50   \n",
      "                   all        500      10168      0.723      0.425      0.482      0.276\n",
      "\n",
      "      Epoch    GPU_mem   box_loss   obj_loss   cls_loss  Instances       Size\n",
      "      79/99      3.62G    0.04239    0.05535   0.006142        606        640: 1\n",
      "                 Class     Images  Instances          P          R      mAP50   \n",
      "                   all        500      10168      0.706      0.433      0.488      0.278\n",
      "\n",
      "      Epoch    GPU_mem   box_loss   obj_loss   cls_loss  Instances       Size\n",
      "      80/99      3.62G    0.04254    0.05435   0.006219        561        640: 1\n",
      "                 Class     Images  Instances          P          R      mAP50   \n",
      "                   all        500      10168      0.735      0.424      0.496       0.28\n",
      "\n",
      "      Epoch    GPU_mem   box_loss   obj_loss   cls_loss  Instances       Size\n",
      "      81/99      3.62G    0.04249    0.05435   0.006146        565        640: 1\n",
      "                 Class     Images  Instances          P          R      mAP50   \n",
      "                   all        500      10168      0.728      0.408      0.476      0.279\n",
      "\n",
      "      Epoch    GPU_mem   box_loss   obj_loss   cls_loss  Instances       Size\n",
      "      82/99      3.62G    0.04234    0.05431   0.006144        662        640: 1\n",
      "                 Class     Images  Instances          P          R      mAP50   \n",
      "                   all        500      10168      0.736      0.428      0.482       0.28\n",
      "\n",
      "      Epoch    GPU_mem   box_loss   obj_loss   cls_loss  Instances       Size\n",
      "      83/99      3.62G    0.04211    0.05436   0.006032        397        640: 1\n",
      "                 Class     Images  Instances          P          R      mAP50   \n",
      "                   all        500      10168      0.683      0.437      0.489      0.279\n",
      "\n",
      "      Epoch    GPU_mem   box_loss   obj_loss   cls_loss  Instances       Size\n",
      "      84/99      3.62G    0.04208     0.0544   0.005941        545        640: 1\n",
      "                 Class     Images  Instances          P          R      mAP50   \n",
      "                   all        500      10168      0.703      0.418      0.476      0.274\n",
      "\n",
      "      Epoch    GPU_mem   box_loss   obj_loss   cls_loss  Instances       Size\n",
      "      85/99      3.62G    0.04207    0.05421    0.00599        414        640: 1\n",
      "                 Class     Images  Instances          P          R      mAP50   \n",
      "                   all        500      10168      0.725      0.425       0.48      0.272\n",
      "\n",
      "      Epoch    GPU_mem   box_loss   obj_loss   cls_loss  Instances       Size\n",
      "      86/99      3.62G    0.04183     0.0537   0.005955        310        640: 1\n",
      "                 Class     Images  Instances          P          R      mAP50   \n",
      "                   all        500      10168       0.72      0.416      0.472      0.277\n",
      "\n",
      "      Epoch    GPU_mem   box_loss   obj_loss   cls_loss  Instances       Size\n",
      "      87/99      3.62G    0.04173    0.05384   0.005922        344        640: 1\n",
      "                 Class     Images  Instances          P          R      mAP50   \n",
      "                   all        500      10168      0.661      0.427      0.476      0.279\n",
      "\n",
      "      Epoch    GPU_mem   box_loss   obj_loss   cls_loss  Instances       Size\n",
      "      88/99      3.62G    0.04174    0.05319   0.005965        437        640: 1\n",
      "                 Class     Images  Instances          P          R      mAP50   \n",
      "                   all        500      10168       0.72       0.41       0.47      0.274\n",
      "\n",
      "      Epoch    GPU_mem   box_loss   obj_loss   cls_loss  Instances       Size\n",
      "      89/99      3.62G    0.04182    0.05319   0.005944        476        640: 1\n",
      "                 Class     Images  Instances          P          R      mAP50   \n",
      "                   all        500      10168      0.715      0.406      0.471      0.273\n",
      "\n",
      "      Epoch    GPU_mem   box_loss   obj_loss   cls_loss  Instances       Size\n",
      "      90/99      3.62G    0.04137    0.05256   0.005747        527        640: 1\n",
      "                 Class     Images  Instances          P          R      mAP50   \n",
      "                   all        500      10168      0.702      0.409      0.469      0.274\n",
      "\n",
      "      Epoch    GPU_mem   box_loss   obj_loss   cls_loss  Instances       Size\n",
      "      91/99      3.62G    0.04158    0.05311   0.005809        434        640: 1\n",
      "                 Class     Images  Instances          P          R      mAP50   \n",
      "                   all        500      10168      0.706      0.418      0.476      0.275\n",
      "\n",
      "      Epoch    GPU_mem   box_loss   obj_loss   cls_loss  Instances       Size\n",
      "      92/99      3.62G    0.04129    0.05308   0.005958        445        640: 1\n",
      "                 Class     Images  Instances          P          R      mAP50   \n",
      "                   all        500      10168      0.695      0.418      0.476      0.277\n",
      "\n",
      "      Epoch    GPU_mem   box_loss   obj_loss   cls_loss  Instances       Size\n",
      "      93/99      3.62G    0.04151    0.05405   0.005871        492        640: 1\n",
      "                 Class     Images  Instances          P          R      mAP50   \n",
      "                   all        500      10168      0.662       0.44      0.476      0.276\n",
      "\n",
      "      Epoch    GPU_mem   box_loss   obj_loss   cls_loss  Instances       Size\n",
      "      94/99      3.62G    0.04176    0.05386   0.005904        386        640: 1\n",
      "                 Class     Images  Instances          P          R      mAP50   \n",
      "                   all        500      10168      0.681      0.434      0.481      0.281\n",
      "\n",
      "      Epoch    GPU_mem   box_loss   obj_loss   cls_loss  Instances       Size\n",
      "      95/99      3.62G    0.04166    0.05337   0.005918        435        640: 1\n",
      "                 Class     Images  Instances          P          R      mAP50   \n",
      "                   all        500      10168      0.698      0.419      0.474      0.277\n",
      "\n",
      "      Epoch    GPU_mem   box_loss   obj_loss   cls_loss  Instances       Size\n",
      "      96/99      3.62G    0.04135    0.05284   0.005799        391        640: 1\n",
      "                 Class     Images  Instances          P          R      mAP50   \n",
      "                   all        500      10168      0.717      0.416      0.479      0.276\n",
      "\n",
      "      Epoch    GPU_mem   box_loss   obj_loss   cls_loss  Instances       Size\n",
      "      97/99      3.62G    0.04147    0.05222   0.005789        636        640: 1\n",
      "                 Class     Images  Instances          P          R      mAP50   \n",
      "                   all        500      10168        0.7      0.424       0.48      0.278\n",
      "\n",
      "      Epoch    GPU_mem   box_loss   obj_loss   cls_loss  Instances       Size\n",
      "      98/99      3.62G    0.04129    0.05281   0.005768        456        640: 1\n",
      "                 Class     Images  Instances          P          R      mAP50   \n",
      "                   all        500      10168      0.705      0.411      0.473      0.276\n",
      "\n",
      "      Epoch    GPU_mem   box_loss   obj_loss   cls_loss  Instances       Size\n",
      "      99/99      3.62G    0.04122    0.05237   0.005677        407        640: 1\n",
      "                 Class     Images  Instances          P          R      mAP50   \n",
      "                   all        500      10168      0.704      0.415      0.472      0.276\n",
      "\n",
      "100 epochs completed in 2.284 hours.\n",
      "Optimizer stripped from runs/train/exp12/weights/last.pt, 14.4MB\n",
      "Optimizer stripped from runs/train/exp12/weights/best.pt, 14.4MB\n",
      "\n",
      "Validating runs/train/exp12/weights/best.pt...\n",
      "Fusing layers... \n",
      "Model summary: 157 layers, 7031701 parameters, 0 gradients, 15.8 GFLOPs\n",
      "                 Class     Images  Instances          P          R      mAP50   \n",
      "                   all        500      10168      0.741      0.424      0.496       0.28\n",
      "                person        500       3415      0.735      0.434      0.503      0.253\n",
      "                 rider        500        552      0.805      0.409      0.493      0.273\n",
      "                   car        500       4667      0.829      0.622      0.717      0.471\n",
      "                 truck        500         93      0.626      0.312       0.37      0.273\n",
      "                   bus        500         98      0.789      0.531       0.59       0.44\n",
      "                 train        500         23       0.77      0.435      0.521      0.199\n",
      "            motorcycle        500        149      0.708      0.309      0.377      0.147\n",
      "               bicycle        500       1171      0.664      0.337      0.394      0.183\n",
      "Results saved to \u001b[1mruns/train/exp12\u001b[0m\n"
     ]
    }
   ],
   "source": [
    "!python train.py --img 640 --batch 16 --epochs 100 --data data/cityscapes.yaml --weights yolov5s.pt --label-smoothing 0"
   ]
  },
  {
   "cell_type": "code",
   "execution_count": 6,
   "metadata": {},
   "outputs": [
    {
     "name": "stdout",
     "output_type": "stream",
     "text": [
      "\u001b[34m\u001b[1mval: \u001b[0mdata=data/cityscapes.yaml, weights=['runs/train/exp12/weights/best.pt'], batch_size=16, imgsz=640, conf_thres=0.001, iou_thres=0.6, max_det=300, task=val, device=, workers=8, single_cls=False, augment=False, verbose=False, save_txt=False, save_hybrid=False, save_conf=False, save_json=False, project=runs/val, name=exp, exist_ok=False, half=False, dnn=False\n",
      "YOLOv5 🚀 v7.0-330-gb20fa802 Python-3.10.10 torch-2.2.1+cu121 CUDA:0 (NVIDIA L4, 22700MiB)\n",
      "\n",
      "Fusing layers... \n",
      "Model summary: 157 layers, 7031701 parameters, 0 gradients, 15.8 GFLOPs\n",
      "\u001b[34m\u001b[1mval: \u001b[0mScanning /teamspace/studios/this_studio/dataset/labels/val/frankfurt.cache.\u001b[0m\n",
      "\u001b[34m\u001b[1mval: \u001b[0mWARNING ⚠️ /teamspace/studios/this_studio/dataset/images/val/frankfurt/frankfurt_000001_016273_leftImg8bit.png: 1 duplicate labels removed\n",
      "\u001b[34m\u001b[1mval: \u001b[0mWARNING ⚠️ /teamspace/studios/this_studio/dataset/images/val/frankfurt/frankfurt_000001_017101_leftImg8bit.png: 1 duplicate labels removed\n",
      "\u001b[34m\u001b[1mval: \u001b[0mWARNING ⚠️ /teamspace/studios/this_studio/dataset/images/val/frankfurt/frankfurt_000001_077434_leftImg8bit.png: 1 duplicate labels removed\n",
      "\u001b[34m\u001b[1mval: \u001b[0mWARNING ⚠️ /teamspace/studios/this_studio/dataset/images/val/munster/munster_000026_000019_leftImg8bit.png: 2 duplicate labels removed\n",
      "\u001b[34m\u001b[1mval: \u001b[0mWARNING ⚠️ /teamspace/studios/this_studio/dataset/images/val/munster/munster_000029_000019_leftImg8bit.png: 1 duplicate labels removed\n",
      "\u001b[34m\u001b[1mval: \u001b[0mWARNING ⚠️ /teamspace/studios/this_studio/dataset/images/val/munster/munster_000049_000019_leftImg8bit.png: 1 duplicate labels removed\n",
      "\u001b[34m\u001b[1mval: \u001b[0mWARNING ⚠️ /teamspace/studios/this_studio/dataset/images/val/munster/munster_000108_000019_leftImg8bit.png: 1 duplicate labels removed\n",
      "\u001b[34m\u001b[1mval: \u001b[0mWARNING ⚠️ /teamspace/studios/this_studio/dataset/images/val/munster/munster_000140_000019_leftImg8bit.png: 1 duplicate labels removed\n",
      "\u001b[34m\u001b[1mval: \u001b[0mWARNING ⚠️ /teamspace/studios/this_studio/dataset/images/val/munster/munster_000141_000019_leftImg8bit.png: 1 duplicate labels removed\n",
      "\u001b[34m\u001b[1mval: \u001b[0mWARNING ⚠️ /teamspace/studios/this_studio/dataset/images/val/munster/munster_000142_000019_leftImg8bit.png: 1 duplicate labels removed\n",
      "\u001b[34m\u001b[1mval: \u001b[0mWARNING ⚠️ /teamspace/studios/this_studio/dataset/images/val/munster/munster_000167_000019_leftImg8bit.png: 1 duplicate labels removed\n",
      "                 Class     Images  Instances          P          R      mAP50   \n",
      "                   all        500      10168      0.735      0.424      0.495       0.28\n",
      "                person        500       3415      0.731      0.435      0.505      0.253\n",
      "                 rider        500        552      0.796      0.408       0.49      0.271\n",
      "                   car        500       4667       0.83      0.624      0.717      0.471\n",
      "                 truck        500         93      0.626      0.312       0.37      0.273\n",
      "                   bus        500         98      0.785      0.531      0.589       0.44\n",
      "                 train        500         23       0.77      0.435      0.521      0.199\n",
      "            motorcycle        500        149      0.685      0.309      0.377      0.149\n",
      "               bicycle        500       1171       0.66      0.337      0.395      0.184\n",
      "Speed: 0.1ms pre-process, 2.8ms inference, 4.7ms NMS per image at shape (16, 3, 640, 640)\n",
      "Results saved to \u001b[1mruns/val/exp\u001b[0m\n"
     ]
    }
   ],
   "source": [
    "!python val.py --weights runs/train/exp12/weights/best.pt --data data/cityscapes.yaml --img 640 --batch 16"
   ]
  },
  {
   "cell_type": "code",
   "execution_count": 26,
   "metadata": {},
   "outputs": [
    {
     "name": "stdout",
     "output_type": "stream",
     "text": [
      "\u001b[34m\u001b[1mdetect: \u001b[0mweights=['runs/train/exp12/weights/best.pt'], source=/teamspace/studios/this_studio/dataset/images/test/bielefeld/bielefeld_000000_001705_leftImg8bit.png, data=data/coco128.yaml, imgsz=[640, 640], conf_thres=0.25, iou_thres=0.45, max_det=1000, device=, view_img=False, save_txt=False, save_csv=False, save_conf=False, save_crop=False, nosave=False, classes=None, agnostic_nms=False, augment=False, visualize=False, update=False, project=runs/detect, name=exp, exist_ok=False, line_thickness=3, hide_labels=False, hide_conf=False, half=False, dnn=False, vid_stride=1\n",
      "YOLOv5 🚀 v7.0-330-gb20fa802 Python-3.10.10 torch-2.2.1+cu121 CUDA:0 (NVIDIA L4, 22700MiB)\n",
      "\n",
      "Fusing layers... \n",
      "Model summary: 157 layers, 7031701 parameters, 0 gradients, 15.8 GFLOPs\n",
      "image 1/1 /teamspace/studios/this_studio/dataset/images/test/bielefeld/bielefeld_000000_001705_leftImg8bit.png: 320x640 1 person, 15 cars, 60.5ms\n",
      "Speed: 0.3ms pre-process, 60.5ms inference, 291.6ms NMS per image at shape (1, 3, 640, 640)\n",
      "Results saved to \u001b[1mruns/detect/exp2\u001b[0m\n"
     ]
    }
   ],
   "source": [
    "!python detect.py --weights runs/train/exp12/weights/best.pt --img 640 --conf 0.25 --source /teamspace/studios/this_studio/dataset/images/test/bielefeld/bielefeld_000000_001705_leftImg8bit.png"
   ]
  },
  {
   "cell_type": "code",
   "execution_count": 27,
   "metadata": {},
   "outputs": [
    {
     "data": {
      "image/png": "[encoded data removed]",
      "text/plain": [
       "<Figure size 640x480 with 1 Axes>"
      ]
     },
     "metadata": {},
     "output_type": "display_data"
    }
   ],
   "source": [
    "from PIL import Image\n",
    "import matplotlib.pyplot as plt\n",
    "\n",
    "# Load the image with detections\n",
    "img_path = 'runs/detect/exp2/bielefeld_000000_001705_leftImg8bit.png'\n",
    "img = Image.open(img_path)\n",
    "\n",
    "# Display the image\n",
    "plt.imshow(img)\n",
    "plt.axis('off')  # Hide axes\n",
    "plt.show()\n"
   ]
  },
  {
   "cell_type": "markdown",
   "metadata": {},
   "source": [
    "## YOLOv5 Extra Larg"
   ]
  },
  {
   "cell_type": "code",
   "execution_count": 3,
   "metadata": {},
   "outputs": [
    {
     "name": "stdout",
     "output_type": "stream",
     "text": [
      "\u001b[34m\u001b[1mtrain: \u001b[0mweights=yolov5x.pt, cfg=, data=data/cityscapes.yaml, hyp=data/hyps/hyp.scratch-low.yaml, epochs=100, batch_size=16, imgsz=640, rect=False, resume=False, nosave=False, noval=False, noautoanchor=False, noplots=False, evolve=None, evolve_population=data/hyps, resume_evolve=None, bucket=, cache=None, image_weights=False, device=, multi_scale=False, single_cls=False, optimizer=SGD, sync_bn=False, workers=8, project=runs/train, name=exp, exist_ok=False, quad=False, cos_lr=False, label_smoothing=0.0, patience=100, freeze=[0], save_period=-1, seed=0, local_rank=-1, entity=None, upload_dataset=False, bbox_interval=-1, artifact_alias=latest, ndjson_console=False, ndjson_file=False\n",
      "remote: Enumerating objects: 5, done.\u001b[K\n",
      "remote: Counting objects: 100% (5/5), done.\u001b[K\n",
      "remote: Compressing objects: 100% (2/2), done.\u001b[K\n",
      "remote: Total 5 (delta 3), reused 4 (delta 3), pack-reused 0\u001b[K\n",
      "Unpacking objects: 100% (5/5), 1.88 KiB | 481.00 KiB/s, done.\n",
      "From https://github.com/ultralytics/yolov5\n",
      "   b20fa802..ab364c98  master     -> origin/master\n",
      "\u001b[34m\u001b[1mgithub: \u001b[0m⚠️ YOLOv5 is out of date by 1 commit. Use 'git pull' or 'git clone https://github.com/ultralytics/yolov5' to update.\n",
      "YOLOv5 🚀 v7.0-330-gb20fa802 Python-3.10.10 torch-2.2.1+cu121 CUDA:0 (NVIDIA L4, 22700MiB)\n",
      "\n",
      "\u001b[34m\u001b[1mhyperparameters: \u001b[0mlr0=0.01, lrf=0.01, momentum=0.937, weight_decay=0.0005, warmup_epochs=3.0, warmup_momentum=0.8, warmup_bias_lr=0.1, box=0.05, cls=0.5, cls_pw=1.0, obj=1.0, obj_pw=1.0, iou_t=0.2, anchor_t=4.0, fl_gamma=0.0, hsv_h=0.015, hsv_s=0.7, hsv_v=0.4, degrees=0.0, translate=0.1, scale=0.5, shear=0.0, perspective=0.0, flipud=0.0, fliplr=0.5, mosaic=1.0, mixup=0.0, copy_paste=0.0\n",
      "\u001b[34m\u001b[1mComet: \u001b[0mrun 'pip install comet_ml' to automatically track and visualize YOLOv5 🚀 runs in Comet\n",
      "\u001b[34m\u001b[1mTensorBoard: \u001b[0mStart with 'tensorboard --logdir runs/train', view at http://localhost:6006/\n",
      "Downloading https://github.com/ultralytics/yolov5/releases/download/v7.0/yolov5x.pt to yolov5x.pt...\n",
      "100%|█████████████████████████████████████████| 166M/166M [00:00<00:00, 228MB/s]\n",
      "\n",
      "Overriding model.yaml nc=80 with nc=8\n",
      "\n",
      "                 from  n    params  module                                  arguments                     \n",
      "  0                -1  1      8800  models.common.Conv                      [3, 80, 6, 2, 2]              \n",
      "  1                -1  1    115520  models.common.Conv                      [80, 160, 3, 2]               \n",
      "  2                -1  4    309120  models.common.C3                        [160, 160, 4]                 \n",
      "  3                -1  1    461440  models.common.Conv                      [160, 320, 3, 2]              \n",
      "  4                -1  8   2259200  models.common.C3                        [320, 320, 8]                 \n",
      "  5                -1  1   1844480  models.common.Conv                      [320, 640, 3, 2]              \n",
      "  6                -1 12  13125120  models.common.C3                        [640, 640, 12]                \n",
      "  7                -1  1   7375360  models.common.Conv                      [640, 1280, 3, 2]             \n",
      "  8                -1  4  19676160  models.common.C3                        [1280, 1280, 4]               \n",
      "  9                -1  1   4099840  models.common.SPPF                      [1280, 1280, 5]               \n",
      " 10                -1  1    820480  models.common.Conv                      [1280, 640, 1, 1]             \n",
      " 11                -1  1         0  torch.nn.modules.upsampling.Upsample    [None, 2, 'nearest']          \n",
      " 12           [-1, 6]  1         0  models.common.Concat                    [1]                           \n",
      " 13                -1  4   5332480  models.common.C3                        [1280, 640, 4, False]         \n",
      " 14                -1  1    205440  models.common.Conv                      [640, 320, 1, 1]              \n",
      " 15                -1  1         0  torch.nn.modules.upsampling.Upsample    [None, 2, 'nearest']          \n",
      " 16           [-1, 4]  1         0  models.common.Concat                    [1]                           \n",
      " 17                -1  4   1335040  models.common.C3                        [640, 320, 4, False]          \n",
      " 18                -1  1    922240  models.common.Conv                      [320, 320, 3, 2]              \n",
      " 19          [-1, 14]  1         0  models.common.Concat                    [1]                           \n",
      " 20                -1  4   4922880  models.common.C3                        [640, 640, 4, False]          \n",
      " 21                -1  1   3687680  models.common.Conv                      [640, 640, 3, 2]              \n",
      " 22          [-1, 10]  1         0  models.common.Concat                    [1]                           \n",
      " 23                -1  4  19676160  models.common.C3                        [1280, 1280, 4, False]        \n",
      " 24      [17, 20, 23]  1     87477  models.yolo.Detect                      [8, [[10, 13, 16, 30, 33, 23], [30, 61, 62, 45, 59, 119], [116, 90, 156, 198, 373, 326]], [320, 640, 1280]]\n",
      "Model summary: 445 layers, 86264917 parameters, 86264917 gradients, 204.8 GFLOPs\n",
      "\n",
      "Transferred 739/745 items from yolov5x.pt\n",
      "\u001b[34m\u001b[1mAMP: \u001b[0mchecks passed ✅\n",
      "\u001b[34m\u001b[1moptimizer:\u001b[0m SGD(lr=0.01) with parameter groups 123 weight(decay=0.0), 126 weight(decay=0.0005), 126 bias\n",
      "\u001b[34m\u001b[1mtrain: \u001b[0mScanning /teamspace/studios/this_studio/dataset/labels/train/aachen.cache\u001b[0m\n",
      "\u001b[34m\u001b[1mtrain: \u001b[0mWARNING ⚠️ /teamspace/studios/this_studio/dataset/images/train/aachen/aachen_000000_000019_leftImg8bit.png: 3 duplicate labels removed\n",
      "\u001b[34m\u001b[1mtrain: \u001b[0mWARNING ⚠️ /teamspace/studios/this_studio/dataset/images/train/aachen/aachen_000022_000019_leftImg8bit.png: 1 duplicate labels removed\n",
      "\u001b[34m\u001b[1mtrain: \u001b[0mWARNING ⚠️ /teamspace/studios/this_studio/dataset/images/train/aachen/aachen_000030_000019_leftImg8bit.png: 3 duplicate labels removed\n",
      "\u001b[34m\u001b[1mtrain: \u001b[0mWARNING ⚠️ /teamspace/studios/this_studio/dataset/images/train/aachen/aachen_000031_000019_leftImg8bit.png: 1 duplicate labels removed\n",
      "\u001b[34m\u001b[1mtrain: \u001b[0mWARNING ⚠️ /teamspace/studios/this_studio/dataset/images/train/aachen/aachen_000042_000019_leftImg8bit.png: 1 duplicate labels removed\n",
      "\u001b[34m\u001b[1mtrain: \u001b[0mWARNING ⚠️ /teamspace/studios/this_studio/dataset/images/train/aachen/aachen_000060_000019_leftImg8bit.png: 15 duplicate labels removed\n",
      "\u001b[34m\u001b[1mtrain: \u001b[0mWARNING ⚠️ /teamspace/studios/this_studio/dataset/images/train/aachen/aachen_000061_000019_leftImg8bit.png: 34 duplicate labels removed\n",
      "\u001b[34m\u001b[1mtrain: \u001b[0mWARNING ⚠️ /teamspace/studios/this_studio/dataset/images/train/aachen/aachen_000062_000019_leftImg8bit.png: 3 duplicate labels removed\n",
      "\u001b[34m\u001b[1mtrain: \u001b[0mWARNING ⚠️ /teamspace/studios/this_studio/dataset/images/train/aachen/aachen_000064_000019_leftImg8bit.png: 1 duplicate labels removed\n",
      "\u001b[34m\u001b[1mtrain: \u001b[0mWARNING ⚠️ /teamspace/studios/this_studio/dataset/images/train/aachen/aachen_000078_000019_leftImg8bit.png: 1 duplicate labels removed\n",
      "\u001b[34m\u001b[1mtrain: \u001b[0mWARNING ⚠️ /teamspace/studios/this_studio/dataset/images/train/aachen/aachen_000079_000019_leftImg8bit.png: 2 duplicate labels removed\n",
      "\u001b[34m\u001b[1mtrain: \u001b[0mWARNING ⚠️ /teamspace/studios/this_studio/dataset/images/train/aachen/aachen_000080_000019_leftImg8bit.png: 22 duplicate labels removed\n",
      "\u001b[34m\u001b[1mtrain: \u001b[0mWARNING ⚠️ /teamspace/studios/this_studio/dataset/images/train/aachen/aachen_000090_000019_leftImg8bit.png: 2 duplicate labels removed\n",
      "\u001b[34m\u001b[1mtrain: \u001b[0mWARNING ⚠️ /teamspace/studios/this_studio/dataset/images/train/aachen/aachen_000092_000019_leftImg8bit.png: 1 duplicate labels removed\n",
      "\u001b[34m\u001b[1mtrain: \u001b[0mWARNING ⚠️ /teamspace/studios/this_studio/dataset/images/train/aachen/aachen_000096_000019_leftImg8bit.png: 1 duplicate labels removed\n",
      "\u001b[34m\u001b[1mtrain: \u001b[0mWARNING ⚠️ /teamspace/studios/this_studio/dataset/images/train/aachen/aachen_000098_000019_leftImg8bit.png: 2 duplicate labels removed\n",
      "\u001b[34m\u001b[1mtrain: \u001b[0mWARNING ⚠️ /teamspace/studios/this_studio/dataset/images/train/bochum/bochum_000000_000885_leftImg8bit.png: 1 duplicate labels removed\n",
      "\u001b[34m\u001b[1mtrain: \u001b[0mWARNING ⚠️ /teamspace/studios/this_studio/dataset/images/train/bochum/bochum_000000_004748_leftImg8bit.png: 1 duplicate labels removed\n",
      "\u001b[34m\u001b[1mtrain: \u001b[0mWARNING ⚠️ /teamspace/studios/this_studio/dataset/images/train/bochum/bochum_000000_007651_leftImg8bit.png: 1 duplicate labels removed\n",
      "\u001b[34m\u001b[1mtrain: \u001b[0mWARNING ⚠️ /teamspace/studios/this_studio/dataset/images/train/bochum/bochum_000000_013209_leftImg8bit.png: 1 duplicate labels removed\n",
      "\u001b[34m\u001b[1mtrain: \u001b[0mWARNING ⚠️ /teamspace/studios/this_studio/dataset/images/train/bremen/bremen_000021_000019_leftImg8bit.png: 1 duplicate labels removed\n",
      "\u001b[34m\u001b[1mtrain: \u001b[0mWARNING ⚠️ /teamspace/studios/this_studio/dataset/images/train/bremen/bremen_000060_000019_leftImg8bit.png: 1 duplicate labels removed\n",
      "\u001b[34m\u001b[1mtrain: \u001b[0mWARNING ⚠️ /teamspace/studios/this_studio/dataset/images/train/bremen/bremen_000099_000019_leftImg8bit.png: 1 duplicate labels removed\n",
      "\u001b[34m\u001b[1mtrain: \u001b[0mWARNING ⚠️ /teamspace/studios/this_studio/dataset/images/train/bremen/bremen_000241_000019_leftImg8bit.png: 1 duplicate labels removed\n",
      "\u001b[34m\u001b[1mtrain: \u001b[0mWARNING ⚠️ /teamspace/studios/this_studio/dataset/images/train/cologne/cologne_000004_000019_leftImg8bit.png: 1 duplicate labels removed\n",
      "\u001b[34m\u001b[1mtrain: \u001b[0mWARNING ⚠️ /teamspace/studios/this_studio/dataset/images/train/cologne/cologne_000006_000019_leftImg8bit.png: 1 duplicate labels removed\n",
      "\u001b[34m\u001b[1mtrain: \u001b[0mWARNING ⚠️ /teamspace/studios/this_studio/dataset/images/train/cologne/cologne_000007_000019_leftImg8bit.png: 2 duplicate labels removed\n",
      "\u001b[34m\u001b[1mtrain: \u001b[0mWARNING ⚠️ /teamspace/studios/this_studio/dataset/images/train/cologne/cologne_000009_000019_leftImg8bit.png: 1 duplicate labels removed\n",
      "\u001b[34m\u001b[1mtrain: \u001b[0mWARNING ⚠️ /teamspace/studios/this_studio/dataset/images/train/cologne/cologne_000012_000019_leftImg8bit.png: 3 duplicate labels removed\n",
      "\u001b[34m\u001b[1mtrain: \u001b[0mWARNING ⚠️ /teamspace/studios/this_studio/dataset/images/train/cologne/cologne_000018_000019_leftImg8bit.png: 5 duplicate labels removed\n",
      "\u001b[34m\u001b[1mtrain: \u001b[0mWARNING ⚠️ /teamspace/studios/this_studio/dataset/images/train/cologne/cologne_000019_000019_leftImg8bit.png: 2 duplicate labels removed\n",
      "\u001b[34m\u001b[1mtrain: \u001b[0mWARNING ⚠️ /teamspace/studios/this_studio/dataset/images/train/cologne/cologne_000021_000019_leftImg8bit.png: 1 duplicate labels removed\n",
      "\u001b[34m\u001b[1mtrain: \u001b[0mWARNING ⚠️ /teamspace/studios/this_studio/dataset/images/train/cologne/cologne_000053_000019_leftImg8bit.png: 1 duplicate labels removed\n",
      "\u001b[34m\u001b[1mtrain: \u001b[0mWARNING ⚠️ /teamspace/studios/this_studio/dataset/images/train/cologne/cologne_000090_000019_leftImg8bit.png: 1 duplicate labels removed\n",
      "\u001b[34m\u001b[1mtrain: \u001b[0mWARNING ⚠️ /teamspace/studios/this_studio/dataset/images/train/cologne/cologne_000092_000019_leftImg8bit.png: 3 duplicate labels removed\n",
      "\u001b[34m\u001b[1mtrain: \u001b[0mWARNING ⚠️ /teamspace/studios/this_studio/dataset/images/train/darmstadt/darmstadt_000004_000019_leftImg8bit.png: 1 duplicate labels removed\n",
      "\u001b[34m\u001b[1mtrain: \u001b[0mWARNING ⚠️ /teamspace/studios/this_studio/dataset/images/train/darmstadt/darmstadt_000021_000019_leftImg8bit.png: 1 duplicate labels removed\n",
      "\u001b[34m\u001b[1mtrain: \u001b[0mWARNING ⚠️ /teamspace/studios/this_studio/dataset/images/train/darmstadt/darmstadt_000046_000019_leftImg8bit.png: 1 duplicate labels removed\n",
      "\u001b[34m\u001b[1mtrain: \u001b[0mWARNING ⚠️ /teamspace/studios/this_studio/dataset/images/train/darmstadt/darmstadt_000061_000019_leftImg8bit.png: 1 duplicate labels removed\n",
      "\u001b[34m\u001b[1mtrain: \u001b[0mWARNING ⚠️ /teamspace/studios/this_studio/dataset/images/train/darmstadt/darmstadt_000083_000019_leftImg8bit.png: 1 duplicate labels removed\n",
      "\u001b[34m\u001b[1mtrain: \u001b[0mWARNING ⚠️ /teamspace/studios/this_studio/dataset/images/train/hamburg/hamburg_000000_019892_leftImg8bit.png: 1 duplicate labels removed\n",
      "\u001b[34m\u001b[1mtrain: \u001b[0mWARNING ⚠️ /teamspace/studios/this_studio/dataset/images/train/hamburg/hamburg_000000_032906_leftImg8bit.png: 1 duplicate labels removed\n",
      "\u001b[34m\u001b[1mtrain: \u001b[0mWARNING ⚠️ /teamspace/studios/this_studio/dataset/images/train/hamburg/hamburg_000000_033506_leftImg8bit.png: 5 duplicate labels removed\n",
      "\u001b[34m\u001b[1mtrain: \u001b[0mWARNING ⚠️ /teamspace/studios/this_studio/dataset/images/train/hamburg/hamburg_000000_039420_leftImg8bit.png: 1 duplicate labels removed\n",
      "\u001b[34m\u001b[1mtrain: \u001b[0mWARNING ⚠️ /teamspace/studios/this_studio/dataset/images/train/hamburg/hamburg_000000_053886_leftImg8bit.png: 1 duplicate labels removed\n",
      "\u001b[34m\u001b[1mtrain: \u001b[0mWARNING ⚠️ /teamspace/studios/this_studio/dataset/images/train/hamburg/hamburg_000000_080438_leftImg8bit.png: 1 duplicate labels removed\n",
      "\u001b[34m\u001b[1mtrain: \u001b[0mWARNING ⚠️ /teamspace/studios/this_studio/dataset/images/train/hanover/hanover_000000_014537_leftImg8bit.png: 1 duplicate labels removed\n",
      "\u001b[34m\u001b[1mtrain: \u001b[0mWARNING ⚠️ /teamspace/studios/this_studio/dataset/images/train/hanover/hanover_000000_015587_leftImg8bit.png: 1 duplicate labels removed\n",
      "\u001b[34m\u001b[1mtrain: \u001b[0mWARNING ⚠️ /teamspace/studios/this_studio/dataset/images/train/hanover/hanover_000000_018800_leftImg8bit.png: 2 duplicate labels removed\n",
      "\u001b[34m\u001b[1mtrain: \u001b[0mWARNING ⚠️ /teamspace/studios/this_studio/dataset/images/train/hanover/hanover_000000_019456_leftImg8bit.png: 1 duplicate labels removed\n",
      "\u001b[34m\u001b[1mtrain: \u001b[0mWARNING ⚠️ /teamspace/studios/this_studio/dataset/images/train/hanover/hanover_000000_022645_leftImg8bit.png: 3 duplicate labels removed\n",
      "\u001b[34m\u001b[1mtrain: \u001b[0mWARNING ⚠️ /teamspace/studios/this_studio/dataset/images/train/hanover/hanover_000000_026356_leftImg8bit.png: 1 duplicate labels removed\n",
      "\u001b[34m\u001b[1mtrain: \u001b[0mWARNING ⚠️ /teamspace/studios/this_studio/dataset/images/train/hanover/hanover_000000_034015_leftImg8bit.png: 1 duplicate labels removed\n",
      "\u001b[34m\u001b[1mtrain: \u001b[0mWARNING ⚠️ /teamspace/studios/this_studio/dataset/images/train/hanover/hanover_000000_034141_leftImg8bit.png: 1 duplicate labels removed\n",
      "\u001b[34m\u001b[1mtrain: \u001b[0mWARNING ⚠️ /teamspace/studios/this_studio/dataset/images/train/hanover/hanover_000000_047870_leftImg8bit.png: 1 duplicate labels removed\n",
      "\u001b[34m\u001b[1mtrain: \u001b[0mWARNING ⚠️ /teamspace/studios/this_studio/dataset/images/train/hanover/hanover_000000_051536_leftImg8bit.png: 2 duplicate labels removed\n",
      "\u001b[34m\u001b[1mtrain: \u001b[0mWARNING ⚠️ /teamspace/studios/this_studio/dataset/images/train/krefeld/krefeld_000000_013766_leftImg8bit.png: 1 duplicate labels removed\n",
      "\u001b[34m\u001b[1mtrain: \u001b[0mWARNING ⚠️ /teamspace/studios/this_studio/dataset/images/train/strasbourg/strasbourg_000000_014503_leftImg8bit.png: 1 duplicate labels removed\n",
      "\u001b[34m\u001b[1mtrain: \u001b[0mWARNING ⚠️ /teamspace/studios/this_studio/dataset/images/train/strasbourg/strasbourg_000001_030539_leftImg8bit.png: 1 duplicate labels removed\n",
      "\u001b[34m\u001b[1mtrain: \u001b[0mWARNING ⚠️ /teamspace/studios/this_studio/dataset/images/train/strasbourg/strasbourg_000001_030997_leftImg8bit.png: 1 duplicate labels removed\n",
      "\u001b[34m\u001b[1mtrain: \u001b[0mWARNING ⚠️ /teamspace/studios/this_studio/dataset/images/train/strasbourg/strasbourg_000001_051317_leftImg8bit.png: 1 duplicate labels removed\n",
      "\u001b[34m\u001b[1mtrain: \u001b[0mWARNING ⚠️ /teamspace/studios/this_studio/dataset/images/train/strasbourg/strasbourg_000001_052050_leftImg8bit.png: 1 duplicate labels removed\n",
      "\u001b[34m\u001b[1mtrain: \u001b[0mWARNING ⚠️ /teamspace/studios/this_studio/dataset/images/train/strasbourg/strasbourg_000001_064224_leftImg8bit.png: 1 duplicate labels removed\n",
      "\u001b[34m\u001b[1mtrain: \u001b[0mWARNING ⚠️ /teamspace/studios/this_studio/dataset/images/train/strasbourg/strasbourg_000001_064393_leftImg8bit.png: 1 duplicate labels removed\n",
      "\u001b[34m\u001b[1mtrain: \u001b[0mWARNING ⚠️ /teamspace/studios/this_studio/dataset/images/train/stuttgart/stuttgart_000109_000019_leftImg8bit.png: 1 duplicate labels removed\n",
      "\u001b[34m\u001b[1mtrain: \u001b[0mWARNING ⚠️ /teamspace/studios/this_studio/dataset/images/train/stuttgart/stuttgart_000120_000019_leftImg8bit.png: 2 duplicate labels removed\n",
      "\u001b[34m\u001b[1mtrain: \u001b[0mWARNING ⚠️ /teamspace/studios/this_studio/dataset/images/train/stuttgart/stuttgart_000168_000019_leftImg8bit.png: 1 duplicate labels removed\n",
      "\u001b[34m\u001b[1mtrain: \u001b[0mWARNING ⚠️ /teamspace/studios/this_studio/dataset/images/train/stuttgart/stuttgart_000175_000019_leftImg8bit.png: 2 duplicate labels removed\n",
      "\u001b[34m\u001b[1mtrain: \u001b[0mWARNING ⚠️ /teamspace/studios/this_studio/dataset/images/train/stuttgart/stuttgart_000184_000019_leftImg8bit.png: 2 duplicate labels removed\n",
      "\u001b[34m\u001b[1mtrain: \u001b[0mWARNING ⚠️ /teamspace/studios/this_studio/dataset/images/train/tubingen/tubingen_000008_000019_leftImg8bit.png: 1 duplicate labels removed\n",
      "\u001b[34m\u001b[1mtrain: \u001b[0mWARNING ⚠️ /teamspace/studios/this_studio/dataset/images/train/tubingen/tubingen_000089_000019_leftImg8bit.png: 1 duplicate labels removed\n",
      "\u001b[34m\u001b[1mtrain: \u001b[0mWARNING ⚠️ /teamspace/studios/this_studio/dataset/images/train/ulm/ulm_000004_000019_leftImg8bit.png: 2 duplicate labels removed\n",
      "\u001b[34m\u001b[1mtrain: \u001b[0mWARNING ⚠️ /teamspace/studios/this_studio/dataset/images/train/ulm/ulm_000005_000019_leftImg8bit.png: 4 duplicate labels removed\n",
      "\u001b[34m\u001b[1mtrain: \u001b[0mWARNING ⚠️ /teamspace/studios/this_studio/dataset/images/train/ulm/ulm_000006_000019_leftImg8bit.png: 8 duplicate labels removed\n",
      "\u001b[34m\u001b[1mtrain: \u001b[0mWARNING ⚠️ /teamspace/studios/this_studio/dataset/images/train/ulm/ulm_000011_000019_leftImg8bit.png: 1 duplicate labels removed\n",
      "\u001b[34m\u001b[1mtrain: \u001b[0mWARNING ⚠️ /teamspace/studios/this_studio/dataset/images/train/ulm/ulm_000012_000019_leftImg8bit.png: 2 duplicate labels removed\n",
      "\u001b[34m\u001b[1mtrain: \u001b[0mWARNING ⚠️ /teamspace/studios/this_studio/dataset/images/train/ulm/ulm_000013_000019_leftImg8bit.png: 2 duplicate labels removed\n",
      "\u001b[34m\u001b[1mtrain: \u001b[0mWARNING ⚠️ /teamspace/studios/this_studio/dataset/images/train/ulm/ulm_000017_000019_leftImg8bit.png: 2 duplicate labels removed\n",
      "\u001b[34m\u001b[1mtrain: \u001b[0mWARNING ⚠️ /teamspace/studios/this_studio/dataset/images/train/ulm/ulm_000024_000019_leftImg8bit.png: 2 duplicate labels removed\n",
      "\u001b[34m\u001b[1mtrain: \u001b[0mWARNING ⚠️ /teamspace/studios/this_studio/dataset/images/train/ulm/ulm_000025_000019_leftImg8bit.png: 3 duplicate labels removed\n",
      "\u001b[34m\u001b[1mtrain: \u001b[0mWARNING ⚠️ /teamspace/studios/this_studio/dataset/images/train/ulm/ulm_000037_000019_leftImg8bit.png: 1 duplicate labels removed\n",
      "\u001b[34m\u001b[1mtrain: \u001b[0mWARNING ⚠️ /teamspace/studios/this_studio/dataset/images/train/ulm/ulm_000056_000019_leftImg8bit.png: 2 duplicate labels removed\n",
      "\u001b[34m\u001b[1mtrain: \u001b[0mWARNING ⚠️ /teamspace/studios/this_studio/dataset/images/train/ulm/ulm_000058_000019_leftImg8bit.png: 3 duplicate labels removed\n",
      "\u001b[34m\u001b[1mtrain: \u001b[0mWARNING ⚠️ /teamspace/studios/this_studio/dataset/images/train/ulm/ulm_000067_000019_leftImg8bit.png: 3 duplicate labels removed\n",
      "\u001b[34m\u001b[1mtrain: \u001b[0mWARNING ⚠️ /teamspace/studios/this_studio/dataset/images/train/ulm/ulm_000068_000019_leftImg8bit.png: 3 duplicate labels removed\n",
      "\u001b[34m\u001b[1mtrain: \u001b[0mWARNING ⚠️ /teamspace/studios/this_studio/dataset/images/train/ulm/ulm_000069_000019_leftImg8bit.png: 3 duplicate labels removed\n",
      "\u001b[34m\u001b[1mtrain: \u001b[0mWARNING ⚠️ /teamspace/studios/this_studio/dataset/images/train/ulm/ulm_000078_000019_leftImg8bit.png: 1 duplicate labels removed\n",
      "\u001b[34m\u001b[1mtrain: \u001b[0mWARNING ⚠️ /teamspace/studios/this_studio/dataset/images/train/ulm/ulm_000079_000019_leftImg8bit.png: 1 duplicate labels removed\n",
      "\u001b[34m\u001b[1mtrain: \u001b[0mWARNING ⚠️ /teamspace/studios/this_studio/dataset/images/train/ulm/ulm_000084_000019_leftImg8bit.png: 2 duplicate labels removed\n",
      "\u001b[34m\u001b[1mval: \u001b[0mScanning /teamspace/studios/this_studio/dataset/labels/val/frankfurt.cache.\u001b[0m\n",
      "\u001b[34m\u001b[1mval: \u001b[0mWARNING ⚠️ /teamspace/studios/this_studio/dataset/images/val/frankfurt/frankfurt_000001_016273_leftImg8bit.png: 1 duplicate labels removed\n",
      "\u001b[34m\u001b[1mval: \u001b[0mWARNING ⚠️ /teamspace/studios/this_studio/dataset/images/val/frankfurt/frankfurt_000001_017101_leftImg8bit.png: 1 duplicate labels removed\n",
      "\u001b[34m\u001b[1mval: \u001b[0mWARNING ⚠️ /teamspace/studios/this_studio/dataset/images/val/frankfurt/frankfurt_000001_077434_leftImg8bit.png: 1 duplicate labels removed\n",
      "\u001b[34m\u001b[1mval: \u001b[0mWARNING ⚠️ /teamspace/studios/this_studio/dataset/images/val/munster/munster_000026_000019_leftImg8bit.png: 2 duplicate labels removed\n",
      "\u001b[34m\u001b[1mval: \u001b[0mWARNING ⚠️ /teamspace/studios/this_studio/dataset/images/val/munster/munster_000029_000019_leftImg8bit.png: 1 duplicate labels removed\n",
      "\u001b[34m\u001b[1mval: \u001b[0mWARNING ⚠️ /teamspace/studios/this_studio/dataset/images/val/munster/munster_000049_000019_leftImg8bit.png: 1 duplicate labels removed\n",
      "\u001b[34m\u001b[1mval: \u001b[0mWARNING ⚠️ /teamspace/studios/this_studio/dataset/images/val/munster/munster_000108_000019_leftImg8bit.png: 1 duplicate labels removed\n",
      "\u001b[34m\u001b[1mval: \u001b[0mWARNING ⚠️ /teamspace/studios/this_studio/dataset/images/val/munster/munster_000140_000019_leftImg8bit.png: 1 duplicate labels removed\n",
      "\u001b[34m\u001b[1mval: \u001b[0mWARNING ⚠️ /teamspace/studios/this_studio/dataset/images/val/munster/munster_000141_000019_leftImg8bit.png: 1 duplicate labels removed\n",
      "\u001b[34m\u001b[1mval: \u001b[0mWARNING ⚠️ /teamspace/studios/this_studio/dataset/images/val/munster/munster_000142_000019_leftImg8bit.png: 1 duplicate labels removed\n",
      "\u001b[34m\u001b[1mval: \u001b[0mWARNING ⚠️ /teamspace/studios/this_studio/dataset/images/val/munster/munster_000167_000019_leftImg8bit.png: 1 duplicate labels removed\n",
      "\n",
      "\u001b[34m\u001b[1mAutoAnchor: \u001b[0m3.98 anchors/target, 0.986 Best Possible Recall (BPR). Current anchors are a good fit to dataset ✅\n",
      "Plotting labels to runs/train/exp13/labels.jpg... \n",
      "Image sizes 640 train, 640 val\n",
      "Using 8 dataloader workers\n",
      "Logging results to \u001b[1mruns/train/exp13\u001b[0m\n",
      "Starting training for 100 epochs...\n",
      "\n",
      "      Epoch    GPU_mem   box_loss   obj_loss   cls_loss  Instances       Size\n",
      "       0/99      13.5G    0.08302    0.08207    0.03319        437        640: 1\n",
      "                 Class     Images  Instances          P          R      mAP50   \n",
      "                   all        500      10168      0.856      0.113      0.137     0.0567\n",
      "\n",
      "      Epoch    GPU_mem   box_loss   obj_loss   cls_loss  Instances       Size\n",
      "       1/99      13.9G    0.07074    0.06563    0.01767        452        640: 1\n",
      "                 Class     Images  Instances          P          R      mAP50   \n",
      "                   all        500      10168      0.367      0.356      0.266      0.109\n",
      "\n",
      "      Epoch    GPU_mem   box_loss   obj_loss   cls_loss  Instances       Size\n",
      "       2/99      13.9G    0.06615    0.06264    0.01439        559        640: 1\n",
      "                 Class     Images  Instances          P          R      mAP50   \n",
      "                   all        500      10168      0.441      0.415      0.353      0.169\n",
      "\n",
      "      Epoch    GPU_mem   box_loss   obj_loss   cls_loss  Instances       Size\n",
      "       3/99      13.9G    0.06056    0.06329    0.01245        390        640: 1\n",
      "                 Class     Images  Instances          P          R      mAP50   \n",
      "                   all        500      10168      0.638      0.442      0.486      0.242\n",
      "\n",
      "      Epoch    GPU_mem   box_loss   obj_loss   cls_loss  Instances       Size\n",
      "       4/99      13.9G    0.05636    0.06281    0.01106        544        640: 1\n",
      "                 Class     Images  Instances          P          R      mAP50   \n",
      "                   all        500      10168      0.779      0.423      0.519      0.271\n",
      "\n",
      "      Epoch    GPU_mem   box_loss   obj_loss   cls_loss  Instances       Size\n",
      "       5/99      13.9G    0.05357    0.06116    0.01014        436        640: 1\n",
      "                 Class     Images  Instances          P          R      mAP50   \n",
      "                   all        500      10168      0.745      0.451      0.522      0.299\n",
      "\n",
      "      Epoch    GPU_mem   box_loss   obj_loss   cls_loss  Instances       Size\n",
      "       6/99      13.9G    0.05187    0.06051   0.009789        525        640: 1\n",
      "                 Class     Images  Instances          P          R      mAP50   \n",
      "                   all        500      10168      0.737      0.454      0.512      0.275\n",
      "\n",
      "      Epoch    GPU_mem   box_loss   obj_loss   cls_loss  Instances       Size\n",
      "       7/99      13.9G    0.05073    0.06022    0.00937        528        640: 1\n",
      "                 Class     Images  Instances          P          R      mAP50   \n",
      "                   all        500      10168       0.72      0.483      0.553      0.299\n",
      "\n",
      "      Epoch    GPU_mem   box_loss   obj_loss   cls_loss  Instances       Size\n",
      "       8/99      13.9G    0.04977    0.06049   0.009049        401        640: 1\n",
      "                 Class     Images  Instances          P          R      mAP50   \n",
      "                   all        500      10168      0.757      0.467      0.537      0.302\n",
      "\n",
      "      Epoch    GPU_mem   box_loss   obj_loss   cls_loss  Instances       Size\n",
      "       9/99      13.9G    0.04865    0.05909   0.008738        437        640: 1\n",
      "                 Class     Images  Instances          P          R      mAP50   \n",
      "                   all        500      10168      0.755      0.469      0.545      0.316\n",
      "\n",
      "      Epoch    GPU_mem   box_loss   obj_loss   cls_loss  Instances       Size\n",
      "      10/99        14G    0.04789    0.05817   0.008591        407        640: 1\n",
      "                 Class     Images  Instances          P          R      mAP50   \n",
      "                   all        500      10168      0.727      0.479      0.539      0.308\n",
      "\n",
      "      Epoch    GPU_mem   box_loss   obj_loss   cls_loss  Instances       Size\n",
      "      11/99        14G    0.04767    0.05732   0.008451        419        640: 1\n",
      "                 Class     Images  Instances          P          R      mAP50   \n",
      "                   all        500      10168       0.76      0.468      0.545      0.308\n",
      "\n",
      "      Epoch    GPU_mem   box_loss   obj_loss   cls_loss  Instances       Size\n",
      "      12/99        14G     0.0473     0.0579   0.008092        421        640: 1\n",
      "                 Class     Images  Instances          P          R      mAP50   \n",
      "                   all        500      10168      0.749      0.479      0.544      0.317\n",
      "\n",
      "      Epoch    GPU_mem   box_loss   obj_loss   cls_loss  Instances       Size\n",
      "      13/99        14G    0.04676    0.05744   0.007833        379        640: 1\n",
      "                 Class     Images  Instances          P          R      mAP50   \n",
      "                   all        500      10168       0.77      0.468      0.552      0.315\n",
      "\n",
      "      Epoch    GPU_mem   box_loss   obj_loss   cls_loss  Instances       Size\n",
      "      14/99        14G    0.04582    0.05682   0.007883        586        640: 1\n",
      "                 Class     Images  Instances          P          R      mAP50   \n",
      "                   all        500      10168      0.771      0.471      0.561      0.324\n",
      "\n",
      "      Epoch    GPU_mem   box_loss   obj_loss   cls_loss  Instances       Size\n",
      "      15/99        14G    0.04584    0.05608   0.007744        388        640: 1\n",
      "                 Class     Images  Instances          P          R      mAP50   \n",
      "                   all        500      10168      0.749      0.479      0.553       0.33\n",
      "\n",
      "      Epoch    GPU_mem   box_loss   obj_loss   cls_loss  Instances       Size\n",
      "      16/99        14G    0.04586    0.05622   0.007736        661        640: 1\n",
      "                 Class     Images  Instances          P          R      mAP50   \n",
      "                   all        500      10168      0.787      0.489      0.561      0.324\n",
      "\n",
      "      Epoch    GPU_mem   box_loss   obj_loss   cls_loss  Instances       Size\n",
      "      17/99        14G    0.04476     0.0551    0.00727        374        640: 1\n",
      "                 Class     Images  Instances          P          R      mAP50   \n",
      "                   all        500      10168      0.723      0.493      0.551      0.319\n",
      "\n",
      "      Epoch    GPU_mem   box_loss   obj_loss   cls_loss  Instances       Size\n",
      "      18/99        14G    0.04454    0.05517   0.007353        417        640: 1\n",
      "                 Class     Images  Instances          P          R      mAP50   \n",
      "                   all        500      10168      0.791      0.481      0.552      0.334\n",
      "\n",
      "      Epoch    GPU_mem   box_loss   obj_loss   cls_loss  Instances       Size\n",
      "      19/99        14G    0.04434    0.05492    0.00718        516        640: 1\n",
      "                 Class     Images  Instances          P          R      mAP50   \n",
      "                   all        500      10168      0.732       0.48      0.539      0.323\n",
      "\n",
      "      Epoch    GPU_mem   box_loss   obj_loss   cls_loss  Instances       Size\n",
      "      20/99        14G    0.04402     0.0547   0.006905        350        640: 1\n",
      "                 Class     Images  Instances          P          R      mAP50   \n",
      "                   all        500      10168      0.713      0.487       0.54      0.329\n",
      "\n",
      "      Epoch    GPU_mem   box_loss   obj_loss   cls_loss  Instances       Size\n",
      "      21/99        14G    0.04322    0.05344   0.006838        477        640: 1\n",
      "                 Class     Images  Instances          P          R      mAP50   \n",
      "                   all        500      10168      0.793      0.467      0.547      0.331\n",
      "\n",
      "      Epoch    GPU_mem   box_loss   obj_loss   cls_loss  Instances       Size\n",
      "      22/99        14G    0.04325    0.05366   0.006922        504        640: 1\n",
      "                 Class     Images  Instances          P          R      mAP50   \n",
      "                   all        500      10168      0.753      0.472      0.541      0.326\n",
      "\n",
      "      Epoch    GPU_mem   box_loss   obj_loss   cls_loss  Instances       Size\n",
      "      23/99        14G    0.04309    0.05402   0.006688        486        640: 1\n",
      "                 Class     Images  Instances          P          R      mAP50   \n",
      "                   all        500      10168      0.791      0.475      0.545      0.329\n",
      "\n",
      "      Epoch    GPU_mem   box_loss   obj_loss   cls_loss  Instances       Size\n",
      "      24/99        14G    0.04315    0.05442    0.00684        558        640: 1\n",
      "                 Class     Images  Instances          P          R      mAP50   \n",
      "                   all        500      10168      0.788      0.485      0.563      0.331\n",
      "\n",
      "      Epoch    GPU_mem   box_loss   obj_loss   cls_loss  Instances       Size\n",
      "      25/99        14G    0.04278     0.0535    0.00661        443        640: 1\n",
      "                 Class     Images  Instances          P          R      mAP50   \n",
      "                   all        500      10168      0.748      0.501      0.563      0.341\n",
      "\n",
      "      Epoch    GPU_mem   box_loss   obj_loss   cls_loss  Instances       Size\n",
      "      26/99        14G    0.04279     0.0526    0.00655        462        640: 1\n",
      "                 Class     Images  Instances          P          R      mAP50   \n",
      "                   all        500      10168      0.758      0.498      0.571      0.345\n",
      "\n",
      "      Epoch    GPU_mem   box_loss   obj_loss   cls_loss  Instances       Size\n",
      "      27/99        14G    0.04231    0.05338    0.00643        608        640: 1\n",
      "                 Class     Images  Instances          P          R      mAP50   \n",
      "                   all        500      10168      0.758      0.506      0.567      0.347\n",
      "\n",
      "      Epoch    GPU_mem   box_loss   obj_loss   cls_loss  Instances       Size\n",
      "      28/99        14G    0.04202    0.05229   0.006374        398        640: 1\n",
      "                 Class     Images  Instances          P          R      mAP50   \n",
      "                   all        500      10168      0.791      0.497      0.571      0.343\n",
      "\n",
      "      Epoch    GPU_mem   box_loss   obj_loss   cls_loss  Instances       Size\n",
      "      29/99        14G     0.0412    0.05143   0.006273        468        640: 1\n",
      "                 Class     Images  Instances          P          R      mAP50   \n",
      "                   all        500      10168      0.761      0.486      0.547      0.333\n",
      "\n",
      "      Epoch    GPU_mem   box_loss   obj_loss   cls_loss  Instances       Size\n",
      "      30/99        14G    0.04168    0.05256   0.006071        579        640: 1\n",
      "                 Class     Images  Instances          P          R      mAP50   \n",
      "                   all        500      10168      0.715      0.516      0.563      0.345\n",
      "\n",
      "      Epoch    GPU_mem   box_loss   obj_loss   cls_loss  Instances       Size\n",
      "      31/99        14G    0.04132     0.0521    0.00605        653        640: 1\n",
      "                 Class     Images  Instances          P          R      mAP50   \n",
      "                   all        500      10168      0.737      0.516      0.569      0.346\n",
      "\n",
      "      Epoch    GPU_mem   box_loss   obj_loss   cls_loss  Instances       Size\n",
      "      32/99        14G    0.04116    0.05161    0.00598        430        640: 1\n",
      "                 Class     Images  Instances          P          R      mAP50   \n",
      "                   all        500      10168      0.766      0.491      0.558      0.338\n",
      "\n",
      "      Epoch    GPU_mem   box_loss   obj_loss   cls_loss  Instances       Size\n",
      "      33/99        14G    0.04065    0.05055   0.006021        528        640: 1\n",
      "                 Class     Images  Instances          P          R      mAP50   \n",
      "                   all        500      10168      0.786      0.486      0.553      0.343\n",
      "\n",
      "      Epoch    GPU_mem   box_loss   obj_loss   cls_loss  Instances       Size\n",
      "      34/99        14G    0.04101    0.05114   0.005982        416        640: 1\n",
      "                 Class     Images  Instances          P          R      mAP50   \n",
      "                   all        500      10168      0.777      0.491      0.561      0.336\n",
      "\n",
      "      Epoch    GPU_mem   box_loss   obj_loss   cls_loss  Instances       Size\n",
      "      35/99        14G    0.04054    0.04984   0.005683        481        640: 1\n",
      "                 Class     Images  Instances          P          R      mAP50   \n",
      "                   all        500      10168      0.761      0.504      0.565      0.348\n",
      "\n",
      "      Epoch    GPU_mem   box_loss   obj_loss   cls_loss  Instances       Size\n",
      "      36/99        14G    0.04036    0.05098    0.00574        417        640: 1\n",
      "                 Class     Images  Instances          P          R      mAP50   \n",
      "                   all        500      10168      0.781      0.499      0.569      0.347\n",
      "\n",
      "      Epoch    GPU_mem   box_loss   obj_loss   cls_loss  Instances       Size\n",
      "      37/99        14G    0.04025    0.05073   0.005744        349        640: 1\n",
      "                 Class     Images  Instances          P          R      mAP50   \n",
      "                   all        500      10168      0.797      0.482       0.56      0.342\n",
      "\n",
      "      Epoch    GPU_mem   box_loss   obj_loss   cls_loss  Instances       Size\n",
      "      38/99        14G    0.04002    0.05009    0.00562        397        640: 1\n",
      "                 Class     Images  Instances          P          R      mAP50   \n",
      "                   all        500      10168      0.813      0.493      0.561      0.338\n",
      "\n",
      "      Epoch    GPU_mem   box_loss   obj_loss   cls_loss  Instances       Size\n",
      "      39/99        14G    0.03966    0.04934   0.005467        537        640: 1\n",
      "                 Class     Images  Instances          P          R      mAP50   \n",
      "                   all        500      10168      0.782      0.497      0.561      0.344\n",
      "\n",
      "      Epoch    GPU_mem   box_loss   obj_loss   cls_loss  Instances       Size\n",
      "      40/99        14G    0.03962    0.04924   0.005465        576        640: 1\n",
      "                 Class     Images  Instances          P          R      mAP50   \n",
      "                   all        500      10168      0.783       0.49      0.561      0.347\n",
      "\n",
      "      Epoch    GPU_mem   box_loss   obj_loss   cls_loss  Instances       Size\n",
      "      41/99        14G    0.03913    0.04901   0.005413        540        640: 1\n",
      "                 Class     Images  Instances          P          R      mAP50   \n",
      "                   all        500      10168      0.796      0.501      0.564      0.353\n",
      "\n",
      "      Epoch    GPU_mem   box_loss   obj_loss   cls_loss  Instances       Size\n",
      "      42/99        14G     0.0391    0.04862   0.005368        653        640: 1\n",
      "                 Class     Images  Instances          P          R      mAP50   \n",
      "                   all        500      10168      0.784      0.493      0.564      0.349\n",
      "\n",
      "      Epoch    GPU_mem   box_loss   obj_loss   cls_loss  Instances       Size\n",
      "      43/99        14G     0.0393    0.04856   0.005403        619        640: 1\n",
      "                 Class     Images  Instances          P          R      mAP50   \n",
      "                   all        500      10168      0.797      0.495      0.562      0.346\n",
      "\n",
      "      Epoch    GPU_mem   box_loss   obj_loss   cls_loss  Instances       Size\n",
      "      44/99        14G    0.03907    0.04861   0.005326        586        640: 1\n",
      "                 Class     Images  Instances          P          R      mAP50   \n",
      "                   all        500      10168      0.783      0.489      0.558       0.35\n",
      "\n",
      "      Epoch    GPU_mem   box_loss   obj_loss   cls_loss  Instances       Size\n",
      "      45/99        14G    0.03855    0.04723   0.005262        515        640: 1\n",
      "                 Class     Images  Instances          P          R      mAP50   \n",
      "                   all        500      10168      0.791      0.488      0.562      0.346\n",
      "\n",
      "      Epoch    GPU_mem   box_loss   obj_loss   cls_loss  Instances       Size\n",
      "      46/99        14G    0.03858    0.04875   0.005264        498        640: 1\n",
      "                 Class     Images  Instances          P          R      mAP50   \n",
      "                   all        500      10168      0.777      0.507      0.571      0.352\n",
      "\n",
      "      Epoch    GPU_mem   box_loss   obj_loss   cls_loss  Instances       Size\n",
      "      47/99        14G    0.03828    0.04734   0.005163        481        640: 1\n",
      "                 Class     Images  Instances          P          R      mAP50   \n",
      "                   all        500      10168      0.788      0.492      0.565       0.35\n",
      "\n",
      "      Epoch    GPU_mem   box_loss   obj_loss   cls_loss  Instances       Size\n",
      "      48/99        14G    0.03812    0.04755    0.00511        586        640: 1\n",
      "                 Class     Images  Instances          P          R      mAP50   \n",
      "                   all        500      10168      0.784      0.503       0.57      0.354\n",
      "\n",
      "      Epoch    GPU_mem   box_loss   obj_loss   cls_loss  Instances       Size\n",
      "      49/99        14G    0.03811    0.04712   0.005062        454        640: 1\n",
      "                 Class     Images  Instances          P          R      mAP50   \n",
      "                   all        500      10168      0.787      0.492       0.56       0.35\n",
      "\n",
      "      Epoch    GPU_mem   box_loss   obj_loss   cls_loss  Instances       Size\n",
      "      50/99        14G    0.03795    0.04671   0.005084        550        640: 1\n",
      "                 Class     Images  Instances          P          R      mAP50   \n",
      "                   all        500      10168      0.771      0.492      0.556       0.35\n",
      "\n",
      "      Epoch    GPU_mem   box_loss   obj_loss   cls_loss  Instances       Size\n",
      "      51/99        14G    0.03778    0.04639   0.004949        501        640: 1\n",
      "                 Class     Images  Instances          P          R      mAP50   \n",
      "                   all        500      10168       0.77      0.498      0.563       0.35\n",
      "\n",
      "      Epoch    GPU_mem   box_loss   obj_loss   cls_loss  Instances       Size\n",
      "      52/99        14G    0.03791    0.04665   0.004916        410        640: 1\n",
      "                 Class     Images  Instances          P          R      mAP50   \n",
      "                   all        500      10168      0.817      0.477       0.56       0.35\n",
      "\n",
      "      Epoch    GPU_mem   box_loss   obj_loss   cls_loss  Instances       Size\n",
      "      53/99        14G    0.03736    0.04564   0.004788        497        640: 1\n",
      "                 Class     Images  Instances          P          R      mAP50   \n",
      "                   all        500      10168      0.801      0.494      0.559       0.35\n",
      "\n",
      "      Epoch    GPU_mem   box_loss   obj_loss   cls_loss  Instances       Size\n",
      "      54/99        14G    0.03751    0.04645   0.004859        477        640: 1\n",
      "                 Class     Images  Instances          P          R      mAP50   \n",
      "                   all        500      10168      0.808      0.487      0.569      0.355\n",
      "\n",
      "      Epoch    GPU_mem   box_loss   obj_loss   cls_loss  Instances       Size\n",
      "      55/99        14G    0.03697    0.04525   0.004737        501        640: 1\n",
      "                 Class     Images  Instances          P          R      mAP50   \n",
      "                   all        500      10168      0.783      0.486      0.556      0.349\n",
      "\n",
      "      Epoch    GPU_mem   box_loss   obj_loss   cls_loss  Instances       Size\n",
      "      56/99        14G    0.03737    0.04597   0.004875        612        640: 1\n",
      "                 Class     Images  Instances          P          R      mAP50   \n",
      "                   all        500      10168      0.814      0.493       0.57      0.358\n",
      "\n",
      "      Epoch    GPU_mem   box_loss   obj_loss   cls_loss  Instances       Size\n",
      "      57/99        14G    0.03705    0.04578   0.004721        568        640: 1\n",
      "                 Class     Images  Instances          P          R      mAP50   \n",
      "                   all        500      10168      0.777      0.478      0.562      0.349\n",
      "\n",
      "      Epoch    GPU_mem   box_loss   obj_loss   cls_loss  Instances       Size\n",
      "      58/99        14G    0.03682    0.04539   0.004617        376        640: 1\n",
      "                 Class     Images  Instances          P          R      mAP50   \n",
      "                   all        500      10168      0.755      0.505      0.567      0.353\n",
      "\n",
      "      Epoch    GPU_mem   box_loss   obj_loss   cls_loss  Instances       Size\n",
      "      59/99        14G    0.03655    0.04504   0.004674        367        640: 1\n",
      "                 Class     Images  Instances          P          R      mAP50   \n",
      "                   all        500      10168      0.781      0.482      0.561      0.355\n",
      "\n",
      "      Epoch    GPU_mem   box_loss   obj_loss   cls_loss  Instances       Size\n",
      "      60/99        14G    0.03639    0.04453   0.004537        371        640: 1\n",
      "                 Class     Images  Instances          P          R      mAP50   \n",
      "                   all        500      10168      0.781      0.498      0.568      0.355\n",
      "\n",
      "      Epoch    GPU_mem   box_loss   obj_loss   cls_loss  Instances       Size\n",
      "      61/99        14G    0.03646     0.0452   0.004592        603        640: 1\n",
      "                 Class     Images  Instances          P          R      mAP50   \n",
      "                   all        500      10168        0.8      0.501      0.567      0.361\n",
      "\n",
      "      Epoch    GPU_mem   box_loss   obj_loss   cls_loss  Instances       Size\n",
      "      62/99        14G    0.03627    0.04475   0.004674        497        640: 1\n",
      "                 Class     Images  Instances          P          R      mAP50   \n",
      "                   all        500      10168      0.812      0.484      0.563      0.355\n",
      "\n",
      "      Epoch    GPU_mem   box_loss   obj_loss   cls_loss  Instances       Size\n",
      "      63/99        14G    0.03612    0.04444   0.004557        467        640: 1\n",
      "                 Class     Images  Instances          P          R      mAP50   \n",
      "                   all        500      10168      0.804      0.492      0.568      0.356\n",
      "\n",
      "      Epoch    GPU_mem   box_loss   obj_loss   cls_loss  Instances       Size\n",
      "      64/99        14G      0.036    0.04436   0.004428        512        640: 1\n",
      "                 Class     Images  Instances          P          R      mAP50   \n",
      "                   all        500      10168      0.787      0.503      0.572       0.36\n",
      "\n",
      "      Epoch    GPU_mem   box_loss   obj_loss   cls_loss  Instances       Size\n",
      "      65/99        14G    0.03572    0.04443   0.004409        448        640: 1\n",
      "                 Class     Images  Instances          P          R      mAP50   \n",
      "                   all        500      10168      0.824      0.509      0.575      0.362\n",
      "\n",
      "      Epoch    GPU_mem   box_loss   obj_loss   cls_loss  Instances       Size\n",
      "      66/99        14G    0.03557    0.04343   0.004346        565        640: 1\n",
      "                 Class     Images  Instances          P          R      mAP50   \n",
      "                   all        500      10168      0.793       0.51      0.574      0.363\n",
      "\n",
      "      Epoch    GPU_mem   box_loss   obj_loss   cls_loss  Instances       Size\n",
      "      67/99        14G    0.03565     0.0438   0.004395        464        640: 1\n",
      "                 Class     Images  Instances          P          R      mAP50   \n",
      "                   all        500      10168      0.784      0.507      0.571      0.362\n",
      "\n",
      "      Epoch    GPU_mem   box_loss   obj_loss   cls_loss  Instances       Size\n",
      "      68/99        14G    0.03567    0.04356   0.004389        511        640: 1\n",
      "                 Class     Images  Instances          P          R      mAP50   \n",
      "                   all        500      10168      0.745      0.519      0.572      0.353\n",
      "\n",
      "      Epoch    GPU_mem   box_loss   obj_loss   cls_loss  Instances       Size\n",
      "      69/99        14G    0.03526    0.04316   0.004248        534        640: 1\n",
      "                 Class     Images  Instances          P          R      mAP50   \n",
      "                   all        500      10168      0.795        0.5      0.572      0.362\n",
      "\n",
      "      Epoch    GPU_mem   box_loss   obj_loss   cls_loss  Instances       Size\n",
      "      70/99        14G    0.03525    0.04331   0.004219        382        640: 1\n",
      "                 Class     Images  Instances          P          R      mAP50   \n",
      "                   all        500      10168      0.799      0.505      0.571      0.361\n",
      "\n",
      "      Epoch    GPU_mem   box_loss   obj_loss   cls_loss  Instances       Size\n",
      "      71/99        14G    0.03497     0.0424   0.004227        335        640: 1\n",
      "                 Class     Images  Instances          P          R      mAP50   \n",
      "                   all        500      10168      0.797      0.505      0.575       0.36\n",
      "\n",
      "      Epoch    GPU_mem   box_loss   obj_loss   cls_loss  Instances       Size\n",
      "      72/99        14G    0.03499    0.04254   0.004296        562        640: 1\n",
      "                 Class     Images  Instances          P          R      mAP50   \n",
      "                   all        500      10168      0.793      0.495      0.563      0.358\n",
      "\n",
      "      Epoch    GPU_mem   box_loss   obj_loss   cls_loss  Instances       Size\n",
      "      73/99        14G    0.03485    0.04279   0.004135        570        640: 1\n",
      "                 Class     Images  Instances          P          R      mAP50   \n",
      "                   all        500      10168      0.806      0.515      0.576      0.361\n",
      "\n",
      "      Epoch    GPU_mem   box_loss   obj_loss   cls_loss  Instances       Size\n",
      "      74/99        14G    0.03442    0.04166   0.004094        371        640: 1\n",
      "                 Class     Images  Instances          P          R      mAP50   \n",
      "                   all        500      10168      0.803      0.502      0.573      0.359\n",
      "\n",
      "      Epoch    GPU_mem   box_loss   obj_loss   cls_loss  Instances       Size\n",
      "      75/99        14G    0.03467    0.04233   0.004198        526        640: 1\n",
      "                 Class     Images  Instances          P          R      mAP50   \n",
      "                   all        500      10168        0.8      0.524      0.583      0.366\n",
      "\n",
      "      Epoch    GPU_mem   box_loss   obj_loss   cls_loss  Instances       Size\n",
      "      76/99        14G    0.03451    0.04169   0.004168        431        640: 1\n",
      "                 Class     Images  Instances          P          R      mAP50   \n",
      "                   all        500      10168      0.802      0.502      0.568      0.359\n",
      "\n",
      "      Epoch    GPU_mem   box_loss   obj_loss   cls_loss  Instances       Size\n",
      "      77/99        14G    0.03438    0.04139   0.003991        466        640: 1\n",
      "                 Class     Images  Instances          P          R      mAP50   \n",
      "                   all        500      10168      0.818      0.511      0.572      0.359\n",
      "\n",
      "      Epoch    GPU_mem   box_loss   obj_loss   cls_loss  Instances       Size\n",
      "      78/99        14G    0.03414     0.0413   0.004107        350        640: 1\n",
      "                 Class     Images  Instances          P          R      mAP50   \n",
      "                   all        500      10168      0.794      0.505      0.569      0.362\n",
      "\n",
      "      Epoch    GPU_mem   box_loss   obj_loss   cls_loss  Instances       Size\n",
      "      79/99        14G    0.03418    0.04193   0.003972        606        640: 1\n",
      "                 Class     Images  Instances          P          R      mAP50   \n",
      "                   all        500      10168       0.82      0.505       0.58      0.366\n",
      "\n",
      "      Epoch    GPU_mem   box_loss   obj_loss   cls_loss  Instances       Size\n",
      "      80/99        14G    0.03425     0.0411   0.004065        561        640: 1\n",
      "                 Class     Images  Instances          P          R      mAP50   \n",
      "                   all        500      10168      0.826      0.499      0.564      0.358\n",
      "\n",
      "      Epoch    GPU_mem   box_loss   obj_loss   cls_loss  Instances       Size\n",
      "      81/99        14G    0.03411    0.04102   0.003965        565        640: 1\n",
      "                 Class     Images  Instances          P          R      mAP50   \n",
      "                   all        500      10168      0.807      0.497      0.562      0.356\n",
      "\n",
      "      Epoch    GPU_mem   box_loss   obj_loss   cls_loss  Instances       Size\n",
      "      82/99        14G    0.03388    0.04073   0.003987        662        640: 1\n",
      "                 Class     Images  Instances          P          R      mAP50   \n",
      "                   all        500      10168      0.799      0.495       0.56      0.357\n",
      "\n",
      "      Epoch    GPU_mem   box_loss   obj_loss   cls_loss  Instances       Size\n",
      "      83/99        14G    0.03365     0.0408   0.003892        397        640: 1\n",
      "                 Class     Images  Instances          P          R      mAP50   \n",
      "                   all        500      10168      0.816      0.504      0.568      0.361\n",
      "\n",
      "      Epoch    GPU_mem   box_loss   obj_loss   cls_loss  Instances       Size\n",
      "      84/99        14G     0.0336    0.04079   0.003861        545        640: 1\n",
      "                 Class     Images  Instances          P          R      mAP50   \n",
      "                   all        500      10168      0.803      0.508      0.567      0.362\n",
      "\n",
      "      Epoch    GPU_mem   box_loss   obj_loss   cls_loss  Instances       Size\n",
      "      85/99        14G    0.03349    0.04048   0.003797        414        640: 1\n",
      "                 Class     Images  Instances          P          R      mAP50   \n",
      "                   all        500      10168      0.823      0.497      0.567      0.361\n",
      "\n",
      "      Epoch    GPU_mem   box_loss   obj_loss   cls_loss  Instances       Size\n",
      "      86/99        14G    0.03326    0.03985   0.003818        310        640: 1\n",
      "                 Class     Images  Instances          P          R      mAP50   \n",
      "                   all        500      10168      0.778      0.509      0.565       0.36\n",
      "\n",
      "      Epoch    GPU_mem   box_loss   obj_loss   cls_loss  Instances       Size\n",
      "      87/99        14G    0.03309    0.03988   0.003788        344        640: 1\n",
      "                 Class     Images  Instances          P          R      mAP50   \n",
      "                   all        500      10168       0.82      0.493      0.565      0.362\n",
      "\n",
      "      Epoch    GPU_mem   box_loss   obj_loss   cls_loss  Instances       Size\n",
      "      88/99        14G    0.03317    0.03955   0.003834        437        640: 1\n",
      "                 Class     Images  Instances          P          R      mAP50   \n",
      "                   all        500      10168      0.802      0.502      0.565      0.363\n",
      "\n",
      "      Epoch    GPU_mem   box_loss   obj_loss   cls_loss  Instances       Size\n",
      "      89/99        14G    0.03314    0.03925   0.003791        476        640: 1\n",
      "                 Class     Images  Instances          P          R      mAP50   \n",
      "                   all        500      10168      0.825      0.497       0.57      0.362\n",
      "\n",
      "      Epoch    GPU_mem   box_loss   obj_loss   cls_loss  Instances       Size\n",
      "      90/99        14G    0.03268    0.03857   0.003683        527        640: 1\n",
      "                 Class     Images  Instances          P          R      mAP50   \n",
      "                   all        500      10168      0.796      0.498      0.566      0.363\n",
      "\n",
      "      Epoch    GPU_mem   box_loss   obj_loss   cls_loss  Instances       Size\n",
      "      91/99        14G    0.03286    0.03887   0.003737        434        640: 1\n",
      "                 Class     Images  Instances          P          R      mAP50   \n",
      "                   all        500      10168      0.786      0.504       0.57      0.366\n",
      "\n",
      "      Epoch    GPU_mem   box_loss   obj_loss   cls_loss  Instances       Size\n",
      "      92/99        14G    0.03254    0.03898   0.003815        445        640: 1\n",
      "                 Class     Images  Instances          P          R      mAP50   \n",
      "                   all        500      10168      0.821        0.5       0.57      0.368\n",
      "\n",
      "      Epoch    GPU_mem   box_loss   obj_loss   cls_loss  Instances       Size\n",
      "      93/99        14G     0.0327    0.03966   0.003738        492        640: 1\n",
      "                 Class     Images  Instances          P          R      mAP50   \n",
      "                   all        500      10168      0.804      0.501      0.567      0.364\n",
      "\n",
      "      Epoch    GPU_mem   box_loss   obj_loss   cls_loss  Instances       Size\n",
      "      94/99        14G    0.03299     0.0395   0.003778        386        640: 1\n",
      "                 Class     Images  Instances          P          R      mAP50   \n",
      "                   all        500      10168      0.797      0.508      0.573      0.367\n",
      "\n",
      "      Epoch    GPU_mem   box_loss   obj_loss   cls_loss  Instances       Size\n",
      "      95/99        14G    0.03279    0.03881   0.003766        435        640: 1\n",
      "                 Class     Images  Instances          P          R      mAP50   \n",
      "                   all        500      10168      0.786      0.509      0.573      0.365\n",
      "\n",
      "      Epoch    GPU_mem   box_loss   obj_loss   cls_loss  Instances       Size\n",
      "      96/99        14G    0.03252    0.03846    0.00371        391        640: 1\n",
      "                 Class     Images  Instances          P          R      mAP50   \n",
      "                   all        500      10168       0.78      0.507      0.572      0.363\n",
      "\n",
      "      Epoch    GPU_mem   box_loss   obj_loss   cls_loss  Instances       Size\n",
      "      97/99        14G     0.0325    0.03779   0.003673        636        640: 1\n",
      "                 Class     Images  Instances          P          R      mAP50   \n",
      "                   all        500      10168      0.783      0.501      0.571      0.365\n",
      "\n",
      "      Epoch    GPU_mem   box_loss   obj_loss   cls_loss  Instances       Size\n",
      "      98/99        14G    0.03243    0.03821   0.003693        456        640: 1\n",
      "                 Class     Images  Instances          P          R      mAP50   \n",
      "                   all        500      10168       0.79      0.506      0.572      0.366\n",
      "\n",
      "      Epoch    GPU_mem   box_loss   obj_loss   cls_loss  Instances       Size\n",
      "      99/99        14G    0.03234    0.03787   0.003637        407        640: 1\n",
      "                 Class     Images  Instances          P          R      mAP50   \n",
      "                   all        500      10168      0.808      0.499      0.572      0.367\n",
      "\n",
      "100 epochs completed in 3.519 hours.\n",
      "Optimizer stripped from runs/train/exp13/weights/last.pt, 173.1MB\n",
      "Optimizer stripped from runs/train/exp13/weights/best.pt, 173.1MB\n",
      "\n",
      "Validating runs/train/exp13/weights/best.pt...\n",
      "Fusing layers... \n",
      "Model summary: 322 layers, 86220517 parameters, 0 gradients, 203.9 GFLOPs\n",
      "                 Class     Images  Instances          P          R      mAP50   \n",
      "                   all        500      10168      0.807        0.5      0.572      0.367\n",
      "                person        500       3415      0.747       0.51      0.584      0.333\n",
      "                 rider        500        552      0.838      0.493       0.59      0.362\n",
      "                   car        500       4667      0.884      0.675      0.777      0.548\n",
      "                 truck        500         93      0.763      0.323      0.412      0.313\n",
      "                   bus        500         98      0.877      0.622      0.693      0.559\n",
      "                 train        500         23      0.802      0.522      0.547      0.287\n",
      "            motorcycle        500        149      0.768      0.423      0.481      0.271\n",
      "               bicycle        500       1171      0.774      0.429      0.495      0.264\n",
      "Results saved to \u001b[1mruns/train/exp13\u001b[0m\n"
     ]
    }
   ],
   "source": [
    "!python train.py --img 640 --batch 16 --epochs 100 --data data/cityscapes.yaml --weights yolov5x.pt --label-smoothing 0"
   ]
  },
  {
   "cell_type": "markdown",
   "metadata": {},
   "source": [
    "# SSD"
   ]
  },
  {
   "cell_type": "code",
   "execution_count": 13,
   "metadata": {},
   "outputs": [],
   "source": [
    "import os\n",
    "import json\n",
    "import time\n",
    "from PIL import Image\n",
    "import torch\n",
    "import torch.optim as optim\n",
    "from torch.utils.data import Dataset, DataLoader\n",
    "import torchvision\n",
    "from torchvision.models.detection.ssd import SSDHead\n",
    "import torchvision.transforms as T\n",
    "from torch.cuda.amp import GradScaler, autocast\n",
    "\n",
    "from tqdm import tqdm"
   ]
  },
  {
   "cell_type": "markdown",
   "metadata": {},
   "source": [
    "## Data Preparation"
   ]
  },
  {
   "cell_type": "code",
   "execution_count": 15,
   "metadata": {},
   "outputs": [],
   "source": [
    "class CityscapesDataset(Dataset):\n",
    "    def __init__(self, root_dir, split='train', transform=None):\n",
    "        self.root_dir = root_dir\n",
    "        self.split = split\n",
    "        self.transform = transform\n",
    "        self.classes = ['person', 'rider', 'car', 'truck', 'bus', 'train', 'motorcycle', 'bicycle']\n",
    "        self.class_to_idx = {cls: idx for idx, cls in enumerate(self.classes)}\n",
    "        \n",
    "        self.images_dir = os.path.join(root_dir, 'leftImg8bit_trainvaltest', 'leftImg8bit', split)\n",
    "        self.annotations_dir = os.path.join(root_dir, 'gtFine_trainvaltest', 'gtFine', split)\n",
    "        \n",
    "        self.images = []\n",
    "        self.annotations = []\n",
    "        \n",
    "        for city in os.listdir(self.images_dir):\n",
    "            city_img_dir = os.path.join(self.images_dir, city)\n",
    "            city_ann_dir = os.path.join(self.annotations_dir, city)\n",
    "            \n",
    "            for filename in os.listdir(city_img_dir):\n",
    "                if filename.endswith('_leftImg8bit.png'):\n",
    "                    image_path = os.path.join(city_img_dir, filename)\n",
    "                    annotation_path = os.path.join(city_ann_dir, filename.replace('_leftImg8bit.png', '_gtFine_polygons.json'))\n",
    "                    \n",
    "                    if os.path.exists(annotation_path):\n",
    "                        self.images.append(image_path)\n",
    "                        self.annotations.append(annotation_path)\n",
    "\n",
    "    def __len__(self):\n",
    "        return len(self.images)\n",
    "\n",
    "    def polygon_to_bbox(self, polygon):\n",
    "        x_coords, y_coords = zip(*polygon)\n",
    "        return [min(x_coords), min(y_coords), max(x_coords), max(y_coords)]\n",
    "\n",
    "    def __getitem__(self, idx):\n",
    "        img_path = self.images[idx]\n",
    "        ann_path = self.annotations[idx]\n",
    "        \n",
    "        image = Image.open(img_path).convert('RGB')\n",
    "        \n",
    "        with open(ann_path, 'r') as f:\n",
    "            annotation = json.load(f)\n",
    "        \n",
    "        boxes = []\n",
    "        labels = []\n",
    "        \n",
    "        for obj in annotation['objects']:\n",
    "            if obj['label'] in self.classes:\n",
    "                bbox = self.polygon_to_bbox(obj['polygon'])\n",
    "                boxes.append(bbox)\n",
    "                labels.append(self.class_to_idx[obj['label']])\n",
    "        \n",
    "        # Handle case where there are no objects of interest\n",
    "        if len(boxes) == 0:\n",
    "            boxes = torch.zeros((0, 4), dtype=torch.float32)\n",
    "            labels = torch.zeros((0,), dtype=torch.int64)\n",
    "        else:\n",
    "            boxes = torch.as_tensor(boxes, dtype=torch.float32)\n",
    "            labels = torch.as_tensor(labels, dtype=torch.int64)\n",
    "        \n",
    "        target = {}\n",
    "        target['boxes'] = boxes\n",
    "        target['labels'] = labels\n",
    "        \n",
    "        if self.transform:\n",
    "            image, target = self.apply_transform(image, target, self.transform)\n",
    "        \n",
    "        return image, target\n",
    "\n",
    "    def apply_transform(self, image, target, transform):\n",
    "        orig_w, orig_h = image.size\n",
    "        image = transform(image)\n",
    "        new_w, new_h = 640, 640\n",
    "        w_scale, h_scale = new_w / orig_w, new_h / orig_h\n",
    "        boxes = target['boxes']\n",
    "        if boxes.shape[0] > 0:  # Only apply scaling if there are boxes\n",
    "            scaled_boxes = boxes * torch.as_tensor([w_scale, h_scale, w_scale, h_scale])\n",
    "            target['boxes'] = scaled_boxes\n",
    "        return image, target\n",
    "\n",
    "def get_transform(train):\n",
    "    transforms = []\n",
    "    transforms.append(T.Resize((640, 640)))\n",
    "    transforms.append(T.ToTensor())\n",
    "    if train:\n",
    "        transforms.append(T.RandomHorizontalFlip(0.5))\n",
    "        transforms.append(T.ColorJitter(brightness=0.5, contrast=0.5, saturation=0.5, hue=0.3))\n",
    "    return T.Compose(transforms)"
   ]
  },
  {
   "cell_type": "markdown",
   "metadata": {},
   "source": [
    "### Model Setup"
   ]
  },
  {
   "cell_type": "code",
   "execution_count": 16,
   "metadata": {},
   "outputs": [],
   "source": [
    "def get_ssd_model(num_classes):\n",
    "    model = torchvision.models.detection.ssd300_vgg16(pretrained=True)\n",
    "    in_channels = [512, 1024, 512, 256, 256, 256]\n",
    "    num_anchors = [4, 6, 6, 6, 4, 4]\n",
    "    model.head = SSDHead(in_channels, num_anchors, num_classes)\n",
    "    return model"
   ]
  },
  {
   "cell_type": "markdown",
   "metadata": {},
   "source": [
    "### Training "
   ]
  },
  {
   "cell_type": "code",
   "execution_count": 17,
   "metadata": {},
   "outputs": [],
   "source": [
    "def collate_fn(batch):\n",
    "    return tuple(zip(*batch))\n",
    "\n",
    "def train_one_epoch(model, optimizer, data_loader, device, scaler, use_mixed_precision):\n",
    "    model.train()\n",
    "    total_loss = 0\n",
    "    for images, targets in tqdm(data_loader, desc=\"Training\", leave=False):\n",
    "        images = list(image.to(device) for image in images)\n",
    "        targets = [{k: v.to(device) for k, v in t.items()} for t in targets]\n",
    "        \n",
    "        images = [img for img, target in zip(images, targets) if target['boxes'].numel() > 0]\n",
    "        targets = [target for target in targets if target['boxes'].numel() > 0]\n",
    "        \n",
    "        if len(images) == 0:\n",
    "            continue\n",
    "\n",
    "        optimizer.zero_grad()\n",
    "        \n",
    "        if use_mixed_precision:\n",
    "            with autocast():\n",
    "                loss_dict = model(images, targets)\n",
    "                losses = sum(loss for loss in loss_dict.values())\n",
    "            scaler.scale(losses).backward()\n",
    "            scaler.step(optimizer)\n",
    "            scaler.update()\n",
    "        else:\n",
    "            loss_dict = model(images, targets)\n",
    "            losses = sum(loss for loss in loss_dict.values())\n",
    "            losses.backward()\n",
    "            optimizer.step()\n",
    "        \n",
    "        total_loss += losses.item()\n",
    "    \n",
    "    return total_loss / len(data_loader)"
   ]
  },
  {
   "cell_type": "markdown",
   "metadata": {},
   "source": [
    "### Validation"
   ]
  },
  {
   "cell_type": "code",
   "execution_count": 18,
   "metadata": {},
   "outputs": [],
   "source": [
    "def validate(model, data_loader, device):\n",
    "    model.eval()\n",
    "    total_loss = 0\n",
    "    with torch.no_grad():\n",
    "        for images, targets in tqdm(data_loader, desc=\"Validating\", leave=False):\n",
    "            images = list(image.to(device) for image in images)\n",
    "            targets = [{k: v.to(device) for k, v in t.items()} for t in targets]\n",
    "            \n",
    "            images = [img for img, target in zip(images, targets) if target['boxes'].numel() > 0]\n",
    "            targets = [target for target in targets if target['boxes'].numel() > 0]\n",
    "            \n",
    "            if len(images) == 0:\n",
    "                continue\n",
    "\n",
    "            model.train()\n",
    "            loss_dict = model(images, targets)\n",
    "            model.eval()\n",
    "\n",
    "            if isinstance(loss_dict, list):\n",
    "                continue\n",
    "\n",
    "            losses = sum(loss for loss in loss_dict.values())\n",
    "            total_loss += losses.item()\n",
    "    \n",
    "    return total_loss / len(data_loader)"
   ]
  },
  {
   "cell_type": "code",
   "execution_count": 19,
   "metadata": {},
   "outputs": [
    {
     "name": "stdout",
     "output_type": "stream",
     "text": [
      "Using device: cuda\n",
      "Number of training samples: 2975\n",
      "Number of validation samples: 500\n",
      "\n",
      "Epoch 1/100\n"
     ]
    },
    {
     "name": "stderr",
     "output_type": "stream",
     "text": [
      "                                                         \r"
     ]
    },
    {
     "name": "stdout",
     "output_type": "stream",
     "text": [
      "Epoch 1 completed in 98.23 seconds\n",
      "Train Loss: 44.7314, Validation Loss: 7.3319\n",
      "\n",
      "Epoch 2/100\n"
     ]
    },
    {
     "name": "stderr",
     "output_type": "stream",
     "text": [
      "                                                         \r"
     ]
    },
    {
     "name": "stdout",
     "output_type": "stream",
     "text": [
      "Epoch 2 completed in 84.16 seconds\n",
      "Train Loss: 6.7460, Validation Loss: 6.6926\n",
      "\n",
      "Epoch 3/100\n"
     ]
    },
    {
     "name": "stderr",
     "output_type": "stream",
     "text": [
      "                                                         \r"
     ]
    },
    {
     "name": "stdout",
     "output_type": "stream",
     "text": [
      "Epoch 3 completed in 81.41 seconds\n",
      "Train Loss: 6.4636, Validation Loss: 6.5837\n",
      "\n",
      "Epoch 4/100\n"
     ]
    },
    {
     "name": "stderr",
     "output_type": "stream",
     "text": [
      "                                                         \r"
     ]
    },
    {
     "name": "stdout",
     "output_type": "stream",
     "text": [
      "Epoch 4 completed in 80.02 seconds\n",
      "Train Loss: 6.3240, Validation Loss: 6.4601\n",
      "\n",
      "Epoch 5/100\n"
     ]
    },
    {
     "name": "stderr",
     "output_type": "stream",
     "text": [
      "                                                         \r"
     ]
    },
    {
     "name": "stdout",
     "output_type": "stream",
     "text": [
      "Epoch 5 completed in 80.05 seconds\n",
      "Train Loss: 6.2622, Validation Loss: 6.4335\n",
      "\n",
      "Epoch 6/100\n"
     ]
    },
    {
     "name": "stderr",
     "output_type": "stream",
     "text": [
      "                                                         \r"
     ]
    },
    {
     "name": "stdout",
     "output_type": "stream",
     "text": [
      "Epoch 6 completed in 80.48 seconds\n",
      "Train Loss: 6.2348, Validation Loss: 6.4049\n",
      "\n",
      "Epoch 7/100\n"
     ]
    },
    {
     "name": "stderr",
     "output_type": "stream",
     "text": [
      "                                                         \r"
     ]
    },
    {
     "name": "stdout",
     "output_type": "stream",
     "text": [
      "Epoch 7 completed in 80.55 seconds\n",
      "Train Loss: 6.2033, Validation Loss: 6.3619\n",
      "\n",
      "Epoch 8/100\n"
     ]
    },
    {
     "name": "stderr",
     "output_type": "stream",
     "text": [
      "                                                         \r"
     ]
    },
    {
     "name": "stdout",
     "output_type": "stream",
     "text": [
      "Epoch 8 completed in 80.56 seconds\n",
      "Train Loss: 6.1881, Validation Loss: 6.3566\n",
      "\n",
      "Epoch 9/100\n"
     ]
    },
    {
     "name": "stderr",
     "output_type": "stream",
     "text": [
      "                                                         \r"
     ]
    },
    {
     "name": "stdout",
     "output_type": "stream",
     "text": [
      "Epoch 9 completed in 81.41 seconds\n",
      "Train Loss: 6.1864, Validation Loss: 6.3503\n",
      "\n",
      "Epoch 10/100\n"
     ]
    },
    {
     "name": "stderr",
     "output_type": "stream",
     "text": [
      "                                                         \r"
     ]
    },
    {
     "name": "stdout",
     "output_type": "stream",
     "text": [
      "Epoch 10 completed in 84.68 seconds\n",
      "Train Loss: 6.1849, Validation Loss: 6.3500\n",
      "\n",
      "Epoch 11/100\n"
     ]
    },
    {
     "name": "stderr",
     "output_type": "stream",
     "text": [
      "                                                         \r"
     ]
    },
    {
     "name": "stdout",
     "output_type": "stream",
     "text": [
      "Epoch 11 completed in 81.59 seconds\n",
      "Train Loss: 6.1797, Validation Loss: 6.3512\n",
      "\n",
      "Epoch 12/100\n"
     ]
    },
    {
     "name": "stderr",
     "output_type": "stream",
     "text": [
      "                                                         \r"
     ]
    },
    {
     "name": "stdout",
     "output_type": "stream",
     "text": [
      "Epoch 12 completed in 81.03 seconds\n",
      "Train Loss: 6.1833, Validation Loss: 6.3501\n",
      "\n",
      "Epoch 13/100\n"
     ]
    },
    {
     "name": "stderr",
     "output_type": "stream",
     "text": [
      "                                                         \r"
     ]
    },
    {
     "name": "stdout",
     "output_type": "stream",
     "text": [
      "Epoch 13 completed in 80.24 seconds\n",
      "Train Loss: 6.1759, Validation Loss: 6.3493\n",
      "\n",
      "Epoch 14/100\n"
     ]
    },
    {
     "name": "stderr",
     "output_type": "stream",
     "text": [
      "                                                         \r"
     ]
    },
    {
     "name": "stdout",
     "output_type": "stream",
     "text": [
      "Epoch 14 completed in 80.25 seconds\n",
      "Train Loss: 6.1767, Validation Loss: 6.3486\n",
      "\n",
      "Epoch 15/100\n"
     ]
    },
    {
     "name": "stderr",
     "output_type": "stream",
     "text": [
      "                                                         \r"
     ]
    },
    {
     "name": "stdout",
     "output_type": "stream",
     "text": [
      "Epoch 15 completed in 80.22 seconds\n",
      "Train Loss: 6.1827, Validation Loss: 6.3499\n",
      "\n",
      "Epoch 16/100\n"
     ]
    },
    {
     "name": "stderr",
     "output_type": "stream",
     "text": [
      "                                                         \r"
     ]
    },
    {
     "name": "stdout",
     "output_type": "stream",
     "text": [
      "Epoch 16 completed in 79.92 seconds\n",
      "Train Loss: 6.1871, Validation Loss: 6.3480\n",
      "\n",
      "Epoch 17/100\n"
     ]
    },
    {
     "name": "stderr",
     "output_type": "stream",
     "text": [
      "                                                         \r"
     ]
    },
    {
     "name": "stdout",
     "output_type": "stream",
     "text": [
      "Epoch 17 completed in 82.98 seconds\n",
      "Train Loss: 6.1826, Validation Loss: 6.3483\n",
      "\n",
      "Epoch 18/100\n"
     ]
    },
    {
     "name": "stderr",
     "output_type": "stream",
     "text": [
      "                                                         \r"
     ]
    },
    {
     "name": "stdout",
     "output_type": "stream",
     "text": [
      "Epoch 18 completed in 82.41 seconds\n",
      "Train Loss: 6.1743, Validation Loss: 6.3482\n",
      "\n",
      "Epoch 19/100\n"
     ]
    },
    {
     "name": "stderr",
     "output_type": "stream",
     "text": [
      "                                                         \r"
     ]
    },
    {
     "name": "stdout",
     "output_type": "stream",
     "text": [
      "Epoch 19 completed in 82.90 seconds\n",
      "Train Loss: 6.1768, Validation Loss: 6.3494\n",
      "\n",
      "Epoch 20/100\n"
     ]
    },
    {
     "name": "stderr",
     "output_type": "stream",
     "text": [
      "                                                         \r"
     ]
    },
    {
     "name": "stdout",
     "output_type": "stream",
     "text": [
      "Epoch 20 completed in 83.86 seconds\n",
      "Train Loss: 6.1761, Validation Loss: 6.3498\n",
      "\n",
      "Epoch 21/100\n"
     ]
    },
    {
     "name": "stderr",
     "output_type": "stream",
     "text": [
      "                                                         \r"
     ]
    },
    {
     "name": "stdout",
     "output_type": "stream",
     "text": [
      "Epoch 21 completed in 83.59 seconds\n",
      "Train Loss: 6.1774, Validation Loss: 6.3473\n",
      "\n",
      "Epoch 22/100\n"
     ]
    },
    {
     "name": "stderr",
     "output_type": "stream",
     "text": [
      "                                                         \r"
     ]
    },
    {
     "name": "stdout",
     "output_type": "stream",
     "text": [
      "Epoch 22 completed in 83.05 seconds\n",
      "Train Loss: 6.1779, Validation Loss: 6.3485\n",
      "\n",
      "Epoch 23/100\n"
     ]
    },
    {
     "name": "stderr",
     "output_type": "stream",
     "text": [
      "                                                         \r"
     ]
    },
    {
     "name": "stdout",
     "output_type": "stream",
     "text": [
      "Epoch 23 completed in 85.75 seconds\n",
      "Train Loss: 6.1714, Validation Loss: 6.3490\n",
      "\n",
      "Epoch 24/100\n"
     ]
    },
    {
     "name": "stderr",
     "output_type": "stream",
     "text": [
      "                                                         \r"
     ]
    },
    {
     "name": "stdout",
     "output_type": "stream",
     "text": [
      "Epoch 24 completed in 84.51 seconds\n",
      "Train Loss: 6.1773, Validation Loss: 6.3487\n",
      "\n",
      "Epoch 25/100\n"
     ]
    },
    {
     "name": "stderr",
     "output_type": "stream",
     "text": [
      "                                                         \r"
     ]
    },
    {
     "name": "stdout",
     "output_type": "stream",
     "text": [
      "Epoch 25 completed in 82.50 seconds\n",
      "Train Loss: 6.1731, Validation Loss: 6.3500\n",
      "\n",
      "Epoch 26/100\n"
     ]
    },
    {
     "name": "stderr",
     "output_type": "stream",
     "text": [
      "                                                         \r"
     ]
    },
    {
     "name": "stdout",
     "output_type": "stream",
     "text": [
      "Epoch 26 completed in 82.95 seconds\n",
      "Train Loss: 6.1828, Validation Loss: 6.3493\n",
      "\n",
      "Epoch 27/100\n"
     ]
    },
    {
     "name": "stderr",
     "output_type": "stream",
     "text": [
      "                                                         \r"
     ]
    },
    {
     "name": "stdout",
     "output_type": "stream",
     "text": [
      "Epoch 27 completed in 82.36 seconds\n",
      "Train Loss: 6.1832, Validation Loss: 6.3497\n",
      "\n",
      "Epoch 28/100\n"
     ]
    },
    {
     "name": "stderr",
     "output_type": "stream",
     "text": [
      "                                                         \r"
     ]
    },
    {
     "name": "stdout",
     "output_type": "stream",
     "text": [
      "Epoch 28 completed in 82.37 seconds\n",
      "Train Loss: 6.1765, Validation Loss: 6.3486\n",
      "\n",
      "Epoch 29/100\n"
     ]
    },
    {
     "name": "stderr",
     "output_type": "stream",
     "text": [
      "                                                         \r"
     ]
    },
    {
     "name": "stdout",
     "output_type": "stream",
     "text": [
      "Epoch 29 completed in 84.29 seconds\n",
      "Train Loss: 6.1819, Validation Loss: 6.3484\n",
      "\n",
      "Epoch 30/100\n"
     ]
    },
    {
     "name": "stderr",
     "output_type": "stream",
     "text": [
      "                                                         \r"
     ]
    },
    {
     "name": "stdout",
     "output_type": "stream",
     "text": [
      "Epoch 30 completed in 84.36 seconds\n",
      "Train Loss: 6.1692, Validation Loss: 6.3476\n",
      "\n",
      "Epoch 31/100\n"
     ]
    },
    {
     "name": "stderr",
     "output_type": "stream",
     "text": [
      "                                                         \r"
     ]
    },
    {
     "name": "stdout",
     "output_type": "stream",
     "text": [
      "Epoch 31 completed in 83.12 seconds\n",
      "Train Loss: 6.1766, Validation Loss: 6.3498\n",
      "\n",
      "Epoch 32/100\n"
     ]
    },
    {
     "name": "stderr",
     "output_type": "stream",
     "text": [
      "                                                         \r"
     ]
    },
    {
     "name": "stdout",
     "output_type": "stream",
     "text": [
      "Epoch 32 completed in 82.90 seconds\n",
      "Train Loss: 6.1729, Validation Loss: 6.3498\n",
      "\n",
      "Epoch 33/100\n"
     ]
    },
    {
     "name": "stderr",
     "output_type": "stream",
     "text": [
      "                                                         \r"
     ]
    },
    {
     "name": "stdout",
     "output_type": "stream",
     "text": [
      "Epoch 33 completed in 82.78 seconds\n",
      "Train Loss: 6.1810, Validation Loss: 6.3495\n",
      "\n",
      "Epoch 34/100\n"
     ]
    },
    {
     "name": "stderr",
     "output_type": "stream",
     "text": [
      "                                                         \r"
     ]
    },
    {
     "name": "stdout",
     "output_type": "stream",
     "text": [
      "Epoch 34 completed in 81.22 seconds\n",
      "Train Loss: 6.1780, Validation Loss: 6.3488\n",
      "\n",
      "Epoch 35/100\n"
     ]
    },
    {
     "name": "stderr",
     "output_type": "stream",
     "text": [
      "                                                         \r"
     ]
    },
    {
     "name": "stdout",
     "output_type": "stream",
     "text": [
      "Epoch 35 completed in 82.74 seconds\n",
      "Train Loss: 6.1723, Validation Loss: 6.3492\n",
      "\n",
      "Epoch 36/100\n"
     ]
    },
    {
     "name": "stderr",
     "output_type": "stream",
     "text": [
      "                                                         \r"
     ]
    },
    {
     "name": "stdout",
     "output_type": "stream",
     "text": [
      "Epoch 36 completed in 82.05 seconds\n",
      "Train Loss: 6.1720, Validation Loss: 6.3487\n",
      "\n",
      "Epoch 37/100\n"
     ]
    },
    {
     "name": "stderr",
     "output_type": "stream",
     "text": [
      "                                                         \r"
     ]
    },
    {
     "name": "stdout",
     "output_type": "stream",
     "text": [
      "Epoch 37 completed in 84.06 seconds\n",
      "Train Loss: 6.1787, Validation Loss: 6.3484\n",
      "\n",
      "Epoch 38/100\n"
     ]
    },
    {
     "name": "stderr",
     "output_type": "stream",
     "text": [
      "                                                         \r"
     ]
    },
    {
     "name": "stdout",
     "output_type": "stream",
     "text": [
      "Epoch 38 completed in 82.36 seconds\n",
      "Train Loss: 6.1780, Validation Loss: 6.3480\n",
      "\n",
      "Epoch 39/100\n"
     ]
    },
    {
     "name": "stderr",
     "output_type": "stream",
     "text": [
      "                                                         \r"
     ]
    },
    {
     "name": "stdout",
     "output_type": "stream",
     "text": [
      "Epoch 39 completed in 83.25 seconds\n",
      "Train Loss: 6.1660, Validation Loss: 6.3483\n",
      "\n",
      "Epoch 40/100\n"
     ]
    },
    {
     "name": "stderr",
     "output_type": "stream",
     "text": [
      "                                                         \r"
     ]
    },
    {
     "name": "stdout",
     "output_type": "stream",
     "text": [
      "Epoch 40 completed in 81.95 seconds\n",
      "Train Loss: 6.1745, Validation Loss: 6.3490\n",
      "\n",
      "Epoch 41/100\n"
     ]
    },
    {
     "name": "stderr",
     "output_type": "stream",
     "text": [
      "                                                         \r"
     ]
    },
    {
     "name": "stdout",
     "output_type": "stream",
     "text": [
      "Epoch 41 completed in 83.37 seconds\n",
      "Train Loss: 6.1789, Validation Loss: 6.3487\n",
      "\n",
      "Epoch 42/100\n"
     ]
    },
    {
     "name": "stderr",
     "output_type": "stream",
     "text": [
      "                                                         \r"
     ]
    },
    {
     "name": "stdout",
     "output_type": "stream",
     "text": [
      "Epoch 42 completed in 81.67 seconds\n",
      "Train Loss: 6.1804, Validation Loss: 6.3482\n",
      "\n",
      "Epoch 43/100\n"
     ]
    },
    {
     "name": "stderr",
     "output_type": "stream",
     "text": [
      "                                                         \r"
     ]
    },
    {
     "name": "stdout",
     "output_type": "stream",
     "text": [
      "Epoch 43 completed in 82.87 seconds\n",
      "Train Loss: 6.1709, Validation Loss: 6.3502\n",
      "\n",
      "Epoch 44/100\n"
     ]
    },
    {
     "name": "stderr",
     "output_type": "stream",
     "text": [
      "                                                         \r"
     ]
    },
    {
     "name": "stdout",
     "output_type": "stream",
     "text": [
      "Epoch 44 completed in 82.35 seconds\n",
      "Train Loss: 6.1768, Validation Loss: 6.3486\n",
      "\n",
      "Epoch 45/100\n"
     ]
    },
    {
     "name": "stderr",
     "output_type": "stream",
     "text": [
      "                                                         \r"
     ]
    },
    {
     "name": "stdout",
     "output_type": "stream",
     "text": [
      "Epoch 45 completed in 83.29 seconds\n",
      "Train Loss: 6.1785, Validation Loss: 6.3487\n",
      "\n",
      "Epoch 46/100\n"
     ]
    },
    {
     "name": "stderr",
     "output_type": "stream",
     "text": [
      "                                                         \r"
     ]
    },
    {
     "name": "stdout",
     "output_type": "stream",
     "text": [
      "Epoch 46 completed in 82.92 seconds\n",
      "Train Loss: 6.1739, Validation Loss: 6.3480\n",
      "\n",
      "Epoch 47/100\n"
     ]
    },
    {
     "name": "stderr",
     "output_type": "stream",
     "text": [
      "                                                         \r"
     ]
    },
    {
     "name": "stdout",
     "output_type": "stream",
     "text": [
      "Epoch 47 completed in 83.12 seconds\n",
      "Train Loss: 6.1827, Validation Loss: 6.3483\n",
      "\n",
      "Epoch 48/100\n"
     ]
    },
    {
     "name": "stderr",
     "output_type": "stream",
     "text": [
      "                                                         \r"
     ]
    },
    {
     "name": "stdout",
     "output_type": "stream",
     "text": [
      "Epoch 48 completed in 82.32 seconds\n",
      "Train Loss: 6.1807, Validation Loss: 6.3477\n",
      "\n",
      "Epoch 49/100\n"
     ]
    },
    {
     "name": "stderr",
     "output_type": "stream",
     "text": [
      "                                                         \r"
     ]
    },
    {
     "name": "stdout",
     "output_type": "stream",
     "text": [
      "Epoch 49 completed in 82.95 seconds\n",
      "Train Loss: 6.1810, Validation Loss: 6.3498\n",
      "\n",
      "Epoch 50/100\n"
     ]
    },
    {
     "name": "stderr",
     "output_type": "stream",
     "text": [
      "                                                         \r"
     ]
    },
    {
     "name": "stdout",
     "output_type": "stream",
     "text": [
      "Epoch 50 completed in 82.48 seconds\n",
      "Train Loss: 6.1860, Validation Loss: 6.3504\n",
      "\n",
      "Epoch 51/100\n"
     ]
    },
    {
     "name": "stderr",
     "output_type": "stream",
     "text": [
      "                                                         \r"
     ]
    },
    {
     "name": "stdout",
     "output_type": "stream",
     "text": [
      "Epoch 51 completed in 82.51 seconds\n",
      "Train Loss: 6.1774, Validation Loss: 6.3499\n",
      "\n",
      "Epoch 52/100\n"
     ]
    },
    {
     "name": "stderr",
     "output_type": "stream",
     "text": [
      "                                                         \r"
     ]
    },
    {
     "name": "stdout",
     "output_type": "stream",
     "text": [
      "Epoch 52 completed in 82.96 seconds\n",
      "Train Loss: 6.1839, Validation Loss: 6.3491\n",
      "\n",
      "Epoch 53/100\n"
     ]
    },
    {
     "name": "stderr",
     "output_type": "stream",
     "text": [
      "                                                         \r"
     ]
    },
    {
     "name": "stdout",
     "output_type": "stream",
     "text": [
      "Epoch 53 completed in 83.61 seconds\n",
      "Train Loss: 6.1781, Validation Loss: 6.3476\n",
      "\n",
      "Epoch 54/100\n"
     ]
    },
    {
     "name": "stderr",
     "output_type": "stream",
     "text": [
      "                                                         \r"
     ]
    },
    {
     "name": "stdout",
     "output_type": "stream",
     "text": [
      "Epoch 54 completed in 84.45 seconds\n",
      "Train Loss: 6.1797, Validation Loss: 6.3494\n",
      "\n",
      "Epoch 55/100\n"
     ]
    },
    {
     "name": "stderr",
     "output_type": "stream",
     "text": [
      "                                                         \r"
     ]
    },
    {
     "name": "stdout",
     "output_type": "stream",
     "text": [
      "Epoch 55 completed in 83.95 seconds\n",
      "Train Loss: 6.1732, Validation Loss: 6.3485\n",
      "\n",
      "Epoch 56/100\n"
     ]
    },
    {
     "name": "stderr",
     "output_type": "stream",
     "text": [
      "                                                         \r"
     ]
    },
    {
     "name": "stdout",
     "output_type": "stream",
     "text": [
      "Epoch 56 completed in 83.46 seconds\n",
      "Train Loss: 6.1794, Validation Loss: 6.3492\n",
      "\n",
      "Epoch 57/100\n"
     ]
    },
    {
     "name": "stderr",
     "output_type": "stream",
     "text": [
      "                                                         \r"
     ]
    },
    {
     "name": "stdout",
     "output_type": "stream",
     "text": [
      "Epoch 57 completed in 81.93 seconds\n",
      "Train Loss: 6.1797, Validation Loss: 6.3502\n",
      "\n",
      "Epoch 58/100\n"
     ]
    },
    {
     "name": "stderr",
     "output_type": "stream",
     "text": [
      "                                                         \r"
     ]
    },
    {
     "name": "stdout",
     "output_type": "stream",
     "text": [
      "Epoch 58 completed in 81.55 seconds\n",
      "Train Loss: 6.1778, Validation Loss: 6.3492\n",
      "\n",
      "Epoch 59/100\n"
     ]
    },
    {
     "name": "stderr",
     "output_type": "stream",
     "text": [
      "                                                         \r"
     ]
    },
    {
     "name": "stdout",
     "output_type": "stream",
     "text": [
      "Epoch 59 completed in 82.46 seconds\n",
      "Train Loss: 6.1777, Validation Loss: 6.3487\n",
      "\n",
      "Epoch 60/100\n"
     ]
    },
    {
     "name": "stderr",
     "output_type": "stream",
     "text": [
      "                                                         \r"
     ]
    },
    {
     "name": "stdout",
     "output_type": "stream",
     "text": [
      "Epoch 60 completed in 81.26 seconds\n",
      "Train Loss: 6.1744, Validation Loss: 6.3513\n",
      "\n",
      "Epoch 61/100\n"
     ]
    },
    {
     "name": "stderr",
     "output_type": "stream",
     "text": [
      "                                                         \r"
     ]
    },
    {
     "name": "stdout",
     "output_type": "stream",
     "text": [
      "Epoch 61 completed in 82.66 seconds\n",
      "Train Loss: 6.1836, Validation Loss: 6.3487\n",
      "\n",
      "Epoch 62/100\n"
     ]
    },
    {
     "name": "stderr",
     "output_type": "stream",
     "text": [
      "                                                         \r"
     ]
    },
    {
     "name": "stdout",
     "output_type": "stream",
     "text": [
      "Epoch 62 completed in 82.99 seconds\n",
      "Train Loss: 6.1818, Validation Loss: 6.3492\n",
      "\n",
      "Epoch 63/100\n"
     ]
    },
    {
     "name": "stderr",
     "output_type": "stream",
     "text": [
      "                                                         \r"
     ]
    },
    {
     "name": "stdout",
     "output_type": "stream",
     "text": [
      "Epoch 63 completed in 82.30 seconds\n",
      "Train Loss: 6.1814, Validation Loss: 6.3491\n",
      "\n",
      "Epoch 64/100\n"
     ]
    },
    {
     "name": "stderr",
     "output_type": "stream",
     "text": [
      "                                                         \r"
     ]
    },
    {
     "name": "stdout",
     "output_type": "stream",
     "text": [
      "Epoch 64 completed in 81.74 seconds\n",
      "Train Loss: 6.1846, Validation Loss: 6.3498\n",
      "\n",
      "Epoch 65/100\n"
     ]
    },
    {
     "name": "stderr",
     "output_type": "stream",
     "text": [
      "                                                         \r"
     ]
    },
    {
     "name": "stdout",
     "output_type": "stream",
     "text": [
      "Epoch 65 completed in 82.82 seconds\n",
      "Train Loss: 6.1855, Validation Loss: 6.3505\n",
      "\n",
      "Epoch 66/100\n"
     ]
    },
    {
     "name": "stderr",
     "output_type": "stream",
     "text": [
      "                                                         \r"
     ]
    },
    {
     "name": "stdout",
     "output_type": "stream",
     "text": [
      "Epoch 66 completed in 81.44 seconds\n",
      "Train Loss: 6.1794, Validation Loss: 6.3479\n",
      "\n",
      "Epoch 67/100\n"
     ]
    },
    {
     "name": "stderr",
     "output_type": "stream",
     "text": [
      "                                                         \r"
     ]
    },
    {
     "name": "stdout",
     "output_type": "stream",
     "text": [
      "Epoch 67 completed in 80.95 seconds\n",
      "Train Loss: 6.1732, Validation Loss: 6.3488\n",
      "\n",
      "Epoch 68/100\n"
     ]
    },
    {
     "name": "stderr",
     "output_type": "stream",
     "text": [
      "                                                         \r"
     ]
    },
    {
     "name": "stdout",
     "output_type": "stream",
     "text": [
      "Epoch 68 completed in 82.90 seconds\n",
      "Train Loss: 6.1771, Validation Loss: 6.3490\n",
      "\n",
      "Epoch 69/100\n"
     ]
    },
    {
     "name": "stderr",
     "output_type": "stream",
     "text": [
      "                                                         \r"
     ]
    },
    {
     "name": "stdout",
     "output_type": "stream",
     "text": [
      "Epoch 69 completed in 82.23 seconds\n",
      "Train Loss: 6.1859, Validation Loss: 6.3496\n",
      "\n",
      "Epoch 70/100\n"
     ]
    },
    {
     "name": "stderr",
     "output_type": "stream",
     "text": [
      "                                                         \r"
     ]
    },
    {
     "name": "stdout",
     "output_type": "stream",
     "text": [
      "Epoch 70 completed in 81.94 seconds\n",
      "Train Loss: 6.1869, Validation Loss: 6.3493\n",
      "\n",
      "Epoch 71/100\n"
     ]
    },
    {
     "name": "stderr",
     "output_type": "stream",
     "text": [
      "                                                         \r"
     ]
    },
    {
     "name": "stdout",
     "output_type": "stream",
     "text": [
      "Epoch 71 completed in 83.21 seconds\n",
      "Train Loss: 6.1737, Validation Loss: 6.3474\n",
      "\n",
      "Epoch 72/100\n"
     ]
    },
    {
     "name": "stderr",
     "output_type": "stream",
     "text": [
      "                                                         \r"
     ]
    },
    {
     "name": "stdout",
     "output_type": "stream",
     "text": [
      "Epoch 72 completed in 82.20 seconds\n",
      "Train Loss: 6.1875, Validation Loss: 6.3504\n",
      "\n",
      "Epoch 73/100\n"
     ]
    },
    {
     "name": "stderr",
     "output_type": "stream",
     "text": [
      "                                                         \r"
     ]
    },
    {
     "name": "stdout",
     "output_type": "stream",
     "text": [
      "Epoch 73 completed in 81.34 seconds\n",
      "Train Loss: 6.1771, Validation Loss: 6.3494\n",
      "\n",
      "Epoch 74/100\n"
     ]
    },
    {
     "name": "stderr",
     "output_type": "stream",
     "text": [
      "                                                         \r"
     ]
    },
    {
     "name": "stdout",
     "output_type": "stream",
     "text": [
      "Epoch 74 completed in 83.76 seconds\n",
      "Train Loss: 6.1774, Validation Loss: 6.3501\n",
      "\n",
      "Epoch 75/100\n"
     ]
    },
    {
     "name": "stderr",
     "output_type": "stream",
     "text": [
      "                                                         \r"
     ]
    },
    {
     "name": "stdout",
     "output_type": "stream",
     "text": [
      "Epoch 75 completed in 82.57 seconds\n",
      "Train Loss: 6.1773, Validation Loss: 6.3490\n",
      "\n",
      "Epoch 76/100\n"
     ]
    },
    {
     "name": "stderr",
     "output_type": "stream",
     "text": [
      "                                                         \r"
     ]
    },
    {
     "name": "stdout",
     "output_type": "stream",
     "text": [
      "Epoch 76 completed in 82.61 seconds\n",
      "Train Loss: 6.1733, Validation Loss: 6.3493\n",
      "\n",
      "Epoch 77/100\n"
     ]
    },
    {
     "name": "stderr",
     "output_type": "stream",
     "text": [
      "                                                         \r"
     ]
    },
    {
     "name": "stdout",
     "output_type": "stream",
     "text": [
      "Epoch 77 completed in 82.05 seconds\n",
      "Train Loss: 6.1796, Validation Loss: 6.3481\n",
      "\n",
      "Epoch 78/100\n"
     ]
    },
    {
     "name": "stderr",
     "output_type": "stream",
     "text": [
      "                                                         \r"
     ]
    },
    {
     "name": "stdout",
     "output_type": "stream",
     "text": [
      "Epoch 78 completed in 83.11 seconds\n",
      "Train Loss: 6.1780, Validation Loss: 6.3494\n",
      "\n",
      "Epoch 79/100\n"
     ]
    },
    {
     "name": "stderr",
     "output_type": "stream",
     "text": [
      "                                                         \r"
     ]
    },
    {
     "name": "stdout",
     "output_type": "stream",
     "text": [
      "Epoch 79 completed in 84.10 seconds\n",
      "Train Loss: 6.1875, Validation Loss: 6.3496\n",
      "\n",
      "Epoch 80/100\n"
     ]
    },
    {
     "name": "stderr",
     "output_type": "stream",
     "text": [
      "                                                         \r"
     ]
    },
    {
     "name": "stdout",
     "output_type": "stream",
     "text": [
      "Epoch 80 completed in 84.31 seconds\n",
      "Train Loss: 6.1790, Validation Loss: 6.3484\n",
      "\n",
      "Epoch 81/100\n"
     ]
    },
    {
     "name": "stderr",
     "output_type": "stream",
     "text": [
      "                                                         \r"
     ]
    },
    {
     "name": "stdout",
     "output_type": "stream",
     "text": [
      "Epoch 81 completed in 83.78 seconds\n",
      "Train Loss: 6.1788, Validation Loss: 6.3483\n",
      "\n",
      "Epoch 82/100\n"
     ]
    },
    {
     "name": "stderr",
     "output_type": "stream",
     "text": [
      "                                                         \r"
     ]
    },
    {
     "name": "stdout",
     "output_type": "stream",
     "text": [
      "Epoch 82 completed in 82.37 seconds\n",
      "Train Loss: 6.1821, Validation Loss: 6.3487\n",
      "\n",
      "Epoch 83/100\n"
     ]
    },
    {
     "name": "stderr",
     "output_type": "stream",
     "text": [
      "                                                         \r"
     ]
    },
    {
     "name": "stdout",
     "output_type": "stream",
     "text": [
      "Epoch 83 completed in 83.48 seconds\n",
      "Train Loss: 6.1825, Validation Loss: 6.3490\n",
      "\n",
      "Epoch 84/100\n"
     ]
    },
    {
     "name": "stderr",
     "output_type": "stream",
     "text": [
      "                                                         \r"
     ]
    },
    {
     "name": "stdout",
     "output_type": "stream",
     "text": [
      "Epoch 84 completed in 82.33 seconds\n",
      "Train Loss: 6.1897, Validation Loss: 6.3502\n",
      "\n",
      "Epoch 85/100\n"
     ]
    },
    {
     "name": "stderr",
     "output_type": "stream",
     "text": [
      "                                                         \r"
     ]
    },
    {
     "name": "stdout",
     "output_type": "stream",
     "text": [
      "Epoch 85 completed in 82.27 seconds\n",
      "Train Loss: 6.1881, Validation Loss: 6.3479\n",
      "\n",
      "Epoch 86/100\n"
     ]
    },
    {
     "name": "stderr",
     "output_type": "stream",
     "text": [
      "                                                         \r"
     ]
    },
    {
     "name": "stdout",
     "output_type": "stream",
     "text": [
      "Epoch 86 completed in 83.77 seconds\n",
      "Train Loss: 6.1827, Validation Loss: 6.3503\n",
      "\n",
      "Epoch 87/100\n"
     ]
    },
    {
     "name": "stderr",
     "output_type": "stream",
     "text": [
      "                                                         \r"
     ]
    },
    {
     "name": "stdout",
     "output_type": "stream",
     "text": [
      "Epoch 87 completed in 84.06 seconds\n",
      "Train Loss: 6.1841, Validation Loss: 6.3509\n",
      "\n",
      "Epoch 88/100\n"
     ]
    },
    {
     "name": "stderr",
     "output_type": "stream",
     "text": [
      "                                                         \r"
     ]
    },
    {
     "name": "stdout",
     "output_type": "stream",
     "text": [
      "Epoch 88 completed in 82.30 seconds\n",
      "Train Loss: 6.1738, Validation Loss: 6.3477\n",
      "\n",
      "Epoch 89/100\n"
     ]
    },
    {
     "name": "stderr",
     "output_type": "stream",
     "text": [
      "                                                         \r"
     ]
    },
    {
     "name": "stdout",
     "output_type": "stream",
     "text": [
      "Epoch 89 completed in 84.10 seconds\n",
      "Train Loss: 6.1847, Validation Loss: 6.3478\n",
      "\n",
      "Epoch 90/100\n"
     ]
    },
    {
     "name": "stderr",
     "output_type": "stream",
     "text": [
      "                                                         \r"
     ]
    },
    {
     "name": "stdout",
     "output_type": "stream",
     "text": [
      "Epoch 90 completed in 83.25 seconds\n",
      "Train Loss: 6.1785, Validation Loss: 6.3495\n",
      "\n",
      "Epoch 91/100\n"
     ]
    },
    {
     "name": "stderr",
     "output_type": "stream",
     "text": [
      "                                                         \r"
     ]
    },
    {
     "name": "stdout",
     "output_type": "stream",
     "text": [
      "Epoch 91 completed in 83.46 seconds\n",
      "Train Loss: 6.1818, Validation Loss: 6.3476\n",
      "\n",
      "Epoch 92/100\n"
     ]
    },
    {
     "name": "stderr",
     "output_type": "stream",
     "text": [
      "                                                         \r"
     ]
    },
    {
     "name": "stdout",
     "output_type": "stream",
     "text": [
      "Epoch 92 completed in 83.55 seconds\n",
      "Train Loss: 6.1763, Validation Loss: 6.3483\n",
      "\n",
      "Epoch 93/100\n"
     ]
    },
    {
     "name": "stderr",
     "output_type": "stream",
     "text": [
      "                                                         \r"
     ]
    },
    {
     "name": "stdout",
     "output_type": "stream",
     "text": [
      "Epoch 93 completed in 82.52 seconds\n",
      "Train Loss: 6.1844, Validation Loss: 6.3490\n",
      "\n",
      "Epoch 94/100\n"
     ]
    },
    {
     "name": "stderr",
     "output_type": "stream",
     "text": [
      "                                                         \r"
     ]
    },
    {
     "name": "stdout",
     "output_type": "stream",
     "text": [
      "Epoch 94 completed in 81.47 seconds\n",
      "Train Loss: 6.1802, Validation Loss: 6.3475\n",
      "\n",
      "Epoch 95/100\n"
     ]
    },
    {
     "name": "stderr",
     "output_type": "stream",
     "text": [
      "                                                         \r"
     ]
    },
    {
     "name": "stdout",
     "output_type": "stream",
     "text": [
      "Epoch 95 completed in 84.78 seconds\n",
      "Train Loss: 6.1861, Validation Loss: 6.3483\n",
      "\n",
      "Epoch 96/100\n"
     ]
    },
    {
     "name": "stderr",
     "output_type": "stream",
     "text": [
      "                                                         \r"
     ]
    },
    {
     "name": "stdout",
     "output_type": "stream",
     "text": [
      "Epoch 96 completed in 83.63 seconds\n",
      "Train Loss: 6.1694, Validation Loss: 6.3492\n",
      "\n",
      "Epoch 97/100\n"
     ]
    },
    {
     "name": "stderr",
     "output_type": "stream",
     "text": [
      "                                                         \r"
     ]
    },
    {
     "name": "stdout",
     "output_type": "stream",
     "text": [
      "Epoch 97 completed in 81.87 seconds\n",
      "Train Loss: 6.1746, Validation Loss: 6.3479\n",
      "\n",
      "Epoch 98/100\n"
     ]
    },
    {
     "name": "stderr",
     "output_type": "stream",
     "text": [
      "                                                         \r"
     ]
    },
    {
     "name": "stdout",
     "output_type": "stream",
     "text": [
      "Epoch 98 completed in 82.14 seconds\n",
      "Train Loss: 6.1802, Validation Loss: 6.3476\n",
      "\n",
      "Epoch 99/100\n"
     ]
    },
    {
     "name": "stderr",
     "output_type": "stream",
     "text": [
      "                                                         \r"
     ]
    },
    {
     "name": "stdout",
     "output_type": "stream",
     "text": [
      "Epoch 99 completed in 83.37 seconds\n",
      "Train Loss: 6.1857, Validation Loss: 6.3484\n",
      "\n",
      "Epoch 100/100\n"
     ]
    },
    {
     "name": "stderr",
     "output_type": "stream",
     "text": [
      "                                                         \r"
     ]
    },
    {
     "name": "stdout",
     "output_type": "stream",
     "text": [
      "Epoch 100 completed in 83.37 seconds\n",
      "Train Loss: 6.1748, Validation Loss: 6.3488\n",
      "\n",
      "Training completed in 8277.67 seconds\n",
      "Model saved as ssd_cityscapes.pth\n"
     ]
    }
   ],
   "source": [
    "torch.backends.cudnn.benchmark = True\n",
    "device = torch.device('cuda') if torch.cuda.is_available() else torch.device('cpu')\n",
    "print(f\"Using device: {device}\")\n",
    "\n",
    "root_dir = '/teamspace/studios/this_studio/Cityscapes_2'\n",
    "num_classes = 9\n",
    "num_epochs = 100\n",
    "batch_size = 64\n",
    "num_workers = 8\n",
    "use_mixed_precision = True\n",
    "\n",
    "train_dataset = CityscapesDataset(root_dir=root_dir, split='train', transform=get_transform(train=True))\n",
    "val_dataset = CityscapesDataset(root_dir=root_dir, split='val', transform=get_transform(train=False))\n",
    "\n",
    "train_loader = DataLoader(train_dataset, batch_size=batch_size, shuffle=True, num_workers=num_workers, pin_memory=True, collate_fn=collate_fn)\n",
    "val_loader = DataLoader(val_dataset, batch_size=batch_size, shuffle=False, num_workers=num_workers, pin_memory=True, collate_fn=collate_fn)\n",
    "\n",
    "print(f\"Number of training samples: {len(train_dataset)}\")\n",
    "print(f\"Number of validation samples: {len(val_dataset)}\")\n",
    "\n",
    "model = get_ssd_model(num_classes).to(device)\n",
    "params = [p for p in model.parameters() if p.requires_grad]\n",
    "optimizer = optim.AdamW(params, lr=0.001, weight_decay=0.0005)\n",
    "scheduler = torch.optim.lr_scheduler.StepLR(optimizer, step_size=3, gamma=0.1)\n",
    "\n",
    "scaler = GradScaler()\n",
    "start_time = time.time()\n",
    "\n",
    "for epoch in range(num_epochs):\n",
    "    print(f\"\\nEpoch {epoch+1}/{num_epochs}\")\n",
    "    epoch_start_time = time.time()\n",
    "\n",
    "    train_loss = train_one_epoch(model, optimizer, train_loader, device, scaler, use_mixed_precision)\n",
    "    val_loss = validate(model, val_loader, device)\n",
    "    scheduler.step()\n",
    "\n",
    "    epoch_time = time.time() - epoch_start_time\n",
    "    print(f\"Epoch {epoch+1} completed in {epoch_time:.2f} seconds\")\n",
    "    print(f\"Train Loss: {train_loss:.4f}, Validation Loss: {val_loss:.4f}\")\n",
    "\n",
    "total_time = time.time() - start_time\n",
    "print(f\"\\nTraining completed in {total_time:.2f} seconds\")\n",
    "\n",
    "torch.save(model.state_dict(), 'ssd_cityscapes.pth')\n",
    "print(\"Model saved as ssd_cityscapes.pth\")"
   ]
  },
  {
   "cell_type": "markdown",
   "metadata": {},
   "source": [
    "## evaluation "
   ]
  },
  {
   "cell_type": "code",
   "execution_count": 32,
   "metadata": {},
   "outputs": [
    {
     "data": {
      "text/plain": [
       "SSD(\n",
       "  (backbone): SSDFeatureExtractorVGG(\n",
       "    (features): Sequential(\n",
       "      (0): Conv2d(3, 64, kernel_size=(3, 3), stride=(1, 1), padding=(1, 1))\n",
       "      (1): ReLU(inplace=True)\n",
       "      (2): Conv2d(64, 64, kernel_size=(3, 3), stride=(1, 1), padding=(1, 1))\n",
       "      (3): ReLU(inplace=True)\n",
       "      (4): MaxPool2d(kernel_size=2, stride=2, padding=0, dilation=1, ceil_mode=False)\n",
       "      (5): Conv2d(64, 128, kernel_size=(3, 3), stride=(1, 1), padding=(1, 1))\n",
       "      (6): ReLU(inplace=True)\n",
       "      (7): Conv2d(128, 128, kernel_size=(3, 3), stride=(1, 1), padding=(1, 1))\n",
       "      (8): ReLU(inplace=True)\n",
       "      (9): MaxPool2d(kernel_size=2, stride=2, padding=0, dilation=1, ceil_mode=False)\n",
       "      (10): Conv2d(128, 256, kernel_size=(3, 3), stride=(1, 1), padding=(1, 1))\n",
       "      (11): ReLU(inplace=True)\n",
       "      (12): Conv2d(256, 256, kernel_size=(3, 3), stride=(1, 1), padding=(1, 1))\n",
       "      (13): ReLU(inplace=True)\n",
       "      (14): Conv2d(256, 256, kernel_size=(3, 3), stride=(1, 1), padding=(1, 1))\n",
       "      (15): ReLU(inplace=True)\n",
       "      (16): MaxPool2d(kernel_size=2, stride=2, padding=0, dilation=1, ceil_mode=True)\n",
       "      (17): Conv2d(256, 512, kernel_size=(3, 3), stride=(1, 1), padding=(1, 1))\n",
       "      (18): ReLU(inplace=True)\n",
       "      (19): Conv2d(512, 512, kernel_size=(3, 3), stride=(1, 1), padding=(1, 1))\n",
       "      (20): ReLU(inplace=True)\n",
       "      (21): Conv2d(512, 512, kernel_size=(3, 3), stride=(1, 1), padding=(1, 1))\n",
       "      (22): ReLU(inplace=True)\n",
       "    )\n",
       "    (extra): ModuleList(\n",
       "      (0): Sequential(\n",
       "        (0): MaxPool2d(kernel_size=2, stride=2, padding=0, dilation=1, ceil_mode=False)\n",
       "        (1): Conv2d(512, 512, kernel_size=(3, 3), stride=(1, 1), padding=(1, 1))\n",
       "        (2): ReLU(inplace=True)\n",
       "        (3): Conv2d(512, 512, kernel_size=(3, 3), stride=(1, 1), padding=(1, 1))\n",
       "        (4): ReLU(inplace=True)\n",
       "        (5): Conv2d(512, 512, kernel_size=(3, 3), stride=(1, 1), padding=(1, 1))\n",
       "        (6): ReLU(inplace=True)\n",
       "        (7): Sequential(\n",
       "          (0): MaxPool2d(kernel_size=3, stride=1, padding=1, dilation=1, ceil_mode=False)\n",
       "          (1): Conv2d(512, 1024, kernel_size=(3, 3), stride=(1, 1), padding=(6, 6), dilation=(6, 6))\n",
       "          (2): ReLU(inplace=True)\n",
       "          (3): Conv2d(1024, 1024, kernel_size=(1, 1), stride=(1, 1))\n",
       "          (4): ReLU(inplace=True)\n",
       "        )\n",
       "      )\n",
       "      (1): Sequential(\n",
       "        (0): Conv2d(1024, 256, kernel_size=(1, 1), stride=(1, 1))\n",
       "        (1): ReLU(inplace=True)\n",
       "        (2): Conv2d(256, 512, kernel_size=(3, 3), stride=(2, 2), padding=(1, 1))\n",
       "        (3): ReLU(inplace=True)\n",
       "      )\n",
       "      (2): Sequential(\n",
       "        (0): Conv2d(512, 128, kernel_size=(1, 1), stride=(1, 1))\n",
       "        (1): ReLU(inplace=True)\n",
       "        (2): Conv2d(128, 256, kernel_size=(3, 3), stride=(2, 2), padding=(1, 1))\n",
       "        (3): ReLU(inplace=True)\n",
       "      )\n",
       "      (3-4): 2 x Sequential(\n",
       "        (0): Conv2d(256, 128, kernel_size=(1, 1), stride=(1, 1))\n",
       "        (1): ReLU(inplace=True)\n",
       "        (2): Conv2d(128, 256, kernel_size=(3, 3), stride=(1, 1))\n",
       "        (3): ReLU(inplace=True)\n",
       "      )\n",
       "    )\n",
       "  )\n",
       "  (anchor_generator): DefaultBoxGenerator(aspect_ratios=[[2], [2, 3], [2, 3], [2, 3], [2], [2]], clip=True, scales=[0.07, 0.15, 0.33, 0.51, 0.69, 0.87, 1.05], steps=[8, 16, 32, 64, 100, 300])\n",
       "  (head): SSDHead(\n",
       "    (classification_head): SSDClassificationHead(\n",
       "      (module_list): ModuleList(\n",
       "        (0): Conv2d(512, 36, kernel_size=(3, 3), stride=(1, 1), padding=(1, 1))\n",
       "        (1): Conv2d(1024, 54, kernel_size=(3, 3), stride=(1, 1), padding=(1, 1))\n",
       "        (2): Conv2d(512, 54, kernel_size=(3, 3), stride=(1, 1), padding=(1, 1))\n",
       "        (3): Conv2d(256, 54, kernel_size=(3, 3), stride=(1, 1), padding=(1, 1))\n",
       "        (4-5): 2 x Conv2d(256, 36, kernel_size=(3, 3), stride=(1, 1), padding=(1, 1))\n",
       "      )\n",
       "    )\n",
       "    (regression_head): SSDRegressionHead(\n",
       "      (module_list): ModuleList(\n",
       "        (0): Conv2d(512, 16, kernel_size=(3, 3), stride=(1, 1), padding=(1, 1))\n",
       "        (1): Conv2d(1024, 24, kernel_size=(3, 3), stride=(1, 1), padding=(1, 1))\n",
       "        (2): Conv2d(512, 24, kernel_size=(3, 3), stride=(1, 1), padding=(1, 1))\n",
       "        (3): Conv2d(256, 24, kernel_size=(3, 3), stride=(1, 1), padding=(1, 1))\n",
       "        (4-5): 2 x Conv2d(256, 16, kernel_size=(3, 3), stride=(1, 1), padding=(1, 1))\n",
       "      )\n",
       "    )\n",
       "  )\n",
       "  (transform): GeneralizedRCNNTransform(\n",
       "      Normalize(mean=[0.48235, 0.45882, 0.40784], std=[0.00392156862745098, 0.00392156862745098, 0.00392156862745098])\n",
       "      Resize(min_size=(300,), max_size=300, mode='bilinear')\n",
       "  )\n",
       ")"
      ]
     },
     "execution_count": 32,
     "metadata": {},
     "output_type": "execute_result"
    }
   ],
   "source": [
    "model_path = 'ssd_cityscapes.pth'\n",
    "model.load_state_dict(torch.load(model_path))\n",
    "model.eval()  # Set the model to evaluation mode\n"
   ]
  },
  {
   "cell_type": "code",
   "execution_count": 44,
   "metadata": {},
   "outputs": [],
   "source": [
    "from torchvision.ops import box_iou\n",
    "from sklearn.metrics import confusion_matrix\n",
    "import seaborn as sns\n",
    "import matplotlib.pyplot as plt\n",
    "import numpy as np"
   ]
  },
  {
   "cell_type": "code",
   "execution_count": 58,
   "metadata": {},
   "outputs": [],
   "source": [
    "def compute_metrics(model, data_loader, device, iou_threshold=0.3, nms_threshold=0.5, confidence_threshold=0.001):\n",
    "    model.eval()\n",
    "    all_preds = []\n",
    "    all_targets = []\n",
    "    class_counts = {i: 0 for i in range(9)}  # Assuming 9 classes including background\n",
    "    total_gt = {i: 0 for i in range(9)}  # Ground truth counts\n",
    "    \n",
    "    with torch.no_grad():\n",
    "        for images, targets in tqdm(data_loader, desc=\"Evaluating\"):\n",
    "            images = list(image.to(device) for image in images)\n",
    "            targets = [{k: v.to(device) for k, v in t.items()} for t in targets]\n",
    "            \n",
    "            outputs = model(images)\n",
    "            \n",
    "            for output, target in zip(outputs, targets):\n",
    "                boxes = output['boxes']\n",
    "                scores = output['scores']\n",
    "                labels = output['labels']\n",
    "                \n",
    "                # Filter out low confidence predictions\n",
    "                keep = scores > confidence_threshold\n",
    "                boxes = boxes[keep]\n",
    "                scores = scores[keep]\n",
    "                labels = labels[keep]\n",
    "                \n",
    "                # Apply NMS\n",
    "                keep = torchvision.ops.nms(boxes, scores, iou_threshold=nms_threshold)\n",
    "                boxes = boxes[keep]\n",
    "                scores = scores[keep]\n",
    "                labels = labels[keep]\n",
    "                \n",
    "                target_boxes = target['boxes']\n",
    "                target_labels = target['labels']\n",
    "                \n",
    "                # Count ground truths\n",
    "                for t in target_labels:\n",
    "                    total_gt[t.item()] += 1\n",
    "                \n",
    "                if len(boxes) > 0 and len(target_boxes) > 0:\n",
    "                    iou = box_iou(boxes, target_boxes)\n",
    "                    max_iou, max_idx = iou.max(dim=1)\n",
    "                    \n",
    "                    for pred_label, iou_val, target_idx in zip(labels, max_iou, max_idx):\n",
    "                        if iou_val > iou_threshold:\n",
    "                            all_preds.append(pred_label.item())\n",
    "                            all_targets.append(target_labels[target_idx].item())\n",
    "                        else:\n",
    "                            all_preds.append(0)  # 0 for background\n",
    "                            all_targets.append(target_labels[target_idx].item())\n",
    "                        class_counts[pred_label.item()] += 1\n",
    "                \n",
    "                # Add unmatched ground truths as false negatives\n",
    "                for target_label in target_labels:\n",
    "                    if target_label.item() not in all_targets[-len(target_labels):]:\n",
    "                        all_preds.append(0)  # 0 for background\n",
    "                        all_targets.append(target_label.item())\n",
    "    \n",
    "    print(\"Predictions per class:\")\n",
    "    for class_id, count in class_counts.items():\n",
    "        print(f\"Class {class_id}: {count} predictions, {total_gt[class_id]} ground truths\")\n",
    "    \n",
    "    return all_preds, all_targets\n",
    "\n",
    "    \n",
    "def print_metrics(all_preds, all_targets, class_names):\n",
    "    cm = confusion_matrix(all_targets, all_preds)\n",
    "    \n",
    "    print(\"\\nConfusion Matrix:\")\n",
    "    print(cm)\n",
    "    \n",
    "    print(\"\\nPer-class metrics:\")\n",
    "    for i, class_name in enumerate(class_names):\n",
    "        if i < cm.shape[0]:\n",
    "            tp = cm[i, i]\n",
    "            fp = cm[:, i].sum() - tp\n",
    "            fn = cm[i, :].sum() - tp\n",
    "            \n",
    "            precision = tp / (tp + fp) if (tp + fp) > 0 else 0\n",
    "            recall = tp / (tp + fn) if (tp + fn) > 0 else 0\n",
    "            f1 = 2 * (precision * recall) / (precision + recall) if (precision + recall) > 0 else 0\n",
    "            \n",
    "            print(f\"{class_name:>12}: Precision: {precision:.3f}, Recall: {recall:.3f}, F1: {f1:.3f}\")\n",
    "        else:\n",
    "            print(f\"{class_name:>12}: No data in confusion matrix\")\n",
    "    \n",
    "    # Overall metrics\n",
    "    accuracy = np.diag(cm).sum() / cm.sum()\n",
    "    print(f\"\\nOverall Accuracy: {accuracy:.3f}\")\n",
    "    \n",
    "    # Plot confusion matrix\n",
    "    plt.figure(figsize=(12, 10))\n",
    "    sns.heatmap(cm, annot=True, fmt='d', cmap='Blues', xticklabels=class_names[:cm.shape[0]], yticklabels=class_names[:cm.shape[0]])\n",
    "    plt.title('Confusion Matrix')\n",
    "    plt.xlabel('Predicted')\n",
    "    plt.ylabel('True')\n",
    "    plt.tight_layout()\n",
    "    plt.savefig('confusion_matrix.png')\n",
    "    print(\"Confusion matrix saved as 'confusion_matrix.png'\")"
   ]
  },
  {
   "cell_type": "code",
   "execution_count": 59,
   "metadata": {},
   "outputs": [
    {
     "name": "stderr",
     "output_type": "stream",
     "text": [
      "/home/zeus/miniconda3/envs/cloudspace/lib/python3.10/site-packages/torchvision/models/_utils.py:208: UserWarning: The parameter 'pretrained' is deprecated since 0.13 and may be removed in the future, please use 'weights' instead.\n",
      "  warnings.warn(\n",
      "/home/zeus/miniconda3/envs/cloudspace/lib/python3.10/site-packages/torchvision/models/_utils.py:223: UserWarning: Arguments other than a weight enum or `None` for 'weights' are deprecated since 0.13 and may be removed in the future. The current behavior is equivalent to passing `weights=SSD300_VGG16_Weights.COCO_V1`. You can also use `weights=SSD300_VGG16_Weights.DEFAULT` to get the most up-to-date weights.\n",
      "  warnings.warn(msg)\n",
      "Evaluating: 100%|██████████| 8/8 [00:16<00:00,  2.10s/it]\n"
     ]
    },
    {
     "name": "stdout",
     "output_type": "stream",
     "text": [
      "Predictions per class:\n",
      "Class 0: 0 predictions, 3419 ground truths\n",
      "Class 1: 0 predictions, 556 ground truths\n",
      "Class 2: 69961 predictions, 4667 ground truths\n",
      "Class 3: 235 predictions, 93 ground truths\n",
      "Class 4: 2173 predictions, 98 ground truths\n",
      "Class 5: 12793 predictions, 23 ground truths\n",
      "Class 6: 0 predictions, 149 ground truths\n",
      "Class 7: 12903 predictions, 1175 ground truths\n",
      "Class 8: 0 predictions, 0 ground truths\n",
      "\n",
      "Confusion Matrix:\n",
      "[[20984     0  1017     6     5     7     0    94]\n",
      " [ 2854     0   259     0     0     0     0     3]\n",
      " [52013     0  5159    29    51   594     0   450]\n",
      " [ 2679     0   139     1    13    28     0     2]\n",
      " [ 2540     0   168     3    21    42     0     2]\n",
      " [ 1254     0    33     1     5    19     0     0]\n",
      " [ 1101     0   135     0     0     4     0     6]\n",
      " [ 6097     0   717     1     0    26     0   119]]\n",
      "\n",
      "Per-class metrics:\n",
      "  background: Precision: 0.234, Recall: 0.949, F1: 0.376\n",
      "      person: Precision: 0.000, Recall: 0.000, F1: 0.000\n",
      "       rider: Precision: 0.676, Recall: 0.088, F1: 0.157\n",
      "         car: Precision: 0.024, Recall: 0.000, F1: 0.001\n",
      "       truck: Precision: 0.221, Recall: 0.008, F1: 0.015\n",
      "         bus: Precision: 0.026, Recall: 0.014, F1: 0.019\n",
      "       train: Precision: 0.000, Recall: 0.000, F1: 0.000\n",
      "  motorcycle: Precision: 0.176, Recall: 0.017, F1: 0.031\n",
      "     bicycle: No data in confusion matrix\n",
      "\n",
      "Overall Accuracy: 0.267\n",
      "Confusion matrix saved as 'confusion_matrix.png'\n",
      "\n",
      "Model summary: 80 layers, 24681542 parameters, 24642822 trainable parameters\n"
     ]
    },
    {
     "data": {
      "image/png": "[encoded data removed]",
      "text/plain": [
       "<Figure size 1200x1000 with 2 Axes>"
      ]
     },
     "metadata": {},
     "output_type": "display_data"
    }
   ],
   "source": [
    "# Load the saved model\n",
    "model = get_ssd_model(num_classes)\n",
    "model.load_state_dict(torch.load('ssd_cityscapes.pth'))\n",
    "model.to(device)\n",
    "\n",
    "# Compute metrics \n",
    "all_preds, all_targets = compute_metrics(model, val_loader, device, iou_threshold=0.3, nms_threshold=0.6, confidence_threshold=0.05)\n",
    "# Print metrics and confusion matrix\n",
    "class_names = ['background', 'person', 'rider', 'car', 'truck', 'bus', 'train', 'motorcycle', 'bicycle']\n",
    "print_metrics(all_preds, all_targets, class_names)\n",
    "\n",
    "# Print model summary\n",
    "total_params = sum(p.numel() for p in model.parameters())\n",
    "trainable_params = sum(p.numel() for p in model.parameters() if p.requires_grad)\n",
    "print(f\"\\nModel summary: {len(list(model.modules()))} layers, {total_params} parameters, {trainable_params} trainable parameters\")"
   ]
  },
  {
   "cell_type": "code",
   "execution_count": null,
   "metadata": {},
   "outputs": [],
   "source": []
  }
 ],
 "metadata": {
  "language_info": {
   "name": "python"
  }
 },
 "nbformat": 4,
 "nbformat_minor": 2
}
